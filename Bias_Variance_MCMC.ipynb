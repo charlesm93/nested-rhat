{
  "nbformat": 4,
  "nbformat_minor": 0,
  "metadata": {
    "colab": {
      "provenance": [],
      "collapsed_sections": [],
      "toc_visible": true,
      "authorship_tag": "ABX9TyMJJWzvqtBCZgGExXG58FIx",
      "include_colab_link": true
    },
    "kernelspec": {
      "name": "python3",
      "display_name": "Python 3"
    },
    "language_info": {
      "name": "python"
    },
    "accelerator": "GPU",
    "gpuClass": "standard"
  },
  "cells": [
    {
      "cell_type": "markdown",
      "metadata": {
        "id": "view-in-github",
        "colab_type": "text"
      },
      "source": [
        "<a href=\"https://colab.research.google.com/github/charlesm93/nested-rhat/blob/main/Bias_Variance_MCMC.ipynb\" target=\"_parent\"><img src=\"https://colab.research.google.com/assets/colab-badge.svg\" alt=\"Open In Colab\"/></a>"
      ]
    },
    {
      "cell_type": "markdown",
      "source": [
        "# $(\\delta, \\delta')$-reliability of $\\mathfrak n \n",
        "\\widehat R$\n",
        "\n",
        "A set of experiments to investigate the bias-variance decomposition of MCMC on a standard Gaussian (or mixture of two Gaussians). The goal is to understand the initialization conditions under which $\\mathfrak n \\widehat R$ is reliable.\n",
        "\n",
        "Copyright 2022 Charles C. Margossian\n",
        "\n"
      ],
      "metadata": {
        "id": "QbBnDQ253f0Q"
      }
    },
    {
      "cell_type": "code",
      "source": [
        "#@title Licensed under the Apache License, Version 2.0 (the \"License\"); { display-mode: \"form\" }\n",
        "# you may not use this file except in compliance with the License.\n",
        "# You may obtain a copy of the License at\n",
        "#\n",
        "# https://www.apache.org/licenses/LICENSE-2.0\n",
        "#\n",
        "# Unless required by applicable law or agreed to in writing, software\n",
        "# distributed under the License is distributed on an \"AS IS\" BASIS,\n",
        "# WITHOUT WARRANTIES OR CONDITIONS OF ANY KIND, either express or implied.\n",
        "# See the License for the specific language governing permissions and\n",
        "# limitations under the License."
      ],
      "metadata": {
        "id": "BqEbMakg4pAv"
      },
      "execution_count": null,
      "outputs": []
    },
    {
      "cell_type": "markdown",
      "source": [
        "## Setup"
      ],
      "metadata": {
        "id": "VP_PKKOUJqqJ"
      }
    },
    {
      "cell_type": "code",
      "execution_count": null,
      "metadata": {
        "id": "HA9WXcaoBHMX",
        "colab": {
          "base_uri": "https://localhost:8080/"
        },
        "outputId": "125102ae-74d5-446a-b7f7-69a8dd8c748e"
      },
      "outputs": [
        {
          "output_type": "stream",
          "name": "stdout",
          "text": [
            "Cloning into 'probability'...\n",
            "remote: Enumerating objects: 96077, done.\u001b[K\n",
            "remote: Counting objects: 100% (1080/1080), done.\u001b[K\n",
            "remote: Compressing objects: 100% (482/482), done.\u001b[K\n",
            "remote: Total 96077 (delta 693), reused 906 (delta 594), pack-reused 94997\u001b[K\n",
            "Receiving objects: 100% (96077/96077), 134.05 MiB | 17.03 MiB/s, done.\n",
            "Resolving deltas: 100% (77873/77873), done.\n",
            "Checking out files: 100% (1385/1385), done.\n",
            "Looking in indexes: https://pypi.org/simple, https://us-python.pkg.dev/colab-wheels/public/simple/\n",
            "Collecting tf-nightly\n",
            "  Downloading tf_nightly-2.11.0.dev20220822-cp37-cp37m-manylinux_2_17_x86_64.manylinux2014_x86_64.whl (582.2 MB)\n",
            "\u001b[K     |████████████████████████████████| 582.2 MB 27 kB/s \n",
            "\u001b[?25hCollecting tfp-nightly\n",
            "  Downloading tfp_nightly-0.17.0.dev20220822-py2.py3-none-any.whl (6.6 MB)\n",
            "\u001b[K     |████████████████████████████████| 6.6 MB 6.0 MB/s \n",
            "\u001b[?25hRequirement already satisfied: jax in /usr/local/lib/python3.7/dist-packages (0.3.14)\n",
            "Requirement already satisfied: jaxlib in /usr/local/lib/python3.7/dist-packages (0.3.14+cuda11.cudnn805)\n",
            "Requirement already satisfied: packaging in /usr/local/lib/python3.7/dist-packages (from tf-nightly) (21.3)\n",
            "Requirement already satisfied: h5py>=2.9.0 in /usr/local/lib/python3.7/dist-packages (from tf-nightly) (3.1.0)\n",
            "Requirement already satisfied: wrapt>=1.11.0 in /usr/local/lib/python3.7/dist-packages (from tf-nightly) (1.14.1)\n",
            "Collecting keras-nightly~=2.11.0.dev\n",
            "  Downloading keras_nightly-2.11.0.dev2022082217-py2.py3-none-any.whl (1.7 MB)\n",
            "\u001b[K     |████████████████████████████████| 1.7 MB 48.6 MB/s \n",
            "\u001b[?25hRequirement already satisfied: termcolor>=1.1.0 in /usr/local/lib/python3.7/dist-packages (from tf-nightly) (1.1.0)\n",
            "Requirement already satisfied: protobuf<3.20,>=3.9.2 in /usr/local/lib/python3.7/dist-packages (from tf-nightly) (3.17.3)\n",
            "Requirement already satisfied: keras-preprocessing>=1.1.1 in /usr/local/lib/python3.7/dist-packages (from tf-nightly) (1.1.2)\n",
            "Requirement already satisfied: typing-extensions>=3.6.6 in /usr/local/lib/python3.7/dist-packages (from tf-nightly) (4.1.1)\n",
            "Collecting gast<=0.4.0,>=0.2.1\n",
            "  Downloading gast-0.4.0-py3-none-any.whl (9.8 kB)\n",
            "Collecting tb-nightly~=2.11.0.a\n",
            "  Downloading tb_nightly-2.11.0a20220822-py3-none-any.whl (5.9 MB)\n",
            "\u001b[K     |████████████████████████████████| 5.9 MB 57.4 MB/s \n",
            "\u001b[?25hRequirement already satisfied: google-pasta>=0.1.1 in /usr/local/lib/python3.7/dist-packages (from tf-nightly) (0.2.0)\n",
            "Requirement already satisfied: astunparse>=1.6.0 in /usr/local/lib/python3.7/dist-packages (from tf-nightly) (1.6.3)\n",
            "Requirement already satisfied: tensorflow-io-gcs-filesystem>=0.23.1 in /usr/local/lib/python3.7/dist-packages (from tf-nightly) (0.26.0)\n",
            "Collecting tf-estimator-nightly~=2.11.0.dev\n",
            "  Downloading tf_estimator_nightly-2.11.0.dev2022082208-py2.py3-none-any.whl (439 kB)\n",
            "\u001b[K     |████████████████████████████████| 439 kB 74.7 MB/s \n",
            "\u001b[?25hRequirement already satisfied: six>=1.12.0 in /usr/local/lib/python3.7/dist-packages (from tf-nightly) (1.15.0)\n",
            "Requirement already satisfied: libclang>=13.0.0 in /usr/local/lib/python3.7/dist-packages (from tf-nightly) (14.0.6)\n",
            "Requirement already satisfied: numpy>=1.20 in /usr/local/lib/python3.7/dist-packages (from tf-nightly) (1.21.6)\n",
            "Requirement already satisfied: opt-einsum>=2.3.2 in /usr/local/lib/python3.7/dist-packages (from tf-nightly) (3.3.0)\n",
            "Requirement already satisfied: setuptools in /usr/local/lib/python3.7/dist-packages (from tf-nightly) (57.4.0)\n",
            "Requirement already satisfied: flatbuffers>=2.0 in /usr/local/lib/python3.7/dist-packages (from tf-nightly) (2.0)\n",
            "Requirement already satisfied: absl-py>=1.0.0 in /usr/local/lib/python3.7/dist-packages (from tf-nightly) (1.2.0)\n",
            "Requirement already satisfied: grpcio<2.0,>=1.24.3 in /usr/local/lib/python3.7/dist-packages (from tf-nightly) (1.47.0)\n",
            "Requirement already satisfied: wheel<1.0,>=0.23.0 in /usr/local/lib/python3.7/dist-packages (from astunparse>=1.6.0->tf-nightly) (0.37.1)\n",
            "Requirement already satisfied: cached-property in /usr/local/lib/python3.7/dist-packages (from h5py>=2.9.0->tf-nightly) (1.5.2)\n",
            "Requirement already satisfied: google-auth-oauthlib<0.5,>=0.4.1 in /usr/local/lib/python3.7/dist-packages (from tb-nightly~=2.11.0.a->tf-nightly) (0.4.6)\n",
            "Requirement already satisfied: tensorboard-plugin-wit>=1.6.0 in /usr/local/lib/python3.7/dist-packages (from tb-nightly~=2.11.0.a->tf-nightly) (1.8.1)\n",
            "Requirement already satisfied: markdown>=2.6.8 in /usr/local/lib/python3.7/dist-packages (from tb-nightly~=2.11.0.a->tf-nightly) (3.4.1)\n",
            "Requirement already satisfied: requests<3,>=2.21.0 in /usr/local/lib/python3.7/dist-packages (from tb-nightly~=2.11.0.a->tf-nightly) (2.23.0)\n",
            "Requirement already satisfied: tensorboard-data-server<0.7.0,>=0.6.0 in /usr/local/lib/python3.7/dist-packages (from tb-nightly~=2.11.0.a->tf-nightly) (0.6.1)\n",
            "Requirement already satisfied: werkzeug>=1.0.1 in /usr/local/lib/python3.7/dist-packages (from tb-nightly~=2.11.0.a->tf-nightly) (1.0.1)\n",
            "Requirement already satisfied: google-auth<3,>=1.6.3 in /usr/local/lib/python3.7/dist-packages (from tb-nightly~=2.11.0.a->tf-nightly) (1.35.0)\n",
            "Requirement already satisfied: cachetools<5.0,>=2.0.0 in /usr/local/lib/python3.7/dist-packages (from google-auth<3,>=1.6.3->tb-nightly~=2.11.0.a->tf-nightly) (4.2.4)\n",
            "Requirement already satisfied: pyasn1-modules>=0.2.1 in /usr/local/lib/python3.7/dist-packages (from google-auth<3,>=1.6.3->tb-nightly~=2.11.0.a->tf-nightly) (0.2.8)\n",
            "Requirement already satisfied: rsa<5,>=3.1.4 in /usr/local/lib/python3.7/dist-packages (from google-auth<3,>=1.6.3->tb-nightly~=2.11.0.a->tf-nightly) (4.9)\n",
            "Requirement already satisfied: requests-oauthlib>=0.7.0 in /usr/local/lib/python3.7/dist-packages (from google-auth-oauthlib<0.5,>=0.4.1->tb-nightly~=2.11.0.a->tf-nightly) (1.3.1)\n",
            "Requirement already satisfied: importlib-metadata>=4.4 in /usr/local/lib/python3.7/dist-packages (from markdown>=2.6.8->tb-nightly~=2.11.0.a->tf-nightly) (4.12.0)\n",
            "Requirement already satisfied: zipp>=0.5 in /usr/local/lib/python3.7/dist-packages (from importlib-metadata>=4.4->markdown>=2.6.8->tb-nightly~=2.11.0.a->tf-nightly) (3.8.1)\n",
            "Requirement already satisfied: pyasn1<0.5.0,>=0.4.6 in /usr/local/lib/python3.7/dist-packages (from pyasn1-modules>=0.2.1->google-auth<3,>=1.6.3->tb-nightly~=2.11.0.a->tf-nightly) (0.4.8)\n",
            "Requirement already satisfied: urllib3!=1.25.0,!=1.25.1,<1.26,>=1.21.1 in /usr/local/lib/python3.7/dist-packages (from requests<3,>=2.21.0->tb-nightly~=2.11.0.a->tf-nightly) (1.24.3)\n",
            "Requirement already satisfied: certifi>=2017.4.17 in /usr/local/lib/python3.7/dist-packages (from requests<3,>=2.21.0->tb-nightly~=2.11.0.a->tf-nightly) (2022.6.15)\n",
            "Requirement already satisfied: idna<3,>=2.5 in /usr/local/lib/python3.7/dist-packages (from requests<3,>=2.21.0->tb-nightly~=2.11.0.a->tf-nightly) (2.10)\n",
            "Requirement already satisfied: chardet<4,>=3.0.2 in /usr/local/lib/python3.7/dist-packages (from requests<3,>=2.21.0->tb-nightly~=2.11.0.a->tf-nightly) (3.0.4)\n",
            "Requirement already satisfied: oauthlib>=3.0.0 in /usr/local/lib/python3.7/dist-packages (from requests-oauthlib>=0.7.0->google-auth-oauthlib<0.5,>=0.4.1->tb-nightly~=2.11.0.a->tf-nightly) (3.2.0)\n",
            "Requirement already satisfied: decorator in /usr/local/lib/python3.7/dist-packages (from tfp-nightly) (4.4.2)\n",
            "Requirement already satisfied: dm-tree in /usr/local/lib/python3.7/dist-packages (from tfp-nightly) (0.1.7)\n",
            "Requirement already satisfied: cloudpickle>=1.3 in /usr/local/lib/python3.7/dist-packages (from tfp-nightly) (1.5.0)\n",
            "Requirement already satisfied: scipy>=1.5 in /usr/local/lib/python3.7/dist-packages (from jax) (1.7.3)\n",
            "Requirement already satisfied: etils[epath] in /usr/local/lib/python3.7/dist-packages (from jax) (0.7.1)\n",
            "Requirement already satisfied: importlib_resources in /usr/local/lib/python3.7/dist-packages (from etils[epath]->jax) (5.9.0)\n",
            "Requirement already satisfied: pyparsing!=3.0.5,>=2.0.2 in /usr/local/lib/python3.7/dist-packages (from packaging->tf-nightly) (3.0.9)\n",
            "Installing collected packages: tf-estimator-nightly, tb-nightly, keras-nightly, gast, tfp-nightly, tf-nightly\n",
            "  Attempting uninstall: gast\n",
            "    Found existing installation: gast 0.5.3\n",
            "    Uninstalling gast-0.5.3:\n",
            "      Successfully uninstalled gast-0.5.3\n",
            "Successfully installed gast-0.4.0 keras-nightly-2.11.0.dev2022082217 tb-nightly-2.11.0a20220822 tf-estimator-nightly-2.11.0.dev2022082208 tf-nightly-2.11.0.dev20220822 tfp-nightly-0.17.0.dev20220822\n"
          ]
        }
      ],
      "source": [
        "# Pavel's code to get fun_mc running \n",
        "!rm -Rf probability\n",
        "!rm -Rf fun_mc\n",
        "!rm -Rf inference_gym\n",
        "!git clone https://github.com/tensorflow/probability.git\n",
        "!mv probability/spinoffs/fun_mc/fun_mc .\n",
        "!mv probability/spinoffs/inference_gym/inference_gym .\n",
        "!pip install tf-nightly tfp-nightly jax jaxlib"
      ]
    },
    {
      "cell_type": "code",
      "source": [
        "!pip install immutabledict"
      ],
      "metadata": {
        "colab": {
          "base_uri": "https://localhost:8080/"
        },
        "id": "xT8VHaNRKR8T",
        "outputId": "7504973b-4b49-496f-da66-0db3ce9e673b"
      },
      "execution_count": null,
      "outputs": [
        {
          "output_type": "stream",
          "name": "stdout",
          "text": [
            "Looking in indexes: https://pypi.org/simple, https://us-python.pkg.dev/colab-wheels/public/simple/\n",
            "Collecting immutabledict\n",
            "  Downloading immutabledict-2.2.1-py3-none-any.whl (4.0 kB)\n",
            "Installing collected packages: immutabledict\n",
            "Successfully installed immutabledict-2.2.1\n"
          ]
        }
      ]
    },
    {
      "cell_type": "code",
      "source": [
        "import numpy as np\n",
        "\n",
        "import jax\n",
        "import jax.numpy as jnp\n",
        "import matplotlib.pyplot as plt\n",
        "\n",
        "# from colabtools import adhoc_import  (only needed inside Google)\n",
        "from contextlib import ExitStack\n",
        "\n",
        "from fun_mc import using_jax as fun_mc\n",
        "\n",
        "# ADHOC = True\n",
        "# CLIENT = 'fig-export-fig_tree-change-451-3e0a679e9746'\n",
        "\n",
        "import tensorflow_probability.substrates.jax as tfp\n",
        "\n",
        "tfd = tfp.distributions\n",
        "\n",
        "from inference_gym import using_jax as gym\n"
      ],
      "metadata": {
        "id": "n8xcV5axKUBp"
      },
      "execution_count": null,
      "outputs": []
    },
    {
      "cell_type": "code",
      "source": [
        "from functools import partial"
      ],
      "metadata": {
        "id": "-plBOO78Ze7T"
      },
      "execution_count": null,
      "outputs": []
    },
    {
      "cell_type": "code",
      "source": [
        "from google.colab import files  # use this download saved plots"
      ],
      "metadata": {
        "id": "ISRWUw24Yfcv"
      },
      "execution_count": null,
      "outputs": []
    },
    {
      "cell_type": "markdown",
      "source": [
        "## Tools"
      ],
      "metadata": {
        "id": "7OYx7FKtkNwq"
      }
    },
    {
      "cell_type": "code",
      "source": [
        "# For a given kernel, runs 'replicas' super chains, each made up of\n",
        "# 'num_chains' chains and N = 1 sample. Estimate B / W.\n",
        "# Estimate the expected squared error, expected squared bias and check\n",
        "# the index after which B / W < delta.\n",
        "def run_experiment(kernel, target_log_prob_fn, num_warmup,\n",
        "                   init_dist, delta, replicas, num_chains):\n",
        "  # initialize all chains within a group at the same point\n",
        "  init = init_dist.sample([replicas // num_chains], seed=jax.random.PRNGKey(0))\n",
        "  init_x = jnp.repeat(init, num_chains, axis = 0)\n",
        "\n",
        "  _, (chain, is_accepted) = fun_mc.trace(\n",
        "      (fun_mc.hamiltonian_monte_carlo_init(init_x, target_log_prob_fn),\n",
        "       jax.random.PRNGKey(0)), kernel, num_warmup)\n",
        "\n",
        "  # sort chains by groups of chains\n",
        "  chain = chain.reshape(num_warmup, replicas // num_chains, num_chains)\n",
        "\n",
        "  # Compute Monte Carlo estimators (using N = 1, after W warmup)\n",
        "  super_mean = jnp.mean(chain, axis = 2)\n",
        "  var_mc = jnp.var(super_mean, axis = 1)             # B\n",
        "  var_within = jnp.var(chain, axis = 2)\n",
        "  mean_var_within = jnp.mean(var_within, axis = 1)   # W\n",
        "\n",
        "  # Estimate squared error\n",
        "  true_mean = 0\n",
        "  squared_err_mc = jnp.mean(jnp.square(super_mean - true_mean), 1)\n",
        "\n",
        "  # Estimate squared bias\n",
        "  bias_2_mc = squared_err_mc - var_mc\n",
        "\n",
        "  B_W = var_mc / mean_var_within\n",
        "\n",
        "  # Check condition for whether variance is a good proxy for error.\n",
        "  search_index = jnp.where(B_W <= delta)\n",
        "  if (len(search_index[0] >= 1)):\n",
        "    index_convergence = jnp.where(B_W <= delta)[0][0]\n",
        "    converged = True\n",
        "  else:\n",
        "    index_convergence = 0\n",
        "    converged = False\n",
        "\n",
        "  return squared_err_mc[index_convergence], bias_2_mc[index_convergence], converged, chain\n"
      ],
      "metadata": {
        "id": "QGbYN1giR-OA"
      },
      "execution_count": null,
      "outputs": []
    },
    {
      "cell_type": "code",
      "source": [
        "def sigma_bound(mu0, num_chains, delta, delta_prime, sigma = 1):\n",
        "  return (delta - 1 / num_chains) * (mu0**2 / (delta_prime * sigma**2) - 1) * sigma**2\n"
      ],
      "metadata": {
        "id": "D1uxqgI8WI4b"
      },
      "execution_count": null,
      "outputs": []
    },
    {
      "cell_type": "code",
      "source": [
        "num_chains = 16               # size of a super-chain (also number of samples)\n",
        "replicas = num_chains * 1024  # 1024  # repeat experiment for sample estimates"
      ],
      "metadata": {
        "id": "Nu4d9c-bmbz0"
      },
      "execution_count": null,
      "outputs": []
    },
    {
      "cell_type": "markdown",
      "source": [
        "## Standard Gaussian target"
      ],
      "metadata": {
        "id": "HZ4JO1OzKb5H"
      }
    },
    {
      "cell_type": "code",
      "source": [
        "dist = tfd.Normal(0., 1.)\n",
        "\n",
        "# tuning parameters for basic HMC\n",
        "num_warmup = 20000\n",
        "\n",
        "def target_log_prob_fn(x):\n",
        "  return dist.log_prob(x), ()\n",
        "\n",
        "def kernel(hmc_state, seed):\n",
        "  hmc_seed, seed = jax.random.split(seed)\n",
        "  hmc_state, hmc_extra = fun_mc.hamiltonian_monte_carlo_step(\n",
        "      hmc_state,\n",
        "      target_log_prob_fn=target_log_prob_fn,\n",
        "      step_size=.05,\n",
        "      num_integrator_steps=1,\n",
        "      seed=hmc_seed)\n",
        "  return (hmc_state, seed), (hmc_state.state, hmc_extra.is_accepted)\n"
      ],
      "metadata": {
        "id": "-IYylsQlKfHb"
      },
      "execution_count": null,
      "outputs": []
    },
    {
      "cell_type": "code",
      "source": [
        "delta = (1 / num_chains) * 1.5\n",
        "delta_prime = delta / 5\n",
        "mu0_vec = jnp.linspace(start = 0., stop = 12., num = 100)\n",
        "lower_bound = sigma_bound(mu0_vec, num_chains, delta, delta_prime)"
      ],
      "metadata": {
        "id": "p-ZrmrAVW-Uv"
      },
      "execution_count": null,
      "outputs": []
    },
    {
      "cell_type": "code",
      "source": [
        "mu0 = jnp.array([0.,\n",
        "                 1., 1., 1., 1., 1.,\n",
        "                 5., 5., 5., 5., 5., 5.,\n",
        "                 7., 7., 7., 7., 7., 7., 7., 7.,\n",
        "                 9., 9., 9., 9., 9., 9., 9., 9.,\n",
        "                 12., 12., 12., 12., 12., 12., 12., 12.])\n",
        "\n",
        "sigma0 = 2 * jnp.array([1.,\n",
        "                    .3, .4, .5, .6, .7, \n",
        "                    1., 1.5, 2., 2.5, 3., 3.5,\n",
        "                    1., 1.5, 2, 2.5, 3, 3.5, 4, 4.5,\n",
        "                    2, 2.5, 3., 3.5, 4., 4.5, 5., 5.5, \n",
        "                    2.5, 4, 4.5, 5, 5.5, 6., 6.5, 7]) * 1.3\n"
      ],
      "metadata": {
        "id": "EYG32CGJmfnI"
      },
      "execution_count": null,
      "outputs": []
    },
    {
      "cell_type": "code",
      "source": [
        "squared_error = []\n",
        "squared_bias = []\n",
        "converged = []\n",
        "for i in range(0, mu0.shape[0]):\n",
        "  init_dist = tfd.Normal(mu0[i], sigma0[i])\n",
        "\n",
        "  squared_error_local, squared_bias_local, converged_local, chain =\\\n",
        "    run_experiment(kernel = kernel, target_log_prob_fn = target_log_prob_fn,\n",
        "                   num_warmup = num_warmup, init_dist = init_dist,\n",
        "                   delta = delta, replicas = replicas, num_chains = num_chains)\n",
        "  \n",
        "  squared_error.append(squared_error_local)\n",
        "  squared_bias.append(squared_bias_local)\n",
        "  converged.append(converged_local)\n"
      ],
      "metadata": {
        "id": "oU-O9pdjnicb"
      },
      "execution_count": null,
      "outputs": []
    },
    {
      "cell_type": "code",
      "source": [
        "reliable = (jnp.array(converged) < 1) | (jnp.array(squared_bias) < delta_prime)"
      ],
      "metadata": {
        "id": "qUhCtfIUmiR9"
      },
      "execution_count": null,
      "outputs": []
    },
    {
      "cell_type": "code",
      "source": [
        "jnp.transpose(jnp.array(converged))"
      ],
      "metadata": {
        "colab": {
          "base_uri": "https://localhost:8080/"
        },
        "id": "BgjQA995PLmD",
        "outputId": "e05ffc1e-f67a-47a6-c4fd-918c84c03e9c"
      },
      "execution_count": null,
      "outputs": [
        {
          "output_type": "execute_result",
          "data": {
            "text/plain": [
              "DeviceArray([ True,  True,  True,  True,  True,  True,  True,  True,\n",
              "              True,  True,  True,  True,  True,  True,  True,  True,\n",
              "              True,  True,  True,  True,  True,  True,  True,  True,\n",
              "              True,  True,  True,  True,  True,  True,  True,  True,\n",
              "              True,  True,  True,  True], dtype=bool)"
            ]
          },
          "metadata": {},
          "execution_count": 150
        }
      ]
    },
    {
      "cell_type": "code",
      "source": [
        "fig, ax = plt.subplots(figsize = [7, 7])\n",
        "\n",
        "scatter = ax.scatter(mu0, jnp.square(sigma0), c = reliable, alpha = 1.0, cmap = \"Set1\")\n",
        "line = ax.plot(mu0_vec, lower_bound, label = 'lower bound')\n",
        "\n",
        "legend1 = ax.legend(*scatter.legend_elements(),\n",
        "                   loc=\"best\", title=\"Reliable\")\n",
        "ax.add_artist(legend1)\n",
        "ax.legend(loc = \"upper center\")\n",
        "\n",
        "fig.show()"
      ],
      "metadata": {
        "colab": {
          "base_uri": "https://localhost:8080/",
          "height": 428
        },
        "id": "kLK3O_Tgim55",
        "outputId": "4c88a138-afad-4d99-d35e-661cf0e9029f"
      },
      "execution_count": null,
      "outputs": [
        {
          "output_type": "display_data",
          "data": {
            "text/plain": [
              "<Figure size 504x504 with 1 Axes>"
            ],
            "image/png": "[encoded data removed]"
          },
          "metadata": {
            "needs_background": "light"
          }
        }
      ]
    },
    {
      "cell_type": "markdown",
      "source": [
        "## Mixture of Gaussians"
      ],
      "metadata": {
        "id": "IbwpeInG04V5"
      }
    },
    {
      "cell_type": "code",
      "source": [
        "dist = tfd.MixtureSameFamily(\n",
        "    mixture_distribution=tfd.Categorical(probs=[0.2, 0.8]), \n",
        "    components_distribution=tfd.Normal(\n",
        "      loc=[-8, 2],\n",
        "      scale=[1, 1]))\n",
        "\n",
        "# tuning parameters for basic HMC\n",
        "n_steps = 100\n",
        "num_samples = 10000\n",
        "\n",
        "def target_log_prob_fn(x):\n",
        "  return dist.log_prob(x), ()\n",
        "\n",
        "def kernel(hmc_state, seed):\n",
        "  hmc_seed, seed = jax.random.split(seed)\n",
        "  hmc_state, hmc_extra = fun_mc.hamiltonian_monte_carlo_step(\n",
        "      hmc_state,\n",
        "      target_log_prob_fn=target_log_prob_fn,\n",
        "      step_size=1,\n",
        "      num_integrator_steps=1,\n",
        "      seed=hmc_seed)\n",
        "  return (hmc_state, seed), (hmc_state.state, hmc_extra.is_accepted)"
      ],
      "metadata": {
        "id": "mY3bdyqm06Ff"
      },
      "execution_count": null,
      "outputs": []
    },
    {
      "cell_type": "code",
      "source": [
        "squared_error_mixed = []\n",
        "squared_bias_mixed = []\n",
        "converged_mixed = []\n",
        "for i in range(0, mu0.shape[0]):\n",
        "  init_dist = tfd.Normal(mu0[i], sigma0[i])\n",
        "\n",
        "  squared_error_local, squared_bias_local, converged_local, chain =\\\n",
        "    run_experiment(kernel = kernel, target_log_prob_fn = target_log_prob_fn,\n",
        "                   num_warmup = num_warmup, init_dist = init_dist,\n",
        "                   delta = delta, replicas = replicas, num_chains = num_chains)\n",
        "  \n",
        "  squared_error_mixed.append(squared_error_local)\n",
        "  squared_bias_mixed.append(squared_bias_local)\n",
        "  converged_mixed.append(converged_local)\n"
      ],
      "metadata": {
        "id": "Zb0yMQ4A4X26"
      },
      "execution_count": null,
      "outputs": []
    },
    {
      "cell_type": "code",
      "source": [
        "reliable_mixed = (jnp.array(converged_mixed) < 1) | (jnp.array(squared_bias_mixed) < delta_prime)"
      ],
      "metadata": {
        "id": "HW4doGhp0W3s"
      },
      "execution_count": null,
      "outputs": []
    },
    {
      "cell_type": "code",
      "source": [
        "fig, ax = plt.subplots(1, 2, figsize = [10, 5])\n",
        "\n",
        "scatter = ax[0].scatter(mu0, jnp.square(sigma0), c = reliable, alpha = 1.0, cmap = \"Set1\")\n",
        "line = ax[0].plot(mu0_vec, lower_bound, label = 'lower bound')\n",
        "\n",
        "scatter_mixed = ax[1].scatter(mu0, jnp.square(sigma0), c = reliable_mixed, alpha = 1.0, cmap = \"Set1\")\n",
        "line_mixed = ax[1].plot(mu0_vec, lower_bound, label = 'lower bound')\n",
        "\n",
        "legend1 = ax[0].legend(*scatter.legend_elements(),\n",
        "                   loc=\"best\", title=\"Reliable\")\n",
        "ax[0].add_artist(legend1)\n",
        "ax[0].legend(loc = \"upper center\")\n",
        "\n",
        "ax[0].set_title(\"Gaussian target\")\n",
        "ax[1].set_title(\"Mixture of Gaussians\")\n",
        "\n",
        "fig.text(0.05, 0.5, '$\\sigma_0^2$', ha='center', va='center', rotation='vertical')\n",
        "fig.text(0.5, 0.025, \"$\\mu_0$\", ha=\"center\", va=\"center\")\n",
        "\n",
        "fig.savefig(\"reliable.pdf\")\n",
        "files.download(\"reliable.pdf\")"
      ],
      "metadata": {
        "colab": {
          "base_uri": "https://localhost:8080/",
          "height": 361
        },
        "id": "uVdQt-Ee0a7d",
        "outputId": "0e82074f-fe92-4355-d2a2-42ebcd9a5de0"
      },
      "execution_count": null,
      "outputs": [
        {
          "output_type": "display_data",
          "data": {
            "text/plain": [
              "<IPython.core.display.Javascript object>"
            ],
            "application/javascript": [
              "\n",
              "    async function download(id, filename, size) {\n",
              "      if (!google.colab.kernel.accessAllowed) {\n",
              "        return;\n",
              "      }\n",
              "      const div = document.createElement('div');\n",
              "      const label = document.createElement('label');\n",
              "      label.textContent = `Downloading \"${filename}\": `;\n",
              "      div.appendChild(label);\n",
              "      const progress = document.createElement('progress');\n",
              "      progress.max = size;\n",
              "      div.appendChild(progress);\n",
              "      document.body.appendChild(div);\n",
              "\n",
              "      const buffers = [];\n",
              "      let downloaded = 0;\n",
              "\n",
              "      const channel = await google.colab.kernel.comms.open(id);\n",
              "      // Send a message to notify the kernel that we're ready.\n",
              "      channel.send({})\n",
              "\n",
              "      for await (const message of channel.messages) {\n",
              "        // Send a message to notify the kernel that we're ready.\n",
              "        channel.send({})\n",
              "        if (message.buffers) {\n",
              "          for (const buffer of message.buffers) {\n",
              "            buffers.push(buffer);\n",
              "            downloaded += buffer.byteLength;\n",
              "            progress.value = downloaded;\n",
              "          }\n",
              "        }\n",
              "      }\n",
              "      const blob = new Blob(buffers, {type: 'application/binary'});\n",
              "      const a = document.createElement('a');\n",
              "      a.href = window.URL.createObjectURL(blob);\n",
              "      a.download = filename;\n",
              "      div.appendChild(a);\n",
              "      a.click();\n",
              "      div.remove();\n",
              "    }\n",
              "  "
            ]
          },
          "metadata": {}
        },
        {
          "output_type": "display_data",
          "data": {
            "text/plain": [
              "<IPython.core.display.Javascript object>"
            ],
            "application/javascript": [
              "download(\"download_3291885c-22de-4c73-a4df-30e39c1676e6\", \"reliable.pdf\", 19020)"
            ]
          },
          "metadata": {}
        },
        {
          "output_type": "display_data",
          "data": {
            "text/plain": [
              "<Figure size 720x360 with 2 Axes>"
            ],
            "image/png": "[encoded data removed]"
          },
          "metadata": {
            "needs_background": "light"
          }
        }
      ]
    },
    {
      "cell_type": "code",
      "source": [
        "fig, ax = plt.subplots(1, 2, sharey = False, sharex = True,\n",
        "                   figsize=(8, 4))\n",
        "ax[0].plot(between_reg_uni, label='single chain')\n",
        "ax[0].plot(between_nested_uni, label='super chain')\n",
        "ax[0].plot(between_nested_naive_uni, label = 'super chain (naive)')\n",
        "ax[0].legend(loc = \"bottom left\")\n",
        "ax[0].set_title(\"Unimodal target\")\n",
        "\n",
        "ax[0].set_yscale('log')\n",
        "\n",
        "ax[1].plot(between_reg, label='single chain')\n",
        "ax[1].plot(between_nested, label='super chain')\n",
        "ax[1].plot(between_nested_naive, label = 'super chain (naive)')\n",
        "ax[1].set_title(\"Bimodal target\")\n",
        "\n",
        "ax[1].set_xscale('log')\n",
        "ax[1].set_yscale('log')\n",
        "# ax[1].set_xlabel('Chain Length')\n",
        "\n",
        "fig.text(0.05, 0.5, 'Variance of Monte Carlo Estimator', ha='center', va='center', rotation='vertical')\n",
        "fig.text(0.5, 0.025, \"Chain Length\", ha=\"center\", va=\"center\")"
      ],
      "metadata": {
        "id": "IQvrjbFtVvKm"
      },
      "execution_count": null,
      "outputs": []
    },
    {
      "cell_type": "markdown",
      "source": [
        "## Banana"
      ],
      "metadata": {
        "id": "qRHrXNyy7hVP"
      }
    },
    {
      "cell_type": "code",
      "source": [
        "dist = tfd.MixtureSameFamily(\n",
        "    mixture_distribution=tfd.Categorical(probs=[0.2, 0.8]), \n",
        "    components_distribution=tfd.Normal(\n",
        "      loc=[-8, 2],\n",
        "      scale=[1, 1]))\n",
        "\n",
        "# tuning parameters for basic HMC\n",
        "n_steps = 100\n",
        "num_samples = 10000\n",
        "\n",
        "target = gym.targets.VectorModel(gym.targets.Banana(),\n",
        "                                  flatten_sample_transformations=True)\n",
        "num_dimensions = target.event_shape[0]  \n",
        "init_step_size = 1.\n",
        "\n",
        "def target_log_prob_fn(x):\n",
        "  \"\"\"Unnormalized, unconstrained target density.\n",
        "  \n",
        "  This is a thin wrapper that applies the default bijectors so that we can\n",
        "  ignore any constraints.\n",
        "  \"\"\"\n",
        "  y = target.default_event_space_bijector(x)\n",
        "  fldj = target.default_event_space_bijector.forward_log_det_jacobian(x)\n",
        "  return target.unnormalized_log_prob(y) + fldj\n",
        "\n",
        "\n",
        "def kernel(hmc_state, seed):\n",
        "  hmc_seed, seed = jax.random.split(seed)\n",
        "  hmc_state, hmc_extra = fun_mc.hamiltonian_monte_carlo_step(\n",
        "      hmc_state,\n",
        "      target_log_prob_fn=target_log_prob_fn,\n",
        "      step_size=0.5,\n",
        "      num_integrator_steps=1,\n",
        "      seed=hmc_seed)\n",
        "  return (hmc_state, seed), (hmc_state.state, hmc_extra.is_accepted)"
      ],
      "metadata": {
        "colab": {
          "base_uri": "https://localhost:8080/"
        },
        "id": "z-NOACS-7i0F",
        "outputId": "aae9e6e2-fd1b-4b02-a756-40fc0c5f5fa8"
      },
      "execution_count": null,
      "outputs": [
        {
          "output_type": "stream",
          "name": "stderr",
          "text": [
            "/usr/local/lib/python3.7/dist-packages/jax/_src/numpy/lax_numpy.py:4457: UserWarning: Explicitly requested dtype float64 requested in astype is not available, and will be truncated to dtype float32. To enable more dtypes, set the jax_enable_x64 configuration option or the JAX_ENABLE_X64 shell environment variable. See https://github.com/google/jax#current-gotchas for more.\n",
            "  lax_internal._check_user_dtype_supported(dtype, \"astype\")\n"
          ]
        }
      ]
    },
    {
      "cell_type": "code",
      "source": [
        "# parameters for initial distributions\n",
        "init_param = jnp.array([[0, 1], \n",
        "                        [1, .01], [1, .1], [1, 1], \n",
        "                        [10, .1], [10, 1], [10, 10], [10, 30],\n",
        "                        [20, .1], [20, 1], [20, 10], [20, 60]])\n",
        "\n",
        "# tolerance for Monte Carlo variance\n",
        "delta = 0.02"
      ],
      "metadata": {
        "id": "4ZysbjJl8iV0"
      },
      "execution_count": null,
      "outputs": []
    },
    {
      "cell_type": "markdown",
      "source": [
        "## Draft code"
      ],
      "metadata": {
        "id": "H1MdrnENvlP1"
      }
    },
    {
      "cell_type": "code",
      "source": [
        "# initial distributions\n",
        "dist_bias = tfd.Normal(50., 50)  # bias, mildly dispersed"
      ],
      "metadata": {
        "id": "GBjtLEj5akRG"
      },
      "execution_count": null,
      "outputs": []
    },
    {
      "cell_type": "code",
      "source": [
        "# Draw sample from underdispersed bias distribution\n",
        "init_x = dist_bias.sample([replicas], seed=jax.random.PRNGKey(0))\n",
        "\n",
        "_, (chain, is_accepted) = fun_mc.trace((fun_mc.hamiltonian_monte_carlo_init(init_x,\n",
        "    target_log_prob_fn), jax.random.PRNGKey(0)), kernel, num_samples)\n",
        "\n",
        "chain = jnp.concatenate([init_x[jnp.newaxis], chain], 0)\n",
        "\n",
        "# sort chains by groups of chains\n",
        "chain = chain.reshape(num_samples + 1, num_chains, replicas // num_chains)"
      ],
      "metadata": {
        "id": "kfK-UPCUOO6p"
      },
      "execution_count": null,
      "outputs": []
    },
    {
      "cell_type": "code",
      "source": [
        "# check mixing\n",
        "plt.plot(chain[:, :, 0])\n",
        "plt.show()"
      ],
      "metadata": {
        "colab": {
          "base_uri": "https://localhost:8080/",
          "height": 265
        },
        "id": "tUzEBupIQfsX",
        "outputId": "00d57701-9773-4720-b1e2-afbeacf3d0a5"
      },
      "execution_count": null,
      "outputs": [
        {
          "output_type": "display_data",
          "data": {
            "text/plain": [
              "<Figure size 432x288 with 1 Axes>"
            ],
            "image/png": "[encoded data removed]"
          },
          "metadata": {
            "needs_background": "light"
          }
        }
      ]
    },
    {
      "cell_type": "code",
      "source": [
        "# i = 10\n",
        "# mean_var_local = jnp.mean(jnp.var(chain[:i, :, :], axis = 0, ddof=1), axis = 0)\n",
        "# mean_var_local.shape\n",
        "\n",
        "# # @partial(jnp.vectorize, signature = None)\n",
        "# def mean_within_chain_variance(index):\n",
        "#   return jnp.mean(jnp.var(chain[:index,:,:], axis = 0, ddof = 1), axis = 0)\n",
        "\n",
        "# vectorize_W = jax.vmap(mean_within_chain_variance)\n",
        "\n",
        "# index_arg = jnp.arange(1, chain.shape[0] + 1).astype(int)\n",
        "\n",
        "# var_local = vectorize_W(index_arg)"
      ],
      "metadata": {
        "id": "A1vYQjQAZiJv"
      },
      "execution_count": null,
      "outputs": []
    },
    {
      "cell_type": "code",
      "source": [
        "# Compute Monte Carlo estimators (using two chains for each)\n",
        "cum_mc = jnp.sum(jnp.cumsum(chain, 0), 1) / jnp.arange(1, chain.shape[0] + 1)[:, jnp.newaxis]\n",
        "\n",
        "# Estimate variance of Monte Carlo estimators\n",
        "var_mc = cum_mc.var(1)\n",
        "\n",
        "# Estimate mean within-chain variance\n",
        "# For now, set it to 1 (which is its asymptotic value...)\n",
        "# TODO: find a fast way to compute W...\n",
        "var_within_chain = jnp.repeat(1, num_samples + 1)\n",
        "\n",
        "# Estimate squared error\n",
        "true_mean = 0\n",
        "squared_err_mc = jnp.mean(jnp.square(cum_mc - true_mean), 1)\n",
        "\n",
        "# Estimate squared bias\n",
        "bias_2_mc = squared_err_mc - var_mc\n",
        "\n",
        "# Check condition for whether variance is a good proxy for error.\n",
        "index_conv = jnp.where(var_mc <= 0.02)[0][0]\n",
        "print(\"squared_err\", squared_err_mc[index_conv])\n"
      ],
      "metadata": {
        "id": "EU-K0VRQTcgZ",
        "colab": {
          "base_uri": "https://localhost:8080/"
        },
        "outputId": "a6463831-7934-4bb5-ce07-bae45cb5d04a"
      },
      "execution_count": null,
      "outputs": [
        {
          "output_type": "stream",
          "name": "stdout",
          "text": [
            "squared_err 0.070196316\n"
          ]
        }
      ]
    },
    {
      "cell_type": "code",
      "source": [
        "plt.plot(var_mc, label = 'B / W')\n",
        "# plt.plot(squared_err_mc, label = 'squared error')\n",
        "plt.plot(bias_2_mc, label = 'squared bias')\n",
        "plt.xscale('log')\n",
        "plt.yscale('log')\n",
        "plt.axhline(2 * 1e-2, ls='--', color='black', lw=2)\n",
        "plt.legend()\n",
        "plt.show()"
      ],
      "metadata": {
        "colab": {
          "base_uri": "https://localhost:8080/",
          "height": 269
        },
        "id": "LGPSLs9-Vx7O",
        "outputId": "d6da83d6-0006-4365-f8bf-ddcb4ae3c188"
      },
      "execution_count": null,
      "outputs": [
        {
          "output_type": "display_data",
          "data": {
            "text/plain": [
              "<Figure size 432x288 with 1 Axes>"
            ],
            "image/png": "[encoded data removed]"
          },
          "metadata": {
            "needs_background": "light"
          }
        }
      ]
    },
    {
      "cell_type": "code",
      "source": [
        "# dist = tfd.MixtureSameFamily(\n",
        "#     mixture_distribution=tfd.Categorical(probs=[0.3, 0.7]), \n",
        "#     components_distribution=tfd.Normal(\n",
        "#       loc=[-5, 5],\n",
        "#       scale=[1, 1]))"
      ],
      "metadata": {
        "id": "cSYldMmXmUiR"
      },
      "execution_count": null,
      "outputs": []
    },
    {
      "cell_type": "code",
      "source": [
        "# For a given MCMC kernel and initial distribution,\n",
        "# evaluate the squared bias after which the scaled variance\n",
        "# is below a certain threshold delta.\n",
        "#\n",
        "# DEPRECATED -- used for multiple chains.\n",
        "def run_experiment_deprecated(kernel, target_log_prob_fn, num_samples,\n",
        "                   init_dist, delta, replicas, num_chains):\n",
        "  init_x = init_dist.sample([replicas], seed=jax.random.PRNGKey(0))\n",
        "\n",
        "  _, (chain, is_accepted) = fun_mc.trace((fun_mc.hamiltonian_monte_carlo_init(init_x,\n",
        "      target_log_prob_fn), jax.random.PRNGKey(0)), kernel, num_samples)\n",
        "\n",
        "  chain = jnp.concatenate([init_x[jnp.newaxis], chain], 0)\n",
        "\n",
        "  # sort chains by groups of chains\n",
        "  chain = chain.reshape(num_samples + 1, num_chains, replicas // num_chains)\n",
        "\n",
        "  # Compute Monte Carlo estimators (using num_chains)\n",
        "  cum_mc = jnp.sum(jnp.cumsum(chain, 0), 1) / jnp.arange(1, chain.shape[0] + 1)[:, jnp.newaxis]\n",
        "\n",
        "  # Estimate variance of Monte Carlo estimators\n",
        "  var_mc = cum_mc.var(axis = 1)\n",
        "\n",
        "  # Estimate mean within-chain variance\n",
        "  # TODO: find a fast way to compute W...\n",
        "  # var_within_chain = jnp.repeat(1, num_samples + 1)\n",
        "  var_within_chain = jnp.var(mean, axis = 1)\n",
        "\n",
        "  # Estimate squared error\n",
        "  true_mean = 0\n",
        "  squared_err_mc = jnp.mean(jnp.square(super_mean - true_mean), 1)\n",
        "\n",
        "  # Estimate squared bias\n",
        "  bias_2_mc = squared_err_mc - var_mc\n",
        "\n",
        "  # Check condition for whether variance is a good proxy for error.\n",
        "  search_index = jnp.where(var_mc / var_within_chain <= delta)\n",
        "  if (len(search_index[0] >= 1)):\n",
        "    index_convergence = jnp.where(var_mc <= delta)[0][0]\n",
        "    converged = True\n",
        "  else:\n",
        "    index_convergence = 0\n",
        "    converged = False\n",
        "\n",
        "  return squared_err_mc[index_convergence], bias_2_mc[index_convergence], converged\n"
      ],
      "metadata": {
        "id": "82gXk3t6j70i"
      },
      "execution_count": null,
      "outputs": []
    }
  ]
}