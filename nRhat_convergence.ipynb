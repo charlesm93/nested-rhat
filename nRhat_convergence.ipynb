{
  "nbformat": 4,
  "nbformat_minor": 0,
  "metadata": {
    "colab": {
      "provenance": [],
      "collapsed_sections": [
        "8_Vc-ULdnX8p",
        "nrU9Kukfndqe",
        "MF802-RmnhRw",
        "emDXXkPxnj5i",
        "oA0oQ8NeTCtx",
        "krLvJlzfP8Hl",
        "XU1NsI3FaALi",
        "tu2cWSfObhBU",
        "qh5LlUBckB2m",
        "de7RXZNHfIaJ",
        "HfoX4rFyqYnB",
        "ixjgpVHTpmZC",
        "JvEzWs0apFBt"
      ],
      "machine_shape": "hm",
      "include_colab_link": true
    },
    "kernelspec": {
      "display_name": "Python 3",
      "name": "python3"
    },
    "language_info": {
      "name": "python"
    },
    "gpuClass": "standard",
    "accelerator": "GPU"
  },
  "cells": [
    {
      "cell_type": "markdown",
      "metadata": {
        "id": "view-in-github",
        "colab_type": "text"
      },
      "source": [
        "<a href=\"https://colab.research.google.com/github/charlesm93/nested-rhat/blob/main/nRhat_convergence.ipynb\" target=\"_parent\"><img src=\"https://colab.research.google.com/assets/colab-badge.svg\" alt=\"Open In Colab\"/></a>"
      ]
    },
    {
      "cell_type": "markdown",
      "metadata": {
        "id": "Mf3kOv1YMB5y"
      },
      "source": [
        "# Behavior of $\\mathfrak n \\widehat R$ on test models\n",
        "\n",
        "This notebook is intended to present in a reproducible fashion numerical experiments used to evaluate the behavior of $\\mathfrak n \\widehat R$ across a range of models. Each section can be run independently, once the \"setup\" section has been run.\n",
        "\n",
        "This file is an updated version of an original notebook released by Google Research (https://github.com/google-research/google-research/tree/master/nested_rhat, Copyright 2021 Google LLC.)\n",
        "\n",
        "Revision to this notebook were made by Charles C. Margossian (Copyright 2022 Charles C. Margossian)"
      ]
    },
    {
      "cell_type": "code",
      "metadata": {
        "id": "-rOdskBSMfQN"
      },
      "source": [
        "#@title Licensed under the Apache License, Version 2.0 (the \"License\"); { display-mode: \"form\" }\n",
        "# you may not use this file except in compliance with the License.\n",
        "# You may obtain a copy of the License at\n",
        "#\n",
        "# https://www.apache.org/licenses/LICENSE-2.0\n",
        "#\n",
        "# Unless required by applicable law or agreed to in writing, software\n",
        "# distributed under the License is distributed on an \"AS IS\" BASIS,\n",
        "# WITHOUT WARRANTIES OR CONDITIONS OF ANY KIND, either express or implied.\n",
        "# See the License for the specific language governing permissions and\n",
        "# limitations under the License."
      ],
      "execution_count": null,
      "outputs": []
    },
    {
      "cell_type": "markdown",
      "metadata": {
        "id": "7-We_g0ZpAa_"
      },
      "source": [
        "## Setup"
      ]
    },
    {
      "cell_type": "code",
      "source": [
        "!pip install --upgrade jax"
      ],
      "metadata": {
        "colab": {
          "base_uri": "https://localhost:8080/"
        },
        "id": "KaSB6eyHt1dr",
        "outputId": "c7db14cd-ca12-4b6b-f1fa-2cc036ceae93"
      },
      "execution_count": null,
      "outputs": [
        {
          "output_type": "stream",
          "name": "stdout",
          "text": [
            "Looking in indexes: https://pypi.org/simple, https://us-python.pkg.dev/colab-wheels/public/simple/\n",
            "Requirement already satisfied: jax in /usr/local/lib/python3.7/dist-packages (0.3.17)\n",
            "Requirement already satisfied: absl-py in /usr/local/lib/python3.7/dist-packages (from jax) (1.2.0)\n",
            "Requirement already satisfied: opt-einsum in /usr/local/lib/python3.7/dist-packages (from jax) (3.3.0)\n",
            "Requirement already satisfied: etils[epath] in /usr/local/lib/python3.7/dist-packages (from jax) (0.7.1)\n",
            "Requirement already satisfied: numpy>=1.20 in /usr/local/lib/python3.7/dist-packages (from jax) (1.21.6)\n",
            "Requirement already satisfied: scipy>=1.5 in /usr/local/lib/python3.7/dist-packages (from jax) (1.7.3)\n",
            "Requirement already satisfied: typing-extensions in /usr/local/lib/python3.7/dist-packages (from jax) (4.1.1)\n",
            "Requirement already satisfied: importlib_resources in /usr/local/lib/python3.7/dist-packages (from etils[epath]->jax) (5.9.0)\n",
            "Requirement already satisfied: zipp in /usr/local/lib/python3.7/dist-packages (from etils[epath]->jax) (3.8.1)\n"
          ]
        }
      ]
    },
    {
      "cell_type": "code",
      "metadata": {
        "id": "zedq65Qe0U8D",
        "colab": {
          "base_uri": "https://localhost:8080/"
        },
        "outputId": "f932360e-7b14-4f4d-c4ca-0b75cf58f39e"
      },
      "source": [
        "# Install fun_mc.\n",
        "!rm -Rf probability\n",
        "!rm -Rf fun_mc\n",
        "!rm -Rf inference_gym\n",
        "!git clone https://github.com/tensorflow/probability.git\n",
        "!mv probability/spinoffs/fun_mc/fun_mc .\n",
        "!mv probability/spinoffs/inference_gym/inference_gym .\n",
        "!pip install tf-nightly tfp-nightly jax jaxlib"
      ],
      "execution_count": null,
      "outputs": [
        {
          "output_type": "stream",
          "name": "stdout",
          "text": [
            "Cloning into 'probability'...\n",
            "remote: Enumerating objects: 97033, done.\u001b[K\n",
            "remote: Counting objects: 100% (2036/2036), done.\u001b[K\n",
            "remote: Compressing objects: 100% (929/929), done.\u001b[K\n",
            "remote: Total 97033 (delta 1258), reused 1625 (delta 1103), pack-reused 94997\u001b[K\n",
            "Receiving objects: 100% (97033/97033), 135.40 MiB | 24.40 MiB/s, done.\n",
            "Resolving deltas: 100% (78439/78439), done.\n",
            "Looking in indexes: https://pypi.org/simple, https://us-python.pkg.dev/colab-wheels/public/simple/\n",
            "Collecting tf-nightly\n",
            "  Downloading tf_nightly-2.11.0.dev20220912-cp37-cp37m-manylinux_2_17_x86_64.manylinux2014_x86_64.whl (583.9 MB)\n",
            "\u001b[K     |████████████████████████████████| 583.9 MB 29 kB/s \n",
            "\u001b[?25hCollecting tfp-nightly\n",
            "  Downloading tfp_nightly-0.18.0.dev20220912-py2.py3-none-any.whl (6.6 MB)\n",
            "\u001b[K     |████████████████████████████████| 6.6 MB 46.7 MB/s \n",
            "\u001b[?25hRequirement already satisfied: jax in /usr/local/lib/python3.7/dist-packages (0.3.17)\n",
            "Requirement already satisfied: jaxlib in /usr/local/lib/python3.7/dist-packages (0.3.15+cuda11.cudnn805)\n",
            "Requirement already satisfied: packaging in /usr/local/lib/python3.7/dist-packages (from tf-nightly) (21.3)\n",
            "Requirement already satisfied: six>=1.12.0 in /usr/local/lib/python3.7/dist-packages (from tf-nightly) (1.15.0)\n",
            "Collecting tf-estimator-nightly~=2.11.0.dev\n",
            "  Downloading tf_estimator_nightly-2.11.0.dev2022091208-py2.py3-none-any.whl (439 kB)\n",
            "\u001b[K     |████████████████████████████████| 439 kB 66.6 MB/s \n",
            "\u001b[?25hRequirement already satisfied: typing-extensions>=3.6.6 in /usr/local/lib/python3.7/dist-packages (from tf-nightly) (4.1.1)\n",
            "Collecting tb-nightly~=2.11.0.a\n",
            "  Downloading tb_nightly-2.11.0a20220912-py3-none-any.whl (5.9 MB)\n",
            "\u001b[K     |████████████████████████████████| 5.9 MB 75.0 MB/s \n",
            "\u001b[?25hRequirement already satisfied: grpcio<2.0,>=1.24.3 in /usr/local/lib/python3.7/dist-packages (from tf-nightly) (1.47.0)\n",
            "Requirement already satisfied: opt-einsum>=2.3.2 in /usr/local/lib/python3.7/dist-packages (from tf-nightly) (3.3.0)\n",
            "Requirement already satisfied: h5py>=2.9.0 in /usr/local/lib/python3.7/dist-packages (from tf-nightly) (3.1.0)\n",
            "Requirement already satisfied: tensorflow-io-gcs-filesystem>=0.23.1 in /usr/local/lib/python3.7/dist-packages (from tf-nightly) (0.26.0)\n",
            "Requirement already satisfied: protobuf<3.20,>=3.9.2 in /usr/local/lib/python3.7/dist-packages (from tf-nightly) (3.17.3)\n",
            "Requirement already satisfied: astunparse>=1.6.0 in /usr/local/lib/python3.7/dist-packages (from tf-nightly) (1.6.3)\n",
            "Requirement already satisfied: absl-py>=1.0.0 in /usr/local/lib/python3.7/dist-packages (from tf-nightly) (1.2.0)\n",
            "Collecting keras-nightly~=2.11.0.dev\n",
            "  Downloading keras_nightly-2.11.0.dev2022091207-py2.py3-none-any.whl (1.7 MB)\n",
            "\u001b[K     |████████████████████████████████| 1.7 MB 55.3 MB/s \n",
            "\u001b[?25hRequirement already satisfied: google-pasta>=0.1.1 in /usr/local/lib/python3.7/dist-packages (from tf-nightly) (0.2.0)\n",
            "Collecting gast<=0.4.0,>=0.2.1\n",
            "  Downloading gast-0.4.0-py3-none-any.whl (9.8 kB)\n",
            "Requirement already satisfied: flatbuffers>=2.0 in /usr/local/lib/python3.7/dist-packages (from tf-nightly) (2.0.7)\n",
            "Requirement already satisfied: termcolor>=1.1.0 in /usr/local/lib/python3.7/dist-packages (from tf-nightly) (1.1.0)\n",
            "Requirement already satisfied: setuptools in /usr/local/lib/python3.7/dist-packages (from tf-nightly) (57.4.0)\n",
            "Requirement already satisfied: wrapt>=1.11.0 in /usr/local/lib/python3.7/dist-packages (from tf-nightly) (1.14.1)\n",
            "Requirement already satisfied: libclang>=13.0.0 in /usr/local/lib/python3.7/dist-packages (from tf-nightly) (14.0.6)\n",
            "Requirement already satisfied: numpy>=1.20 in /usr/local/lib/python3.7/dist-packages (from tf-nightly) (1.21.6)\n",
            "Requirement already satisfied: wheel<1.0,>=0.23.0 in /usr/local/lib/python3.7/dist-packages (from astunparse>=1.6.0->tf-nightly) (0.37.1)\n",
            "Requirement already satisfied: cached-property in /usr/local/lib/python3.7/dist-packages (from h5py>=2.9.0->tf-nightly) (1.5.2)\n",
            "Requirement already satisfied: werkzeug>=1.0.1 in /usr/local/lib/python3.7/dist-packages (from tb-nightly~=2.11.0.a->tf-nightly) (1.0.1)\n",
            "Requirement already satisfied: tensorboard-data-server<0.7.0,>=0.6.0 in /usr/local/lib/python3.7/dist-packages (from tb-nightly~=2.11.0.a->tf-nightly) (0.6.1)\n",
            "Requirement already satisfied: google-auth<3,>=1.6.3 in /usr/local/lib/python3.7/dist-packages (from tb-nightly~=2.11.0.a->tf-nightly) (1.35.0)\n",
            "Requirement already satisfied: requests<3,>=2.21.0 in /usr/local/lib/python3.7/dist-packages (from tb-nightly~=2.11.0.a->tf-nightly) (2.23.0)\n",
            "Requirement already satisfied: tensorboard-plugin-wit>=1.6.0 in /usr/local/lib/python3.7/dist-packages (from tb-nightly~=2.11.0.a->tf-nightly) (1.8.1)\n",
            "Requirement already satisfied: markdown>=2.6.8 in /usr/local/lib/python3.7/dist-packages (from tb-nightly~=2.11.0.a->tf-nightly) (3.4.1)\n",
            "Requirement already satisfied: google-auth-oauthlib<0.5,>=0.4.1 in /usr/local/lib/python3.7/dist-packages (from tb-nightly~=2.11.0.a->tf-nightly) (0.4.6)\n",
            "Requirement already satisfied: cachetools<5.0,>=2.0.0 in /usr/local/lib/python3.7/dist-packages (from google-auth<3,>=1.6.3->tb-nightly~=2.11.0.a->tf-nightly) (4.2.4)\n",
            "Requirement already satisfied: rsa<5,>=3.1.4 in /usr/local/lib/python3.7/dist-packages (from google-auth<3,>=1.6.3->tb-nightly~=2.11.0.a->tf-nightly) (4.9)\n",
            "Requirement already satisfied: pyasn1-modules>=0.2.1 in /usr/local/lib/python3.7/dist-packages (from google-auth<3,>=1.6.3->tb-nightly~=2.11.0.a->tf-nightly) (0.2.8)\n",
            "Requirement already satisfied: requests-oauthlib>=0.7.0 in /usr/local/lib/python3.7/dist-packages (from google-auth-oauthlib<0.5,>=0.4.1->tb-nightly~=2.11.0.a->tf-nightly) (1.3.1)\n",
            "Requirement already satisfied: importlib-metadata>=4.4 in /usr/local/lib/python3.7/dist-packages (from markdown>=2.6.8->tb-nightly~=2.11.0.a->tf-nightly) (4.12.0)\n",
            "Requirement already satisfied: zipp>=0.5 in /usr/local/lib/python3.7/dist-packages (from importlib-metadata>=4.4->markdown>=2.6.8->tb-nightly~=2.11.0.a->tf-nightly) (3.8.1)\n",
            "Requirement already satisfied: pyasn1<0.5.0,>=0.4.6 in /usr/local/lib/python3.7/dist-packages (from pyasn1-modules>=0.2.1->google-auth<3,>=1.6.3->tb-nightly~=2.11.0.a->tf-nightly) (0.4.8)\n",
            "Requirement already satisfied: idna<3,>=2.5 in /usr/local/lib/python3.7/dist-packages (from requests<3,>=2.21.0->tb-nightly~=2.11.0.a->tf-nightly) (2.10)\n",
            "Requirement already satisfied: certifi>=2017.4.17 in /usr/local/lib/python3.7/dist-packages (from requests<3,>=2.21.0->tb-nightly~=2.11.0.a->tf-nightly) (2022.6.15)\n",
            "Requirement already satisfied: urllib3!=1.25.0,!=1.25.1,<1.26,>=1.21.1 in /usr/local/lib/python3.7/dist-packages (from requests<3,>=2.21.0->tb-nightly~=2.11.0.a->tf-nightly) (1.24.3)\n",
            "Requirement already satisfied: chardet<4,>=3.0.2 in /usr/local/lib/python3.7/dist-packages (from requests<3,>=2.21.0->tb-nightly~=2.11.0.a->tf-nightly) (3.0.4)\n",
            "Requirement already satisfied: oauthlib>=3.0.0 in /usr/local/lib/python3.7/dist-packages (from requests-oauthlib>=0.7.0->google-auth-oauthlib<0.5,>=0.4.1->tb-nightly~=2.11.0.a->tf-nightly) (3.2.0)\n",
            "Requirement already satisfied: cloudpickle>=1.3 in /usr/local/lib/python3.7/dist-packages (from tfp-nightly) (1.5.0)\n",
            "Requirement already satisfied: decorator in /usr/local/lib/python3.7/dist-packages (from tfp-nightly) (4.4.2)\n",
            "Requirement already satisfied: dm-tree in /usr/local/lib/python3.7/dist-packages (from tfp-nightly) (0.1.7)\n",
            "Requirement already satisfied: scipy>=1.5 in /usr/local/lib/python3.7/dist-packages (from jax) (1.7.3)\n",
            "Requirement already satisfied: etils[epath] in /usr/local/lib/python3.7/dist-packages (from jax) (0.7.1)\n",
            "Requirement already satisfied: importlib_resources in /usr/local/lib/python3.7/dist-packages (from etils[epath]->jax) (5.9.0)\n",
            "Requirement already satisfied: pyparsing!=3.0.5,>=2.0.2 in /usr/local/lib/python3.7/dist-packages (from packaging->tf-nightly) (3.0.9)\n",
            "Installing collected packages: tf-estimator-nightly, tb-nightly, keras-nightly, gast, tfp-nightly, tf-nightly\n",
            "  Attempting uninstall: gast\n",
            "    Found existing installation: gast 0.5.3\n",
            "    Uninstalling gast-0.5.3:\n",
            "      Successfully uninstalled gast-0.5.3\n",
            "Successfully installed gast-0.4.0 keras-nightly-2.11.0.dev2022091207 tb-nightly-2.11.0a20220912 tf-estimator-nightly-2.11.0.dev2022091208 tf-nightly-2.11.0.dev20220912 tfp-nightly-0.18.0.dev20220912\n"
          ]
        }
      ]
    },
    {
      "cell_type": "code",
      "metadata": {
        "colab": {
          "base_uri": "https://localhost:8080/"
        },
        "id": "xZHqvn_ZxI2m",
        "outputId": "901eb68f-95f4-4f39-eac8-a4f5de69c026"
      },
      "source": [
        "!pip install immutabledict"
      ],
      "execution_count": null,
      "outputs": [
        {
          "output_type": "stream",
          "name": "stdout",
          "text": [
            "Looking in indexes: https://pypi.org/simple, https://us-python.pkg.dev/colab-wheels/public/simple/\n",
            "Collecting immutabledict\n",
            "  Downloading immutabledict-2.2.1-py3-none-any.whl (4.0 kB)\n",
            "Installing collected packages: immutabledict\n",
            "Successfully installed immutabledict-2.2.1\n"
          ]
        }
      ]
    },
    {
      "cell_type": "code",
      "metadata": {
        "id": "XFYAUYmvxP6P"
      },
      "source": [
        "import numpy as np\n",
        "from matplotlib.pyplot import *\n",
        "# %config InlineBackend.figure_format = 'retina'\n",
        "# matplotlib.pyplot.style.use(\"dark_background\")\n",
        "font = {'family' : 'normal',\n",
        "        'weight' : 'bold',\n",
        "        'size'   : 14}\n",
        "\n",
        "matplotlib.rc('font', **font)"
      ],
      "execution_count": null,
      "outputs": []
    },
    {
      "cell_type": "code",
      "source": [
        "# Use this to silence check types warning message \n",
        "# (can be removed once next TFP nightly is released)\n",
        "from absl import logging\n",
        "logging.set_verbosity(logging.ERROR)\n",
        "import logging\n",
        "logging.disable(logging.WARNING)"
      ],
      "metadata": {
        "id": "S_EKVyZ5zHA-"
      },
      "execution_count": null,
      "outputs": []
    },
    {
      "cell_type": "code",
      "metadata": {
        "id": "T5ZT9GpisTTw"
      },
      "source": [
        "import jax\n",
        "from jax import random\n",
        "from jax import numpy as jnp\n",
        "\n",
        "# from colabtools import adhoc_import  # Only needed inside Google\n",
        "\n",
        "# import tensforflow_datasets\n",
        "from inference_gym import using_jax as gym\n",
        "\n",
        "# from tensorflow_probability.spinoffs.fun_mc import using_jax as fun_mcmc\n",
        "from fun_mc import using_jax as fun_mcmc\n",
        "\n",
        "# # import tensorflow as tf\n",
        "from tensorflow_probability.python.internal import prefer_static as ps\n",
        "from tensorflow_probability.python.internal import unnest\n",
        "\n",
        "\n",
        "import tensorflow_probability as _tfp\n",
        "tfp = _tfp.substrates.jax\n",
        "tfd = tfp.distributions\n",
        "tfb = tfp.bijectors\n",
        "\n",
        "tfp_np = _tfp.substrates.numpy\n",
        "tfd_np = tfp_np.distributions\n",
        "\n",
        "import arviz as az\n",
        "from tensorflow_probability.python.internal.unnest import get_innermost\n"
      ],
      "execution_count": null,
      "outputs": []
    },
    {
      "cell_type": "code",
      "source": [
        "print(jax.__version__)"
      ],
      "metadata": {
        "colab": {
          "base_uri": "https://localhost:8080/"
        },
        "id": "lHPJ7ksdsWL6",
        "outputId": "70f630a8-be3a-43ee-d010-2465bed1b7e0"
      },
      "execution_count": null,
      "outputs": [
        {
          "output_type": "stream",
          "name": "stdout",
          "text": [
            "0.3.17\n"
          ]
        }
      ]
    },
    {
      "cell_type": "code",
      "metadata": {
        "id": "cFn1XsR_5e94"
      },
      "source": [
        "# Import the inverse CDF for a Gaussian\n",
        "# CHECK: can this be done with TFP?\n",
        "from scipy.stats import norm\n",
        "from scipy.stats import f"
      ],
      "execution_count": null,
      "outputs": []
    },
    {
      "cell_type": "code",
      "metadata": {
        "id": "s8lp6WIOqpFp"
      },
      "source": [
        "# Plotting tools\n",
        "import seaborn as sns"
      ],
      "execution_count": null,
      "outputs": []
    },
    {
      "cell_type": "code",
      "metadata": {
        "colab": {
          "base_uri": "https://localhost:8080/"
        },
        "id": "Tb4WzVOqzmk5",
        "outputId": "5e0f1b97-5ea9-4365-805c-c2e6061febeb"
      },
      "source": [
        "# Packages to save files on the google drive\n",
        "from google.colab import files\n",
        "from google.colab import drive\n",
        "\n",
        "drive.mount('/content/gdrive')\n",
        "\n",
        "dir_name = \"gdrive/MyDrive/nRhat_experiments/\""
      ],
      "execution_count": null,
      "outputs": [
        {
          "output_type": "stream",
          "name": "stdout",
          "text": [
            "Mounted at /content/gdrive\n"
          ]
        }
      ]
    },
    {
      "cell_type": "markdown",
      "metadata": {
        "id": "T-8fBo98qidx"
      },
      "source": [
        "# Application to models"
      ]
    },
    {
      "cell_type": "markdown",
      "metadata": {
        "id": "8_Vc-ULdnX8p"
      },
      "source": [
        "## Setup"
      ]
    },
    {
      "cell_type": "markdown",
      "metadata": {
        "id": "nrU9Kukfndqe"
      },
      "source": [
        "### Nested $\\hat R$"
      ]
    },
    {
      "cell_type": "code",
      "metadata": {
        "id": "9gwuNLGV6pF2"
      },
      "source": [
        "# Define nested Rhat for one parameter.\n",
        "# This assumes the indexed parameter is a scalar, hence the result_state\n",
        "# tensor needs to be formatted accordingly.\n",
        "# TODO: deprecate state_is_list argument\n",
        "def nested_rhat_1dim(result_state, num_super_chains, index_param, \n",
        "                     num_samples, warmup_length = 0,\n",
        "                     rank_normalize = False):\n",
        "                     # state_is_list = False, vector_index = None):\n",
        "\n",
        "  # The below code is DEPRECATED\n",
        "  # if state_is_list:\n",
        "  #   if vector_index is not None:\n",
        "  #     state_param = result_state[index_param][\n",
        "  #                 warmup_length:(warmup_length + num_samples), :, vector_index]\n",
        "  #   else:\n",
        "  #     state_param = result_state[index_param][\n",
        "  #                       warmup_length:(warmup_length + num_samples), :]\n",
        "  # else:\n",
        "  #   state_param = result_state[warmup_length:(warmup_length + num_samples),\n",
        "  #                              :, index_param]\n",
        "\n",
        "  state_param = result_state[warmup_length:(warmup_length + num_samples),\n",
        "                             :, index_param]\n",
        "\n",
        "  num_samples = state_param.shape[0]\n",
        "  num_chains = state_param.shape[1]\n",
        "  num_sub_chains = num_chains // num_super_chains\n",
        "  total_samples = num_samples * num_chains\n",
        "\n",
        "  if (rank_normalize):\n",
        "    state_param_flat = np.reshape(state_param, (total_samples, ))\n",
        "    temp = state_param_flat.argsort()\n",
        "    ranks = temp.argsort() + 1\n",
        "    z = norm.ppf((ranks - 3 / 8) / (total_samples + 1 / 4))\n",
        "    state_parm = np.reshape(z, (num_samples, num_chains))\n",
        "\n",
        "  state_param = state_param.reshape(num_samples, -1, num_sub_chains, 1)\n",
        "\n",
        "  mean_chain = np.mean(state_param, axis = (0, 3))\n",
        "  between_chain_var = np.var(mean_chain, axis = 1, ddof = 1)\n",
        "  if (num_samples == 1):\n",
        "    mean_within_chain_var = 0\n",
        "  else:\n",
        "    within_chain_var = np.var(state_param, axis = (0, 3), ddof = 1)\n",
        "    mean_within_chain_var = np.mean(within_chain_var, axis = 1)\n",
        "\n",
        "  total_chain_var = between_chain_var + mean_within_chain_var\n",
        "\n",
        "  mean_super_chain = np.mean(state_param, axis = (0, 2, 3))\n",
        "  between_super_chain_var = np.var(mean_super_chain, ddof = 1)\n",
        "\n",
        "  return np.sqrt(1 + between_super_chain_var / np.mean(total_chain_var)),\\\n",
        "    between_super_chain_var, np.mean(total_chain_var)\n",
        "\n",
        "\n",
        "def nested_rhat(result_state, num_super_chains, index_param, \n",
        "                num_samples, warmup_length = 0, rank_normalize = False):\n",
        "  nRhat = np.array([])\n",
        "  B = np.array([])\n",
        "  W = np.array([])\n",
        "  for i in range(0, index_param.shape[0]):\n",
        "    nRhat_local, B_local, W_local = nested_rhat_1dim(result_state, \n",
        "                    num_super_chains, index_param[i], num_samples,\n",
        "                    warmup_length, rank_normalize)\n",
        "\n",
        "    nRhat = np.append(nRhat, nRhat_local)\n",
        "    B = np.append(B, B_local)\n",
        "    W = np.append(W, W_local)\n",
        "\n",
        "  return nRhat, B, W\n",
        "\n",
        "    # Code for list is DEPRECATED\n",
        "    # if state_is_list:\n",
        "    #   shape_state = result_state[index_param[i]].shape\n",
        "    #   if (len(shape_state) == 2):  # Listed parameter isn't a vector\n",
        "    #     nRhat_local, B_local, W_local = nested_rhat_1dim(result_state, \n",
        "    #                      num_super_chains, index_param[i], num_samples,\n",
        "    #                      warmup_length, rank_normalize)\n",
        "\n",
        "    #     nRhat = np.append(nRhat, nRhat_local)\n",
        "    #     B = np.append(B, B_local)\n",
        "    #     W = np.append(W, W_local)\n",
        "\n",
        "    #   else:  # Listed parameter is a vector\n",
        "    #     for j in range(0, shape_state[2]):\n",
        "    #       nRhat_local, B_local, W_local = nested_rhat_1dim(result_state,\n",
        "    #                        num_super_chains, index_param[i], num_samples,\n",
        "    #                        warmup_length, state_is_list, \n",
        "    #                        vector_index = j)\n",
        "\n",
        "    #       nRhat = np.append(nRhat, nRhat_local)\n",
        "    #       B = np.append(B, B_local)\n",
        "    #       W = np.append(W, W_local)\n"
      ],
      "execution_count": null,
      "outputs": []
    },
    {
      "cell_type": "markdown",
      "metadata": {
        "id": "MF802-RmnhRw"
      },
      "source": [
        "### Run fits"
      ]
    },
    {
      "cell_type": "code",
      "metadata": {
        "id": "VV8tGkowKPHC"
      },
      "source": [
        "def construct_kernel(target_log_prob_fn, init_step_size, num_warmup):\n",
        "  kernel = tfp.mcmc.HamiltonianMonteCarlo(target_log_prob_fn, init_step_size, 1)\n",
        "  kernel = tfp.experimental.mcmc.GradientBasedTrajectoryLengthAdaptation(kernel, num_warmup)\n",
        "  kernel = tfp.mcmc.DualAveragingStepSizeAdaptation(\n",
        "      kernel, num_warmup, target_accept_prob = 0.75,\n",
        "      reduce_fn = tfp.math.reduce_log_harmonic_mean_exp)\n",
        "  return kernel\n"
      ],
      "execution_count": null,
      "outputs": []
    },
    {
      "cell_type": "code",
      "metadata": {
        "id": "1YdkpOvbj7Jd"
      },
      "source": [
        "def run_fits(num_seed, total_samples, initialize, kernel,\n",
        "             num_super_chains, index_param, num_samples, num_warmup,\n",
        "             rank_normalize = False):\n",
        "  # TODO: deprecate state_is_list argument.\n",
        "  # if state_is_list:\n",
        "  #   initial_state = initialize((2,), key = jax.random.PRNGKey(1))\n",
        "  #   num_parameters = 0\n",
        "  #   for j in range(0, index_param.shape[0]):\n",
        "  #     if len(initial_state[j].shape) == 1: \n",
        "  #       num_parameters += 1\n",
        "  #     else:\n",
        "  #       num_parameters += initial_state[j].shape[1]\n",
        "  # else:\n",
        "  num_parameters = index_param.shape[0]\n",
        "\n",
        "  Rhat_list = np.zeros((num_seed, num_parameters))\n",
        "  nRhat_list = np.zeros((num_seed, num_parameters))\n",
        "  B_list = np.zeros((num_seed, num_parameters))\n",
        "  W_list = np.zeros((num_seed, num_parameters))\n",
        "  mc_mean_list = np.zeros((num_seed, num_parameters))\n",
        "\n",
        "  i = 0\n",
        "  for seed in jax.random.split(jax.random.PRNGKey(1), num_seed):\n",
        "    initial_state = initialize((num_super_chains,), key = seed + 1954)\n",
        "\n",
        "    initial_state = np.repeat(initial_state, num_chains // num_super_chains,\n",
        "                              axis = 0)\n",
        "\n",
        "    # if (state_is_list):\n",
        "    #   for j in range(0, len(initial_state)):\n",
        "    #     initial_state[j] = np.repeat(initial_state[j],\n",
        "    #                                  num_chains // num_super_chains, axis = 0)\n",
        "    # else:\n",
        "    #   initial_state = np.repeat(initial_state, num_chains // num_super_chains,\n",
        "    #                             axis = 0)\n",
        "\n",
        "    result = tfp.mcmc.sample_chain(\n",
        "      total_samples, initial_state, kernel = kernel,\n",
        "      seed = seed)\n",
        "\n",
        "    # Classic Rhat requires at least two samples!\n",
        "    if (num_samples == 1):\n",
        "      num_samples_rhat = 2\n",
        "    else:\n",
        "      num_samples_rhat = num_samples\n",
        "\n",
        "    # print(\"num_samples_rhat:\", num_samples_rhat);\n",
        "    # rhat_samples = result.all_states[num_warmup:(num_warmup + num_samples_rhat), :,\n",
        "    #                               index_param]\n",
        "    # print(\"samples shape\", rhat_samples.shape)\n",
        "\n",
        "    Rhat_list[i, :] = tfp.mcmc.potential_scale_reduction(\n",
        "                result.all_states[num_warmup:(num_warmup + num_samples_rhat), :,\n",
        "                                  index_param])\n",
        "\n",
        "    nRhat_local, B_local, W_local = nested_rhat(result.all_states,\n",
        "                                   num_super_chains = num_super_chains,\n",
        "                                   index_param = index_param,\n",
        "                                   num_samples = num_samples,\n",
        "                                   warmup_length = num_warmup,\n",
        "                                   rank_normalize = rank_normalize)\n",
        "\n",
        "    nRhat_list[i, :] = nRhat_local\n",
        "    B_list[i, :] = B_local\n",
        "    W_list[i, :] = W_local\n",
        "\n",
        "    mc_mean_list[i, :] = np.mean(result.all_states[num_warmup + 1, :,\n",
        "                                                   index_param],\n",
        "                        axis = 1)\n",
        "    i += 1\n",
        "\n",
        "  return Rhat_list, nRhat_list, B_list, W_list, mc_mean_list\n"
      ],
      "execution_count": null,
      "outputs": []
    },
    {
      "cell_type": "markdown",
      "metadata": {
        "id": "emDXXkPxnj5i"
      },
      "source": [
        "### Adaptive warmup (forge chain)"
      ]
    },
    {
      "cell_type": "code",
      "metadata": {
        "id": "v06qapg-UIlU"
      },
      "source": [
        "# Runs the adapative warmup scheme, and produce MCMC samples.\n",
        "def forge_chain (kernel_cold, kernel_warm, initial_state, num_super_chains,\n",
        "                 num_warmup_array, num_samples,\n",
        "                 target_rhat, max_num_steps, index_param, seed,\n",
        "                 num_nRhat_comp = 1, rank_normalize = False,\n",
        "                 alpha_quantile = 1,\n",
        "                 mean_benchmark = None, var_benchmark = None):\n",
        "  warmup_is_acceptable = False\n",
        "  window_iteration = 0\n",
        "  current_state = initial_state\n",
        "  kernel_args = None\n",
        "\n",
        "  squared_err_list = np.array([])\n",
        "  nrhat_list = np.array([])\n",
        "\n",
        "  while (not warmup_is_acceptable and window_iteration < max_num_steps):\n",
        "\n",
        "    # 1) Run MCMC on warmup window.\n",
        "    result_cold, trace, kernel_args = tfp.mcmc.sample_chain(\n",
        "        num_results = num_warmup_array[window_iteration],\n",
        "        current_state = current_state,\n",
        "        kernel = kernel_cold,\n",
        "        previous_kernel_results = kernel_args,\n",
        "        trace_fn = lambda _, pkr: unnest.get_innermost(pkr, 'step_size'),\n",
        "        return_final_kernel_results = True,\n",
        "        seed = seed + window_iteration)  # Update seed during while loop\n",
        "\n",
        "    current_state = result_cold[-1]\n",
        "\n",
        "    # 2) Generate candidate samples.\n",
        "    result_warm, trace = tfp.mcmc.sample_chain(\n",
        "        num_results = num_samples * num_nRhat_comp,\n",
        "        current_state = current_state,\n",
        "        kernel = kernel_warm,\n",
        "        trace_fn = lambda _, pkr: unnest.get_innermost(pkr, 'step_size'),\n",
        "        previous_kernel_results = kernel_args,\n",
        "        seed = seed + 999999)\n",
        "\n",
        "    # 3) Check if candidate samples are acceptable.\n",
        "    nRhat = np.zeros((index_param.shape[0], num_nRhat_comp))\n",
        "    for i in range(0, num_nRhat_comp):\n",
        "      nRhat[:, i], _B, _W = nested_rhat(result_warm[i:((i + 1) * num_samples)],\n",
        "                                  num_super_chains = num_super_chains,\n",
        "                                  index_param = index_param,\n",
        "                                  num_samples = num_samples,\n",
        "                                  rank_normalize = rank_normalize)\n",
        "\n",
        "    # nRhat_max = max(np.mean(nRhat, axis = 1))\n",
        "    nRhat_quantile = np.quantile(np.mean(nRhat, axis = 1), alpha_quantile,\n",
        "                                 interpolation = \"nearest\")\n",
        "    print(\"nRhat_quantile: (\", alpha_quantile, \")\" , nRhat_quantile)\n",
        "\n",
        "    if mean_benchmark is not None:\n",
        "      mc_mean = np.mean(result_warm[0, :, index_param], axis = 1)\n",
        "      squared_err = np.square(mc_mean - mean_benchmark[index_param])\\\n",
        "        / var_benchmark[index_param]\n",
        "      \n",
        "      squared_err_list = np.append(squared_err_list, squared_err)\n",
        "      nrhat_list = np.append(nrhat_list, np.mean(nRhat, axis = 1))\n",
        "\n",
        "      # squared_err = np.square(mc_mean - mean_benchmark[index_max])\\\n",
        "      #                  / var_benchmark[index_max]\n",
        "      # squared_err_list = np.append(squared_err_list, squared_err)\n",
        "      # max_nrhat_list = np.append(max_nrhat_list, nRhat_max)\n",
        "\n",
        "    if (nRhat_quantile < target_rhat): warmup_is_acceptable = True\n",
        "\n",
        "    window_iteration += 1\n",
        "    # (WHILE loop ends)\n",
        "\n",
        "  return result_warm, window_iteration, squared_err_list, nrhat_list\n"
      ],
      "execution_count": null,
      "outputs": []
    },
    {
      "cell_type": "code",
      "metadata": {
        "id": "0GDAgXbZnkfv"
      },
      "source": [
        "def run_forge_chain (num_seed, kernel_cold, kernel_warm, initialize,\n",
        "                     num_super_chains, num_warmup, num_samples,\n",
        "                     target_rhat, max_num_steps, index_param,\n",
        "                     num_nRhat_comp = 1, rank_normalize = False,\n",
        "                     alpha_quantile = 1,\n",
        "                     mean_benchmark = None, var_benchmark = None,\n",
        "                     initial_seed = 1):\n",
        "  mc_mean_list = np.zeros((num_seed, index_param.shape[0]))\n",
        "  warmup_length = np.zeros(num_seed)\n",
        "\n",
        "  squared_err_list_all = np.array([])\n",
        "  nrhat_list_all = np.array([])\n",
        "\n",
        "  i = 0\n",
        "  for seed in jax.random.split(jax.random.PRNGKey(initial_seed), num_seed):\n",
        "    print(\"NEW SEED\")\n",
        "    initial_state = initialize((num_super_chains,), key = seed + 1954)\n",
        "    initial_state = np.repeat(initial_state, num_chains // num_super_chains,\n",
        "                              axis = 0)\n",
        "\n",
        "    result, window_iteration,\\\n",
        "    squared_err_list, nrhat_list = forge_chain(kernel_cold, kernel_warm,\n",
        "                                           initial_state, num_super_chains,\n",
        "                                           num_warmup, num_samples,\n",
        "                                           target_rhat, max_num_steps,\n",
        "                                           index_param, seed,\n",
        "                                           num_nRhat_comp, rank_normalize,\n",
        "                                           alpha_quantile,\n",
        "                                           mean_benchmark, var_benchmark)\n",
        "\n",
        "    warmup_length[i] = sum(num_warmup[:window_iteration])\n",
        "    mc_mean_list[i, :] = np.mean(result[0, :, index_param],\n",
        "                        axis = 1)\n",
        "    \n",
        "    squared_err_list_all = np.append(squared_err_list_all, squared_err_list)\n",
        "    nrhat_list_all = np.append(nrhat_list_all, nrhat_list)\n",
        "\n",
        "    i += 1\n",
        "\n",
        "  return mc_mean_list, warmup_length, squared_err_list_all, nrhat_list_all"
      ],
      "execution_count": null,
      "outputs": []
    },
    {
      "cell_type": "markdown",
      "metadata": {
        "id": "zETqxeAiCfQp"
      },
      "source": [
        "## Threshold for $n \\hat R$\n",
        "\n",
        "For this experiment, we compute $n \\hat R$ using `n_samples = 3`, to stabilize estimators. To check if the chain is properly warmed up, we only examine the first sample.\n",
        "\n",
        "Remark: when `n_samples = 1`, we treat the within-chain variance as 0 (this actually makes it harder to accept convergence!). A suitable lower-bound is discussed below."
      ]
    },
    {
      "cell_type": "code",
      "metadata": {
        "id": "GIriLg9T1-3d"
      },
      "source": [
        "num_chains = 128  # 128, 2048\n",
        "num_super_chains = 16  # 4\n",
        "num_sub_chains = num_chains // num_super_chains\n",
        "num_samples = 5\n",
        "num_seed = 10"
      ],
      "execution_count": null,
      "outputs": []
    },
    {
      "cell_type": "markdown",
      "metadata": {
        "id": "pGYvmveiK107"
      },
      "source": [
        "If the chains converged (i.e. they behave as though indepdent from one another), then we expect the effective sample size \"reported\" by $n \\hat R$ to be lower-bounded by the number of chains in each super-chain. This gives us an upper-bound for $n \\hat R$:\n",
        "\n",
        "\\begin{eqnarray*}\n",
        "  u_{n \\hat R}  = \\sqrt{1 + \\frac{1}{M}}.\n",
        "\\end{eqnarray*}"
      ]
    },
    {
      "cell_type": "code",
      "metadata": {
        "id": "BFpTeuuCJtyr",
        "colab": {
          "base_uri": "https://localhost:8080/"
        },
        "outputId": "4c59dd8c-93be-42be-d09e-8aad9cca4171"
      },
      "source": [
        "# Compute a lower bound on nRhat if the chains behave as though independent.\n",
        "nRhat_upper = np.sqrt(1 + 1 / (num_chains / num_super_chains))\n",
        "print(\"Convergence upper bound for nRhat:\", nRhat_upper) "
      ],
      "execution_count": null,
      "outputs": [
        {
          "output_type": "stream",
          "name": "stdout",
          "text": [
            "Convergence upper bound for nRhat: 1.0606601717798212\n"
          ]
        }
      ]
    },
    {
      "cell_type": "markdown",
      "metadata": {
        "id": "T4iCm9jd_p-q"
      },
      "source": [
        "Now let's set things up for the rank-normalize approach."
      ]
    },
    {
      "cell_type": "code",
      "metadata": {
        "id": "gQqQ5mx2AAUp"
      },
      "source": [
        "rank_normalize = True"
      ],
      "execution_count": null,
      "outputs": []
    },
    {
      "cell_type": "markdown",
      "metadata": {
        "id": "QrDJchqkDfqc"
      },
      "source": [
        "When we use rank-normalization and compute $n \\hat R$ using the resulting $z$-score, _and_ we only use one sample per iteration, then we expect\n",
        "$$\n",
        "\\frac{\\hat B}{\\hat W} \\sim \\frac{1}{M} F_{K - 1, K(M - 1)}\n",
        "$$\n",
        "where $K$ is the number of super-chains and $M$ the number of chains per super-chain."
      ]
    },
    {
      "cell_type": "code",
      "metadata": {
        "colab": {
          "base_uri": "https://localhost:8080/"
        },
        "id": "Lmy9ExAJDTAM",
        "outputId": "2bab18de-0f8b-454b-96bf-2166d9d767dc"
      },
      "source": [
        "upper_quantile = 0.95\n",
        "alpha_quantile = 0.95\n",
        "dof1 = num_super_chains - 1\n",
        "dof2 = num_super_chains * (num_sub_chains - 1)\n",
        "f_stat = f.ppf(upper_quantile, dof1, dof2) / num_sub_chains\n",
        "nRhat_upper_f = np.sqrt(1 + f_stat)\n",
        "print(\"Convergence upper bound for one-sample nRhat:\", nRhat_upper_f)"
      ],
      "execution_count": null,
      "outputs": [
        {
          "output_type": "stream",
          "name": "stdout",
          "text": [
            "Convergence upper bound for one-sample nRhat: 1.1043420938798092\n"
          ]
        }
      ]
    },
    {
      "cell_type": "code",
      "metadata": {
        "id": "HPyl95i6G33P"
      },
      "source": [
        "if (rank_normalize):\n",
        "  nRhat_upper = nRhat_upper_f"
      ],
      "execution_count": null,
      "outputs": []
    },
    {
      "cell_type": "markdown",
      "metadata": {
        "id": "R_3a2-Oo6mfp"
      },
      "source": [
        "Another approach for setting the upper-bound is to think of $n \\hat R$ as controlling the variance in expectation, conditional on the initialization, i.e $\\text{Var} (\\mathbb E (\\theta \\mid \\theta_0)$"
      ]
    },
    {
      "cell_type": "code",
      "metadata": {
        "id": "Bv8fxWsF6_90"
      },
      "source": [
        "if (True):\n",
        "  nRhat_upper = 1.01"
      ],
      "execution_count": null,
      "outputs": []
    },
    {
      "cell_type": "code",
      "source": [
        "# examine the selected criterion\n",
        "print(\"nRhat_upper: \", nRhat_upper)"
      ],
      "metadata": {
        "colab": {
          "base_uri": "https://localhost:8080/"
        },
        "id": "l_d-HsDiYgwe",
        "outputId": "bcd70c85-2ca3-4101-d31d-c2ecd48be4b8"
      },
      "execution_count": null,
      "outputs": [
        {
          "output_type": "stream",
          "name": "stdout",
          "text": [
            "nRhat_upper:  1.01\n"
          ]
        }
      ]
    },
    {
      "cell_type": "code",
      "source": [
        "# additional parameters for plots (for chi squared coverage)\n",
        "# NOTE: use 80% coverage (more stable than 95% coverage)\n",
        "chi_up = 2.705543  # 95th quantile for chi squared with df = 1\n",
        "chi_lo = 0.01579077  # 05th quantile for chi squared with df = 1"
      ],
      "metadata": {
        "id": "cvOiwT9B6X3p"
      },
      "execution_count": null,
      "outputs": []
    },
    {
      "cell_type": "markdown",
      "metadata": {
        "id": "9I1T1DEZsPrx"
      },
      "source": [
        "## Banana"
      ]
    },
    {
      "cell_type": "code",
      "metadata": {
        "id": "sF6iLDf_qkKO",
        "colab": {
          "base_uri": "https://localhost:8080/"
        },
        "outputId": "cae55a48-6215-4efb-c087-c331a963ac34"
      },
      "source": [
        "target = gym.targets.VectorModel(gym.targets.Banana(),\n",
        "                                 flatten_sample_transformations=True)\n",
        "num_dimensions = target.event_shape[0]  \n",
        "init_step_size = 1.\n",
        "\n",
        "def target_log_prob_fn(x):\n",
        "  \"\"\"Unnormalized, unconstrained target density.\n",
        "  \n",
        "  This is a thin wrapper that applies the default bijectors so that we can\n",
        "  ignore any constraints.\n",
        "  \"\"\"\n",
        "  y = target.default_event_space_bijector(x)\n",
        "  fldj = target.default_event_space_bijector.forward_log_det_jacobian(x)\n",
        "  return target.unnormalized_log_prob(y) + fldj\n",
        "\n",
        "# NOTE: Avoid initials centered around the true mean. \n",
        "offset = 2\n",
        "def initialize (shape, key = random.PRNGKey(37272709)):\n",
        "  return 10 * random.normal(key, shape + (num_dimensions,)) + offset"
      ],
      "execution_count": null,
      "outputs": [
        {
          "output_type": "stream",
          "name": "stderr",
          "text": [
            "/usr/local/lib/python3.7/dist-packages/tensorflow_probability/python/internal/backend/jax/ops.py:282: UserWarning: Explicitly requested dtype float64 requested in astype is not available, and will be truncated to dtype float32. To enable more dtypes, set the jax_enable_x64 configuration option or the JAX_ENABLE_X64 shell environment variable. See https://github.com/google/jax#current-gotchas for more.\n",
            "  return arr.astype(dtype)\n"
          ]
        }
      ]
    },
    {
      "cell_type": "code",
      "metadata": {
        "id": "IjCJXla2377l"
      },
      "source": [
        "# Get some estimates of the mean and variance.\n",
        "try:\n",
        "  mean_est = target.sample_transformations['identity'].ground_truth_mean\n",
        "except:\n",
        "  print('no ground truth mean')\n",
        "  mean_est = (result.all_states[num_warmup:, :]).mean(0).mean(0)\n",
        "try:\n",
        "  var_est = target.sample_transformations['identity'].ground_truth_standard_deviation**2\n",
        "except:\n",
        "  print('no ground truth std dev')\n",
        "  var_est = ((result.all_states[num_warmup:, :]**2).mean(0).mean(0) -\n",
        "             mean_est**2)"
      ],
      "execution_count": null,
      "outputs": []
    },
    {
      "cell_type": "code",
      "metadata": {
        "id": "ifWCkjip2SWE"
      },
      "source": [
        "# Define MCMC kernel\n",
        "# NOTE: to compute classic Rhat, need at least 2 iterations per chain.\n",
        "# To insure this, total_samples is incremented by 1.\n",
        "num_warmup, num_samples = 1000, 5\n",
        "total_samples = num_warmup + num_samples + 1\n",
        "\n",
        "kernel = construct_kernel(target_log_prob_fn = target_log_prob_fn,\n",
        "                          init_step_size = init_step_size,\n",
        "                          num_warmup = num_warmup)"
      ],
      "execution_count": null,
      "outputs": []
    },
    {
      "cell_type": "code",
      "metadata": {
        "id": "jxwEAZNMGG8S"
      },
      "source": [
        "index_param = np.array([0, 1])"
      ],
      "execution_count": null,
      "outputs": []
    },
    {
      "cell_type": "code",
      "metadata": {
        "id": "P6YPaU8vMCMC"
      },
      "source": [
        "num_seed = 30"
      ],
      "execution_count": null,
      "outputs": []
    },
    {
      "cell_type": "markdown",
      "metadata": {
        "id": "oA0oQ8NeTCtx"
      },
      "source": [
        "### $n \\hat R$ diagnostic"
      ]
    },
    {
      "cell_type": "code",
      "metadata": {
        "id": "f6Ng8lGuGrCA",
        "colab": {
          "base_uri": "https://localhost:8080/"
        },
        "outputId": "1eab1e73-bc46-47e7-92d3-161234cf28ab"
      },
      "source": [
        "Rhat_list, nRhat_list, B_list, W_list, mc_mean_list = run_fits(\n",
        "           num_seed = num_seed, total_samples = total_samples,\n",
        "           initialize = initialize, kernel = kernel,\n",
        "           num_super_chains = num_super_chains, index_param = index_param,\n",
        "           num_samples = num_samples, num_warmup = num_warmup,\n",
        "           rank_normalize = rank_normalize)"
      ],
      "execution_count": null,
      "outputs": [
        {
          "output_type": "stream",
          "name": "stderr",
          "text": [
            "/usr/local/lib/python3.7/dist-packages/tensorflow_probability/substrates/jax/mcmc/sample.py:339: UserWarning: Tracing all kernel results by default is deprecated. Set the `trace_fn` argument to None (the future default value) or an explicit callback that traces the values you are interested in.\n",
            "  warnings.warn('Tracing all kernel results by default is deprecated. Set '\n",
            "/usr/local/lib/python3.7/dist-packages/tensorflow_probability/substrates/jax/mcmc/sample.py:339: UserWarning: Tracing all kernel results by default is deprecated. Set the `trace_fn` argument to None (the future default value) or an explicit callback that traces the values you are interested in.\n",
            "  warnings.warn('Tracing all kernel results by default is deprecated. Set '\n",
            "/usr/local/lib/python3.7/dist-packages/tensorflow_probability/substrates/jax/mcmc/sample.py:339: UserWarning: Tracing all kernel results by default is deprecated. Set the `trace_fn` argument to None (the future default value) or an explicit callback that traces the values you are interested in.\n",
            "  warnings.warn('Tracing all kernel results by default is deprecated. Set '\n",
            "/usr/local/lib/python3.7/dist-packages/tensorflow_probability/substrates/jax/mcmc/sample.py:339: UserWarning: Tracing all kernel results by default is deprecated. Set the `trace_fn` argument to None (the future default value) or an explicit callback that traces the values you are interested in.\n",
            "  warnings.warn('Tracing all kernel results by default is deprecated. Set '\n",
            "/usr/local/lib/python3.7/dist-packages/tensorflow_probability/substrates/jax/mcmc/sample.py:339: UserWarning: Tracing all kernel results by default is deprecated. Set the `trace_fn` argument to None (the future default value) or an explicit callback that traces the values you are interested in.\n",
            "  warnings.warn('Tracing all kernel results by default is deprecated. Set '\n",
            "/usr/local/lib/python3.7/dist-packages/tensorflow_probability/substrates/jax/mcmc/sample.py:339: UserWarning: Tracing all kernel results by default is deprecated. Set the `trace_fn` argument to None (the future default value) or an explicit callback that traces the values you are interested in.\n",
            "  warnings.warn('Tracing all kernel results by default is deprecated. Set '\n",
            "/usr/local/lib/python3.7/dist-packages/tensorflow_probability/substrates/jax/mcmc/sample.py:339: UserWarning: Tracing all kernel results by default is deprecated. Set the `trace_fn` argument to None (the future default value) or an explicit callback that traces the values you are interested in.\n",
            "  warnings.warn('Tracing all kernel results by default is deprecated. Set '\n",
            "/usr/local/lib/python3.7/dist-packages/tensorflow_probability/substrates/jax/mcmc/sample.py:339: UserWarning: Tracing all kernel results by default is deprecated. Set the `trace_fn` argument to None (the future default value) or an explicit callback that traces the values you are interested in.\n",
            "  warnings.warn('Tracing all kernel results by default is deprecated. Set '\n",
            "/usr/local/lib/python3.7/dist-packages/tensorflow_probability/substrates/jax/mcmc/sample.py:339: UserWarning: Tracing all kernel results by default is deprecated. Set the `trace_fn` argument to None (the future default value) or an explicit callback that traces the values you are interested in.\n",
            "  warnings.warn('Tracing all kernel results by default is deprecated. Set '\n",
            "/usr/local/lib/python3.7/dist-packages/tensorflow_probability/substrates/jax/mcmc/sample.py:339: UserWarning: Tracing all kernel results by default is deprecated. Set the `trace_fn` argument to None (the future default value) or an explicit callback that traces the values you are interested in.\n",
            "  warnings.warn('Tracing all kernel results by default is deprecated. Set '\n",
            "/usr/local/lib/python3.7/dist-packages/tensorflow_probability/substrates/jax/mcmc/sample.py:339: UserWarning: Tracing all kernel results by default is deprecated. Set the `trace_fn` argument to None (the future default value) or an explicit callback that traces the values you are interested in.\n",
            "  warnings.warn('Tracing all kernel results by default is deprecated. Set '\n",
            "/usr/local/lib/python3.7/dist-packages/tensorflow_probability/substrates/jax/mcmc/sample.py:339: UserWarning: Tracing all kernel results by default is deprecated. Set the `trace_fn` argument to None (the future default value) or an explicit callback that traces the values you are interested in.\n",
            "  warnings.warn('Tracing all kernel results by default is deprecated. Set '\n",
            "/usr/local/lib/python3.7/dist-packages/tensorflow_probability/substrates/jax/mcmc/sample.py:339: UserWarning: Tracing all kernel results by default is deprecated. Set the `trace_fn` argument to None (the future default value) or an explicit callback that traces the values you are interested in.\n",
            "  warnings.warn('Tracing all kernel results by default is deprecated. Set '\n",
            "/usr/local/lib/python3.7/dist-packages/tensorflow_probability/substrates/jax/mcmc/sample.py:339: UserWarning: Tracing all kernel results by default is deprecated. Set the `trace_fn` argument to None (the future default value) or an explicit callback that traces the values you are interested in.\n",
            "  warnings.warn('Tracing all kernel results by default is deprecated. Set '\n",
            "/usr/local/lib/python3.7/dist-packages/tensorflow_probability/substrates/jax/mcmc/sample.py:339: UserWarning: Tracing all kernel results by default is deprecated. Set the `trace_fn` argument to None (the future default value) or an explicit callback that traces the values you are interested in.\n",
            "  warnings.warn('Tracing all kernel results by default is deprecated. Set '\n",
            "/usr/local/lib/python3.7/dist-packages/tensorflow_probability/substrates/jax/mcmc/sample.py:339: UserWarning: Tracing all kernel results by default is deprecated. Set the `trace_fn` argument to None (the future default value) or an explicit callback that traces the values you are interested in.\n",
            "  warnings.warn('Tracing all kernel results by default is deprecated. Set '\n",
            "/usr/local/lib/python3.7/dist-packages/tensorflow_probability/substrates/jax/mcmc/sample.py:339: UserWarning: Tracing all kernel results by default is deprecated. Set the `trace_fn` argument to None (the future default value) or an explicit callback that traces the values you are interested in.\n",
            "  warnings.warn('Tracing all kernel results by default is deprecated. Set '\n",
            "/usr/local/lib/python3.7/dist-packages/tensorflow_probability/substrates/jax/mcmc/sample.py:339: UserWarning: Tracing all kernel results by default is deprecated. Set the `trace_fn` argument to None (the future default value) or an explicit callback that traces the values you are interested in.\n",
            "  warnings.warn('Tracing all kernel results by default is deprecated. Set '\n",
            "/usr/local/lib/python3.7/dist-packages/tensorflow_probability/substrates/jax/mcmc/sample.py:339: UserWarning: Tracing all kernel results by default is deprecated. Set the `trace_fn` argument to None (the future default value) or an explicit callback that traces the values you are interested in.\n",
            "  warnings.warn('Tracing all kernel results by default is deprecated. Set '\n",
            "/usr/local/lib/python3.7/dist-packages/tensorflow_probability/substrates/jax/mcmc/sample.py:339: UserWarning: Tracing all kernel results by default is deprecated. Set the `trace_fn` argument to None (the future default value) or an explicit callback that traces the values you are interested in.\n",
            "  warnings.warn('Tracing all kernel results by default is deprecated. Set '\n",
            "/usr/local/lib/python3.7/dist-packages/tensorflow_probability/substrates/jax/mcmc/sample.py:339: UserWarning: Tracing all kernel results by default is deprecated. Set the `trace_fn` argument to None (the future default value) or an explicit callback that traces the values you are interested in.\n",
            "  warnings.warn('Tracing all kernel results by default is deprecated. Set '\n",
            "/usr/local/lib/python3.7/dist-packages/tensorflow_probability/substrates/jax/mcmc/sample.py:339: UserWarning: Tracing all kernel results by default is deprecated. Set the `trace_fn` argument to None (the future default value) or an explicit callback that traces the values you are interested in.\n",
            "  warnings.warn('Tracing all kernel results by default is deprecated. Set '\n",
            "/usr/local/lib/python3.7/dist-packages/tensorflow_probability/substrates/jax/mcmc/sample.py:339: UserWarning: Tracing all kernel results by default is deprecated. Set the `trace_fn` argument to None (the future default value) or an explicit callback that traces the values you are interested in.\n",
            "  warnings.warn('Tracing all kernel results by default is deprecated. Set '\n",
            "/usr/local/lib/python3.7/dist-packages/tensorflow_probability/substrates/jax/mcmc/sample.py:339: UserWarning: Tracing all kernel results by default is deprecated. Set the `trace_fn` argument to None (the future default value) or an explicit callback that traces the values you are interested in.\n",
            "  warnings.warn('Tracing all kernel results by default is deprecated. Set '\n",
            "/usr/local/lib/python3.7/dist-packages/tensorflow_probability/substrates/jax/mcmc/sample.py:339: UserWarning: Tracing all kernel results by default is deprecated. Set the `trace_fn` argument to None (the future default value) or an explicit callback that traces the values you are interested in.\n",
            "  warnings.warn('Tracing all kernel results by default is deprecated. Set '\n",
            "/usr/local/lib/python3.7/dist-packages/tensorflow_probability/substrates/jax/mcmc/sample.py:339: UserWarning: Tracing all kernel results by default is deprecated. Set the `trace_fn` argument to None (the future default value) or an explicit callback that traces the values you are interested in.\n",
            "  warnings.warn('Tracing all kernel results by default is deprecated. Set '\n",
            "/usr/local/lib/python3.7/dist-packages/tensorflow_probability/substrates/jax/mcmc/sample.py:339: UserWarning: Tracing all kernel results by default is deprecated. Set the `trace_fn` argument to None (the future default value) or an explicit callback that traces the values you are interested in.\n",
            "  warnings.warn('Tracing all kernel results by default is deprecated. Set '\n",
            "/usr/local/lib/python3.7/dist-packages/tensorflow_probability/substrates/jax/mcmc/sample.py:339: UserWarning: Tracing all kernel results by default is deprecated. Set the `trace_fn` argument to None (the future default value) or an explicit callback that traces the values you are interested in.\n",
            "  warnings.warn('Tracing all kernel results by default is deprecated. Set '\n",
            "/usr/local/lib/python3.7/dist-packages/tensorflow_probability/substrates/jax/mcmc/sample.py:339: UserWarning: Tracing all kernel results by default is deprecated. Set the `trace_fn` argument to None (the future default value) or an explicit callback that traces the values you are interested in.\n",
            "  warnings.warn('Tracing all kernel results by default is deprecated. Set '\n",
            "/usr/local/lib/python3.7/dist-packages/tensorflow_probability/substrates/jax/mcmc/sample.py:339: UserWarning: Tracing all kernel results by default is deprecated. Set the `trace_fn` argument to None (the future default value) or an explicit callback that traces the values you are interested in.\n",
            "  warnings.warn('Tracing all kernel results by default is deprecated. Set '\n"
          ]
        }
      ]
    },
    {
      "cell_type": "code",
      "metadata": {
        "id": "7vrTdelWEtow",
        "colab": {
          "base_uri": "https://localhost:8080/",
          "height": 216
        },
        "outputId": "5e3a2a3b-5e0c-44cb-9ea5-f98ce25adac6"
      },
      "source": [
        "square_error = np.square(mc_mean_list - mean_est[index_param])\n",
        "expected_error = var_est[index_param] / num_chains\n",
        "\n",
        "fig = figure(figsize =(6, index_param.shape[0]))\n",
        "ax = fig.add_axes([0, 0, 1, 1])\n",
        "plot_data = [square_error[:, 0] / expected_error[0], \n",
        "             square_error[:, 1] / expected_error[1]]\n",
        "ax.boxplot(plot_data)\n",
        "axhline(y = 1, linestyle = \"--\")\n",
        "title(\"Squared Error over expected squared error (if chains converged)\")\n",
        "show()"
      ],
      "execution_count": null,
      "outputs": [
        {
          "output_type": "display_data",
          "data": {
            "text/plain": [
              "<Figure size 432x144 with 1 Axes>"
            ],
            "image/png": "[encoded data removed]"
          },
          "metadata": {
            "needs_background": "light"
          }
        }
      ]
    },
    {
      "cell_type": "code",
      "metadata": {
        "id": "VPHzf4THNGBp",
        "colab": {
          "base_uri": "https://localhost:8080/",
          "height": 504
        },
        "outputId": "f81ec912-4858-4da0-9a24-9de194e701a5"
      },
      "source": [
        "fig = figure(figsize =(6, 6))\n",
        "ax = fig.add_axes([0, 0, 1, 1])\n",
        "plot_data = [nRhat_list[:, 0], Rhat_list[:, 0],\n",
        "             nRhat_list[:, 1], Rhat_list[:, 1]]\n",
        "axvline(x = 1, color = 'y', linestyle = '--', linewidth = 0.5,\n",
        "        label = \"x = 1\")\n",
        "axvline(x = 1.05, color = 'r', linestyle = '--', linewidth = 0.5,\n",
        "        label = \"x = 1.05\")\n",
        "axvline(x = nRhat_upper, color = 'c', linestyle = '--', linewidth = 0.5,\n",
        "        label = \"x = u\")\n",
        "ax.boxplot(plot_data, vert = 0)\n",
        "ax.set_yticklabels(['nRhat[0]', 'Rhat[0]',\n",
        "                    'nRhat[1]', 'Rhat[1]'])\n",
        "title('Warmup = ' + str(num_warmup) + ', samples = ' + str(num_samples))\n",
        "legend(loc = \"best\")\n",
        "show()"
      ],
      "execution_count": null,
      "outputs": [
        {
          "output_type": "display_data",
          "data": {
            "text/plain": [
              "<Figure size 432x432 with 1 Axes>"
            ],
            "image/png": "[encoded data removed]"
          },
          "metadata": {
            "needs_background": "light"
          }
        }
      ]
    },
    {
      "cell_type": "code",
      "metadata": {
        "id": "IoRw3A1JSW2V",
        "colab": {
          "base_uri": "https://localhost:8080/",
          "height": 216
        },
        "outputId": "2b464e2b-1689-489c-c730-e6497155776d"
      },
      "source": [
        "# Let's take a closer look at the nRhat's and compare them\n",
        "# to what we would expect from independent samples.\n",
        "fig = figure(figsize = (6, 2))\n",
        "ax = fig.add_axes([0, 0, 1, 1])\n",
        "plot_data = [nRhat_list[:, 0], nRhat_list[:, 1]]\n",
        "axvline(x = 1, color = 'y', linestyle = '--', linewidth = 0.5,\n",
        "        label = \"x = 1\")\n",
        "axvline(x = nRhat_upper, color = 'c', linestyle = '--', linewidth = 0.5,\n",
        "        label = \"x = u\")\n",
        "ax.boxplot(plot_data, vert = 0)\n",
        "ax.set_yticklabels(['nRhat[0]', 'nRhat[1]'])\n",
        "title('Warmup = ' + str(num_warmup) + ', samples = ' + str(num_samples))\n",
        "legend(loc = \"best\")\n",
        "show()"
      ],
      "execution_count": null,
      "outputs": [
        {
          "output_type": "display_data",
          "data": {
            "text/plain": [
              "<Figure size 432x144 with 1 Axes>"
            ],
            "image/png": "[encoded data removed]"
          },
          "metadata": {
            "needs_background": "light"
          }
        }
      ]
    },
    {
      "cell_type": "markdown",
      "metadata": {
        "id": "k9SVmyNVTLx5"
      },
      "source": [
        "### Adaptive warmup length"
      ]
    },
    {
      "cell_type": "markdown",
      "metadata": {
        "id": "ZlhJWY0sWyg-"
      },
      "source": [
        "Remark: using a short window gives the algorithm more opportunities to stop, which means start trying our luck. A reasonable compromise seems to use a window of size 100."
      ]
    },
    {
      "cell_type": "code",
      "metadata": {
        "id": "DOZe32ucJ-BS"
      },
      "source": [
        "num_seed = 30"
      ],
      "execution_count": null,
      "outputs": []
    },
    {
      "cell_type": "markdown",
      "source": [
        "To disable the adaptive warmup, i.e. make the chain run until a warmup of 1,000 has been achieved, set `nRhat_upper = 1`, a target which cannot be attained in finite time. "
      ],
      "metadata": {
        "id": "FM_MG5l8pnOl"
      }
    },
    {
      "cell_type": "code",
      "source": [
        "dont_adapt_warmup = True\n",
        "if (dont_adapt_warmup):\n",
        "  nRhat_upper = 1.\n",
        "\n",
        "num_samples = 1"
      ],
      "metadata": {
        "id": "rax77WvAc-2u"
      },
      "execution_count": null,
      "outputs": []
    },
    {
      "cell_type": "code",
      "metadata": {
        "id": "_i0RzC3IULbT"
      },
      "source": [
        "warmup_window = 100\n",
        "max_warmup = 1000\n",
        "\n",
        "window_array = np.append(np.repeat(10, 10), \n",
        "                      np.repeat(warmup_window, max_warmup // warmup_window - 1))\n",
        "\n",
        "\n",
        "kernel_cold = construct_kernel(target_log_prob_fn = target_log_prob_fn,\n",
        "                               init_step_size = init_step_size,\n",
        "                               num_warmup = max_warmup)\n",
        "\n",
        "kernel_warm = construct_kernel(target_log_prob_fn = target_log_prob_fn,\n",
        "                               init_step_size = init_step_size,\n",
        "                               num_warmup = 0)\n",
        "\n",
        "num_samples = num_samples"
      ],
      "execution_count": null,
      "outputs": []
    },
    {
      "cell_type": "code",
      "source": [
        "# check tuning parameters of experiment\n",
        "print(\"num_samples\", num_samples)\n",
        "print(\"num_super_chains\", num_super_chains)\n",
        "print(\"num_chains\", num_chains)\n",
        "print(\"num_seed\", num_seed)\n",
        "print(\"nRhat_upper\", nRhat_upper)"
      ],
      "metadata": {
        "colab": {
          "base_uri": "https://localhost:8080/"
        },
        "id": "1c7DwPFm-082",
        "outputId": "7b87796d-b4f2-4fa1-d18c-9f49ed57c087"
      },
      "execution_count": null,
      "outputs": [
        {
          "output_type": "stream",
          "name": "stdout",
          "text": [
            "num_samples 1\n",
            "num_super_chains 16\n",
            "num_chains 128\n",
            "num_seed 30\n",
            "nRhat_upper 1.0\n"
          ]
        }
      ]
    },
    {
      "cell_type": "code",
      "metadata": {
        "id": "CUNRCGJLTNak",
        "colab": {
          "base_uri": "https://localhost:8080/"
        },
        "outputId": "68e3a586-ab6d-4836-c30b-2a00713d68e3"
      },
      "source": [
        "mc_mean_list, warmup_length,\\\n",
        "squared_error_list, nrhat_list = run_forge_chain(num_seed = num_seed,\n",
        "                                          kernel_cold = kernel_cold,\n",
        "                                          kernel_warm = kernel_warm,\n",
        "                                          initialize = initialize,\n",
        "                                          num_super_chains = num_super_chains,\n",
        "                                          num_warmup = window_array,\n",
        "                                          num_samples = num_samples,\n",
        "                                          target_rhat = nRhat_upper,\n",
        "                                          max_num_steps = window_array.shape[0],\n",
        "                                          # max_num_steps = 1000 // warmup_window,\n",
        "                                          index_param = index_param,\n",
        "                                          # num_nRhat_comp = 3,\n",
        "                                          mean_benchmark = mean_est, \n",
        "                                          var_benchmark = var_est)\n"
      ],
      "execution_count": null,
      "outputs": [
        {
          "output_type": "stream",
          "name": "stdout",
          "text": [
            "NEW SEED\n",
            "nRhat_quantile: ( 1 ) 3.886089563369751\n",
            "nRhat_quantile: ( 1 ) 2.455142021179199\n",
            "nRhat_quantile: ( 1 ) 1.8751780986785889\n",
            "nRhat_quantile: ( 1 ) 1.7086423635482788\n",
            "nRhat_quantile: ( 1 ) 1.6195290088653564\n",
            "nRhat_quantile: ( 1 ) 1.4882928133010864\n",
            "nRhat_quantile: ( 1 ) 1.4847713708877563\n",
            "nRhat_quantile: ( 1 ) 1.3807998895645142\n",
            "nRhat_quantile: ( 1 ) 1.2964147329330444\n",
            "nRhat_quantile: ( 1 ) 1.2144731283187866\n",
            "nRhat_quantile: ( 1 ) 1.0849970579147339\n",
            "nRhat_quantile: ( 1 ) 1.0607532262802124\n",
            "nRhat_quantile: ( 1 ) 1.07977294921875\n",
            "nRhat_quantile: ( 1 ) 1.0473709106445312\n",
            "nRhat_quantile: ( 1 ) 1.0649691820144653\n",
            "nRhat_quantile: ( 1 ) 1.0477080345153809\n",
            "nRhat_quantile: ( 1 ) 1.0630024671554565\n",
            "nRhat_quantile: ( 1 ) 1.087307095527649\n",
            "nRhat_quantile: ( 1 ) 1.0799037218093872\n",
            "NEW SEED\n",
            "nRhat_quantile: ( 1 ) 3.4399962425231934\n",
            "nRhat_quantile: ( 1 ) 3.041477918624878\n",
            "nRhat_quantile: ( 1 ) 2.137415647506714\n",
            "nRhat_quantile: ( 1 ) 1.8590977191925049\n",
            "nRhat_quantile: ( 1 ) 1.695268154144287\n",
            "nRhat_quantile: ( 1 ) 1.6056160926818848\n",
            "nRhat_quantile: ( 1 ) 1.4719791412353516\n",
            "nRhat_quantile: ( 1 ) 1.3467586040496826\n",
            "nRhat_quantile: ( 1 ) 1.3454853296279907\n",
            "nRhat_quantile: ( 1 ) 1.2524129152297974\n",
            "nRhat_quantile: ( 1 ) 1.047593593597412\n",
            "nRhat_quantile: ( 1 ) 1.113095998764038\n",
            "nRhat_quantile: ( 1 ) 1.0744082927703857\n",
            "nRhat_quantile: ( 1 ) 1.0972081422805786\n",
            "nRhat_quantile: ( 1 ) 1.055220127105713\n",
            "nRhat_quantile: ( 1 ) 1.0674561262130737\n",
            "nRhat_quantile: ( 1 ) 1.0783138275146484\n",
            "nRhat_quantile: ( 1 ) 1.0602799654006958\n",
            "nRhat_quantile: ( 1 ) 1.0811102390289307\n",
            "NEW SEED\n",
            "nRhat_quantile: ( 1 ) 3.5286552906036377\n",
            "nRhat_quantile: ( 1 ) 2.662766933441162\n",
            "nRhat_quantile: ( 1 ) 2.1950807571411133\n",
            "nRhat_quantile: ( 1 ) 1.9338712692260742\n",
            "nRhat_quantile: ( 1 ) 1.8679943084716797\n",
            "nRhat_quantile: ( 1 ) 1.7007383108139038\n",
            "nRhat_quantile: ( 1 ) 1.583055853843689\n",
            "nRhat_quantile: ( 1 ) 1.5322449207305908\n",
            "nRhat_quantile: ( 1 ) 1.4460999965667725\n",
            "nRhat_quantile: ( 1 ) 1.3744220733642578\n",
            "nRhat_quantile: ( 1 ) 1.0610357522964478\n",
            "nRhat_quantile: ( 1 ) 1.0721927881240845\n",
            "nRhat_quantile: ( 1 ) 1.0442540645599365\n",
            "nRhat_quantile: ( 1 ) 1.0633492469787598\n",
            "nRhat_quantile: ( 1 ) 1.0508975982666016\n",
            "nRhat_quantile: ( 1 ) 1.0443356037139893\n",
            "nRhat_quantile: ( 1 ) 1.033153772354126\n",
            "nRhat_quantile: ( 1 ) 1.0482779741287231\n",
            "nRhat_quantile: ( 1 ) 1.096292495727539\n",
            "NEW SEED\n",
            "nRhat_quantile: ( 1 ) 4.203580856323242\n",
            "nRhat_quantile: ( 1 ) 3.1058156490325928\n",
            "nRhat_quantile: ( 1 ) 2.458256959915161\n",
            "nRhat_quantile: ( 1 ) 2.148677110671997\n",
            "nRhat_quantile: ( 1 ) 2.002758264541626\n",
            "nRhat_quantile: ( 1 ) 1.771254062652588\n",
            "nRhat_quantile: ( 1 ) 1.6844329833984375\n",
            "nRhat_quantile: ( 1 ) 1.5112601518630981\n",
            "nRhat_quantile: ( 1 ) 1.310922384262085\n",
            "nRhat_quantile: ( 1 ) 1.2877848148345947\n",
            "nRhat_quantile: ( 1 ) 1.0763218402862549\n",
            "nRhat_quantile: ( 1 ) 1.0452847480773926\n",
            "nRhat_quantile: ( 1 ) 1.0911476612091064\n",
            "nRhat_quantile: ( 1 ) 1.0601648092269897\n",
            "nRhat_quantile: ( 1 ) 1.0612707138061523\n",
            "nRhat_quantile: ( 1 ) 1.0473535060882568\n",
            "nRhat_quantile: ( 1 ) 1.0884183645248413\n",
            "nRhat_quantile: ( 1 ) 1.091105341911316\n",
            "nRhat_quantile: ( 1 ) 1.0816116333007812\n",
            "NEW SEED\n",
            "nRhat_quantile: ( 1 ) 4.161169052124023\n",
            "nRhat_quantile: ( 1 ) 2.926938772201538\n",
            "nRhat_quantile: ( 1 ) 2.2030105590820312\n",
            "nRhat_quantile: ( 1 ) 1.88753342628479\n",
            "nRhat_quantile: ( 1 ) 1.546298623085022\n",
            "nRhat_quantile: ( 1 ) 1.3856439590454102\n",
            "nRhat_quantile: ( 1 ) 1.3219101428985596\n",
            "nRhat_quantile: ( 1 ) 1.2316242456436157\n",
            "nRhat_quantile: ( 1 ) 1.1951029300689697\n",
            "nRhat_quantile: ( 1 ) 1.1738702058792114\n",
            "nRhat_quantile: ( 1 ) 1.1024901866912842\n",
            "nRhat_quantile: ( 1 ) 1.0825413465499878\n",
            "nRhat_quantile: ( 1 ) 1.0783661603927612\n",
            "nRhat_quantile: ( 1 ) 1.1096487045288086\n",
            "nRhat_quantile: ( 1 ) 1.0687828063964844\n",
            "nRhat_quantile: ( 1 ) 1.0716742277145386\n",
            "nRhat_quantile: ( 1 ) 1.0879571437835693\n",
            "nRhat_quantile: ( 1 ) 1.0474495887756348\n",
            "nRhat_quantile: ( 1 ) 1.0944057703018188\n",
            "NEW SEED\n",
            "nRhat_quantile: ( 1 ) 3.551015853881836\n",
            "nRhat_quantile: ( 1 ) 2.6482441425323486\n",
            "nRhat_quantile: ( 1 ) 2.3465991020202637\n",
            "nRhat_quantile: ( 1 ) 1.8940004110336304\n",
            "nRhat_quantile: ( 1 ) 1.6804414987564087\n",
            "nRhat_quantile: ( 1 ) 1.5293058156967163\n",
            "nRhat_quantile: ( 1 ) 1.437000036239624\n",
            "nRhat_quantile: ( 1 ) 1.3745921850204468\n",
            "nRhat_quantile: ( 1 ) 1.3049849271774292\n",
            "nRhat_quantile: ( 1 ) 1.2045975923538208\n",
            "nRhat_quantile: ( 1 ) 1.1029375791549683\n",
            "nRhat_quantile: ( 1 ) 1.080791711807251\n",
            "nRhat_quantile: ( 1 ) 1.0844327211380005\n",
            "nRhat_quantile: ( 1 ) 1.0860562324523926\n",
            "nRhat_quantile: ( 1 ) 1.1169379949569702\n",
            "nRhat_quantile: ( 1 ) 1.0545271635055542\n",
            "nRhat_quantile: ( 1 ) 1.0940028429031372\n",
            "nRhat_quantile: ( 1 ) 1.1065198183059692\n",
            "nRhat_quantile: ( 1 ) 1.054559588432312\n",
            "NEW SEED\n",
            "nRhat_quantile: ( 1 ) 2.8305437564849854\n",
            "nRhat_quantile: ( 1 ) 1.904200553894043\n",
            "nRhat_quantile: ( 1 ) 1.5394619703292847\n",
            "nRhat_quantile: ( 1 ) 1.414731502532959\n",
            "nRhat_quantile: ( 1 ) 1.295594334602356\n",
            "nRhat_quantile: ( 1 ) 1.2700313329696655\n",
            "nRhat_quantile: ( 1 ) 1.2211178541183472\n",
            "nRhat_quantile: ( 1 ) 1.2207996845245361\n",
            "nRhat_quantile: ( 1 ) 1.1587239503860474\n",
            "nRhat_quantile: ( 1 ) 1.0900766849517822\n",
            "nRhat_quantile: ( 1 ) 1.0609467029571533\n",
            "nRhat_quantile: ( 1 ) 1.075954794883728\n",
            "nRhat_quantile: ( 1 ) 1.0702379941940308\n",
            "nRhat_quantile: ( 1 ) 1.0503666400909424\n",
            "nRhat_quantile: ( 1 ) 1.0549025535583496\n",
            "nRhat_quantile: ( 1 ) 1.0843446254730225\n",
            "nRhat_quantile: ( 1 ) 1.0644980669021606\n",
            "nRhat_quantile: ( 1 ) 1.0675790309906006\n",
            "nRhat_quantile: ( 1 ) 1.0536787509918213\n",
            "NEW SEED\n",
            "nRhat_quantile: ( 1 ) 4.058496952056885\n",
            "nRhat_quantile: ( 1 ) 2.9368133544921875\n",
            "nRhat_quantile: ( 1 ) 2.3886313438415527\n",
            "nRhat_quantile: ( 1 ) 2.128892421722412\n",
            "nRhat_quantile: ( 1 ) 1.8863807916641235\n",
            "nRhat_quantile: ( 1 ) 1.6916322708129883\n",
            "nRhat_quantile: ( 1 ) 1.539942741394043\n",
            "nRhat_quantile: ( 1 ) 1.5671395063400269\n",
            "nRhat_quantile: ( 1 ) 1.4548945426940918\n",
            "nRhat_quantile: ( 1 ) 1.4071224927902222\n",
            "nRhat_quantile: ( 1 ) 1.0684477090835571\n",
            "nRhat_quantile: ( 1 ) 1.0567411184310913\n",
            "nRhat_quantile: ( 1 ) 1.0914528369903564\n",
            "nRhat_quantile: ( 1 ) 1.0917185544967651\n",
            "nRhat_quantile: ( 1 ) 1.1275702714920044\n",
            "nRhat_quantile: ( 1 ) 1.070209264755249\n",
            "nRhat_quantile: ( 1 ) 1.057931900024414\n",
            "nRhat_quantile: ( 1 ) 1.0831810235977173\n",
            "nRhat_quantile: ( 1 ) 1.0756727457046509\n",
            "NEW SEED\n",
            "nRhat_quantile: ( 1 ) 2.905571699142456\n",
            "nRhat_quantile: ( 1 ) 2.0846428871154785\n",
            "nRhat_quantile: ( 1 ) 1.886691689491272\n",
            "nRhat_quantile: ( 1 ) 1.711513638496399\n",
            "nRhat_quantile: ( 1 ) 1.501645803451538\n",
            "nRhat_quantile: ( 1 ) 1.354121446609497\n",
            "nRhat_quantile: ( 1 ) 1.2794569730758667\n",
            "nRhat_quantile: ( 1 ) 1.2270468473434448\n",
            "nRhat_quantile: ( 1 ) 1.190262794494629\n",
            "nRhat_quantile: ( 1 ) 1.0945574045181274\n",
            "nRhat_quantile: ( 1 ) 1.0672221183776855\n",
            "nRhat_quantile: ( 1 ) 1.101732850074768\n",
            "nRhat_quantile: ( 1 ) 1.062494158744812\n",
            "nRhat_quantile: ( 1 ) 1.0424246788024902\n",
            "nRhat_quantile: ( 1 ) 1.049941062927246\n",
            "nRhat_quantile: ( 1 ) 1.0697709321975708\n",
            "nRhat_quantile: ( 1 ) 1.1332290172576904\n",
            "nRhat_quantile: ( 1 ) 1.074181079864502\n",
            "nRhat_quantile: ( 1 ) 1.0444145202636719\n",
            "NEW SEED\n",
            "nRhat_quantile: ( 1 ) 3.767641305923462\n",
            "nRhat_quantile: ( 1 ) 2.3110318183898926\n",
            "nRhat_quantile: ( 1 ) 2.1963913440704346\n",
            "nRhat_quantile: ( 1 ) 2.0480034351348877\n",
            "nRhat_quantile: ( 1 ) 1.8929874897003174\n",
            "nRhat_quantile: ( 1 ) 1.6864241361618042\n",
            "nRhat_quantile: ( 1 ) 1.6268771886825562\n",
            "nRhat_quantile: ( 1 ) 1.421589970588684\n",
            "nRhat_quantile: ( 1 ) 1.3278952836990356\n",
            "nRhat_quantile: ( 1 ) 1.2393755912780762\n",
            "nRhat_quantile: ( 1 ) 1.0685217380523682\n",
            "nRhat_quantile: ( 1 ) 1.0829664468765259\n",
            "nRhat_quantile: ( 1 ) 1.0932255983352661\n",
            "nRhat_quantile: ( 1 ) 1.0659071207046509\n",
            "nRhat_quantile: ( 1 ) 1.063635230064392\n",
            "nRhat_quantile: ( 1 ) 1.0783050060272217\n",
            "nRhat_quantile: ( 1 ) 1.0793057680130005\n",
            "nRhat_quantile: ( 1 ) 1.0560201406478882\n",
            "nRhat_quantile: ( 1 ) 1.0672693252563477\n",
            "NEW SEED\n",
            "nRhat_quantile: ( 1 ) 5.038052558898926\n",
            "nRhat_quantile: ( 1 ) 3.8381989002227783\n",
            "nRhat_quantile: ( 1 ) 2.65948748588562\n",
            "nRhat_quantile: ( 1 ) 2.212472915649414\n",
            "nRhat_quantile: ( 1 ) 1.9890031814575195\n",
            "nRhat_quantile: ( 1 ) 1.7131235599517822\n",
            "nRhat_quantile: ( 1 ) 1.452404499053955\n",
            "nRhat_quantile: ( 1 ) 1.3537482023239136\n",
            "nRhat_quantile: ( 1 ) 1.2425129413604736\n",
            "nRhat_quantile: ( 1 ) 1.1762028932571411\n",
            "nRhat_quantile: ( 1 ) 1.0533841848373413\n",
            "nRhat_quantile: ( 1 ) 1.0905312299728394\n",
            "nRhat_quantile: ( 1 ) 1.0548360347747803\n",
            "nRhat_quantile: ( 1 ) 1.087957739830017\n",
            "nRhat_quantile: ( 1 ) 1.0715155601501465\n",
            "nRhat_quantile: ( 1 ) 1.0456503629684448\n",
            "nRhat_quantile: ( 1 ) 1.0675411224365234\n",
            "nRhat_quantile: ( 1 ) 1.0847804546356201\n",
            "nRhat_quantile: ( 1 ) 1.095378041267395\n",
            "NEW SEED\n",
            "nRhat_quantile: ( 1 ) 3.941920518875122\n",
            "nRhat_quantile: ( 1 ) 2.8345327377319336\n",
            "nRhat_quantile: ( 1 ) 2.3186326026916504\n",
            "nRhat_quantile: ( 1 ) 2.044522523880005\n",
            "nRhat_quantile: ( 1 ) 1.8019627332687378\n",
            "nRhat_quantile: ( 1 ) 1.6923772096633911\n",
            "nRhat_quantile: ( 1 ) 1.5582466125488281\n",
            "nRhat_quantile: ( 1 ) 1.507344126701355\n",
            "nRhat_quantile: ( 1 ) 1.4499937295913696\n",
            "nRhat_quantile: ( 1 ) 1.3790942430496216\n",
            "nRhat_quantile: ( 1 ) 1.073269248008728\n",
            "nRhat_quantile: ( 1 ) 1.0515130758285522\n",
            "nRhat_quantile: ( 1 ) 1.0767420530319214\n",
            "nRhat_quantile: ( 1 ) 1.0481382608413696\n",
            "nRhat_quantile: ( 1 ) 1.0465657711029053\n",
            "nRhat_quantile: ( 1 ) 1.0537010431289673\n",
            "nRhat_quantile: ( 1 ) 1.0556111335754395\n",
            "nRhat_quantile: ( 1 ) 1.0514949560165405\n",
            "nRhat_quantile: ( 1 ) 1.070772647857666\n",
            "NEW SEED\n",
            "nRhat_quantile: ( 1 ) 6.317699432373047\n",
            "nRhat_quantile: ( 1 ) 3.8675079345703125\n",
            "nRhat_quantile: ( 1 ) 3.2187368869781494\n",
            "nRhat_quantile: ( 1 ) 2.692805051803589\n",
            "nRhat_quantile: ( 1 ) 2.2867674827575684\n",
            "nRhat_quantile: ( 1 ) 2.0064287185668945\n",
            "nRhat_quantile: ( 1 ) 1.776923418045044\n",
            "nRhat_quantile: ( 1 ) 1.6183265447616577\n",
            "nRhat_quantile: ( 1 ) 1.5054837465286255\n",
            "nRhat_quantile: ( 1 ) 1.4266782999038696\n",
            "nRhat_quantile: ( 1 ) 1.0629446506500244\n",
            "nRhat_quantile: ( 1 ) 1.0697352886199951\n",
            "nRhat_quantile: ( 1 ) 1.1335848569869995\n",
            "nRhat_quantile: ( 1 ) 1.0691384077072144\n",
            "nRhat_quantile: ( 1 ) 1.0787602663040161\n",
            "nRhat_quantile: ( 1 ) 1.0926443338394165\n",
            "nRhat_quantile: ( 1 ) 1.06699800491333\n",
            "nRhat_quantile: ( 1 ) 1.0920766592025757\n",
            "nRhat_quantile: ( 1 ) 1.0944156646728516\n",
            "NEW SEED\n",
            "nRhat_quantile: ( 1 ) 3.726008892059326\n",
            "nRhat_quantile: ( 1 ) 2.8597686290740967\n",
            "nRhat_quantile: ( 1 ) 2.2929701805114746\n",
            "nRhat_quantile: ( 1 ) 2.140249490737915\n",
            "nRhat_quantile: ( 1 ) 2.0156917572021484\n",
            "nRhat_quantile: ( 1 ) 1.8419647216796875\n",
            "nRhat_quantile: ( 1 ) 1.6607431173324585\n",
            "nRhat_quantile: ( 1 ) 1.531725287437439\n",
            "nRhat_quantile: ( 1 ) 1.5414378643035889\n",
            "nRhat_quantile: ( 1 ) 1.3849965333938599\n",
            "nRhat_quantile: ( 1 ) 1.0620514154434204\n",
            "nRhat_quantile: ( 1 ) 1.0600545406341553\n",
            "nRhat_quantile: ( 1 ) 1.0633996725082397\n",
            "nRhat_quantile: ( 1 ) 1.0857211351394653\n",
            "nRhat_quantile: ( 1 ) 1.0852786302566528\n",
            "nRhat_quantile: ( 1 ) 1.0702812671661377\n",
            "nRhat_quantile: ( 1 ) 1.0670931339263916\n",
            "nRhat_quantile: ( 1 ) 1.101212978363037\n",
            "nRhat_quantile: ( 1 ) 1.0522444248199463\n",
            "NEW SEED\n",
            "nRhat_quantile: ( 1 ) 4.207092761993408\n",
            "nRhat_quantile: ( 1 ) 2.57269549369812\n",
            "nRhat_quantile: ( 1 ) 2.0573859214782715\n",
            "nRhat_quantile: ( 1 ) 1.8593032360076904\n",
            "nRhat_quantile: ( 1 ) 1.649291753768921\n",
            "nRhat_quantile: ( 1 ) 1.4906595945358276\n",
            "nRhat_quantile: ( 1 ) 1.3918025493621826\n",
            "nRhat_quantile: ( 1 ) 1.315359354019165\n",
            "nRhat_quantile: ( 1 ) 1.271026849746704\n",
            "nRhat_quantile: ( 1 ) 1.2747015953063965\n",
            "nRhat_quantile: ( 1 ) 1.0669395923614502\n",
            "nRhat_quantile: ( 1 ) 1.084572434425354\n",
            "nRhat_quantile: ( 1 ) 1.1143302917480469\n",
            "nRhat_quantile: ( 1 ) 1.099032998085022\n",
            "nRhat_quantile: ( 1 ) 1.0753260850906372\n",
            "nRhat_quantile: ( 1 ) 1.0680253505706787\n",
            "nRhat_quantile: ( 1 ) 1.0752586126327515\n",
            "nRhat_quantile: ( 1 ) 1.0620630979537964\n",
            "nRhat_quantile: ( 1 ) 1.0581344366073608\n",
            "NEW SEED\n",
            "nRhat_quantile: ( 1 ) 3.768651008605957\n",
            "nRhat_quantile: ( 1 ) 2.820594549179077\n",
            "nRhat_quantile: ( 1 ) 1.960538387298584\n",
            "nRhat_quantile: ( 1 ) 1.742303729057312\n",
            "nRhat_quantile: ( 1 ) 1.529105544090271\n",
            "nRhat_quantile: ( 1 ) 1.4088157415390015\n",
            "nRhat_quantile: ( 1 ) 1.230297565460205\n",
            "nRhat_quantile: ( 1 ) 1.1740012168884277\n",
            "nRhat_quantile: ( 1 ) 1.0872317552566528\n",
            "nRhat_quantile: ( 1 ) 1.0622717142105103\n",
            "nRhat_quantile: ( 1 ) 1.0708645582199097\n",
            "nRhat_quantile: ( 1 ) 1.0607668161392212\n",
            "nRhat_quantile: ( 1 ) 1.0958614349365234\n",
            "nRhat_quantile: ( 1 ) 1.0781733989715576\n",
            "nRhat_quantile: ( 1 ) 1.0435380935668945\n",
            "nRhat_quantile: ( 1 ) 1.0396844148635864\n",
            "nRhat_quantile: ( 1 ) 1.0462369918823242\n",
            "nRhat_quantile: ( 1 ) 1.0498077869415283\n",
            "nRhat_quantile: ( 1 ) 1.044960856437683\n",
            "NEW SEED\n",
            "nRhat_quantile: ( 1 ) 2.96095871925354\n",
            "nRhat_quantile: ( 1 ) 2.1827306747436523\n",
            "nRhat_quantile: ( 1 ) 1.9122381210327148\n",
            "nRhat_quantile: ( 1 ) 1.6442519426345825\n",
            "nRhat_quantile: ( 1 ) 1.554874300956726\n",
            "nRhat_quantile: ( 1 ) 1.4418429136276245\n",
            "nRhat_quantile: ( 1 ) 1.3878543376922607\n",
            "nRhat_quantile: ( 1 ) 1.3990970849990845\n",
            "nRhat_quantile: ( 1 ) 1.2582141160964966\n",
            "nRhat_quantile: ( 1 ) 1.2196884155273438\n",
            "nRhat_quantile: ( 1 ) 1.077826738357544\n",
            "nRhat_quantile: ( 1 ) 1.0482912063598633\n",
            "nRhat_quantile: ( 1 ) 1.0821486711502075\n",
            "nRhat_quantile: ( 1 ) 1.0721726417541504\n",
            "nRhat_quantile: ( 1 ) 1.0592139959335327\n",
            "nRhat_quantile: ( 1 ) 1.0407116413116455\n",
            "nRhat_quantile: ( 1 ) 1.0718567371368408\n",
            "nRhat_quantile: ( 1 ) 1.0522994995117188\n",
            "nRhat_quantile: ( 1 ) 1.056341528892517\n",
            "NEW SEED\n",
            "nRhat_quantile: ( 1 ) 3.875035285949707\n",
            "nRhat_quantile: ( 1 ) 3.0970778465270996\n",
            "nRhat_quantile: ( 1 ) 2.6930649280548096\n",
            "nRhat_quantile: ( 1 ) 2.1911234855651855\n",
            "nRhat_quantile: ( 1 ) 1.6717331409454346\n",
            "nRhat_quantile: ( 1 ) 1.6101411581039429\n",
            "nRhat_quantile: ( 1 ) 1.4487013816833496\n",
            "nRhat_quantile: ( 1 ) 1.3594694137573242\n",
            "nRhat_quantile: ( 1 ) 1.2842745780944824\n",
            "nRhat_quantile: ( 1 ) 1.2362843751907349\n",
            "nRhat_quantile: ( 1 ) 1.0699899196624756\n",
            "nRhat_quantile: ( 1 ) 1.0782663822174072\n",
            "nRhat_quantile: ( 1 ) 1.0705724954605103\n",
            "nRhat_quantile: ( 1 ) 1.0816259384155273\n",
            "nRhat_quantile: ( 1 ) 1.0328363180160522\n",
            "nRhat_quantile: ( 1 ) 1.0562881231307983\n",
            "nRhat_quantile: ( 1 ) 1.0826714038848877\n",
            "nRhat_quantile: ( 1 ) 1.0324140787124634\n",
            "nRhat_quantile: ( 1 ) 1.0553559064865112\n",
            "NEW SEED\n",
            "nRhat_quantile: ( 1 ) 4.982927322387695\n",
            "nRhat_quantile: ( 1 ) 3.3014638423919678\n",
            "nRhat_quantile: ( 1 ) 2.997594118118286\n",
            "nRhat_quantile: ( 1 ) 2.504070520401001\n",
            "nRhat_quantile: ( 1 ) 2.1308224201202393\n",
            "nRhat_quantile: ( 1 ) 1.9506644010543823\n",
            "nRhat_quantile: ( 1 ) 1.7612292766571045\n",
            "nRhat_quantile: ( 1 ) 1.6730023622512817\n",
            "nRhat_quantile: ( 1 ) 1.5940885543823242\n",
            "nRhat_quantile: ( 1 ) 1.4231151342391968\n",
            "nRhat_quantile: ( 1 ) 1.0537183284759521\n",
            "nRhat_quantile: ( 1 ) 1.0602260828018188\n",
            "nRhat_quantile: ( 1 ) 1.0978816747665405\n",
            "nRhat_quantile: ( 1 ) 1.0629278421401978\n",
            "nRhat_quantile: ( 1 ) 1.0875141620635986\n",
            "nRhat_quantile: ( 1 ) 1.0714155435562134\n",
            "nRhat_quantile: ( 1 ) 1.0650359392166138\n",
            "nRhat_quantile: ( 1 ) 1.0635337829589844\n",
            "nRhat_quantile: ( 1 ) 1.0481284856796265\n",
            "NEW SEED\n",
            "nRhat_quantile: ( 1 ) 3.6105198860168457\n",
            "nRhat_quantile: ( 1 ) 3.0611953735351562\n",
            "nRhat_quantile: ( 1 ) 2.360313653945923\n",
            "nRhat_quantile: ( 1 ) 2.0273897647857666\n",
            "nRhat_quantile: ( 1 ) 1.8977344036102295\n",
            "nRhat_quantile: ( 1 ) 1.7441837787628174\n",
            "nRhat_quantile: ( 1 ) 1.449568748474121\n",
            "nRhat_quantile: ( 1 ) 1.336686372756958\n",
            "nRhat_quantile: ( 1 ) 1.3097035884857178\n",
            "nRhat_quantile: ( 1 ) 1.187941074371338\n",
            "nRhat_quantile: ( 1 ) 1.0714788436889648\n",
            "nRhat_quantile: ( 1 ) 1.060436487197876\n",
            "nRhat_quantile: ( 1 ) 1.0587185621261597\n",
            "nRhat_quantile: ( 1 ) 1.0428974628448486\n",
            "nRhat_quantile: ( 1 ) 1.0498991012573242\n",
            "nRhat_quantile: ( 1 ) 1.0604543685913086\n",
            "nRhat_quantile: ( 1 ) 1.0650242567062378\n",
            "nRhat_quantile: ( 1 ) 1.0486770868301392\n",
            "nRhat_quantile: ( 1 ) 1.0671658515930176\n",
            "NEW SEED\n",
            "nRhat_quantile: ( 1 ) 3.139613389968872\n",
            "nRhat_quantile: ( 1 ) 2.473581075668335\n",
            "nRhat_quantile: ( 1 ) 2.0529263019561768\n",
            "nRhat_quantile: ( 1 ) 1.8362488746643066\n",
            "nRhat_quantile: ( 1 ) 1.5758661031723022\n",
            "nRhat_quantile: ( 1 ) 1.4486033916473389\n",
            "nRhat_quantile: ( 1 ) 1.3569735288619995\n",
            "nRhat_quantile: ( 1 ) 1.2467753887176514\n"
          ]
        },
        {
          "output_type": "stream",
          "name": "stderr",
          "text": [
            "Exception ignored in: <bound method WeakStructRef._cleanup of WeakStructRef([HashableWeakRef(<weakref at 0x7fe18bb507d0; dead>)])>\n",
            "Traceback (most recent call last):\n",
            "  File \"/usr/local/lib/python3.7/dist-packages/tensorflow_probability/substrates/jax/internal/cache_util.py\", line 148, in _cleanup\n",
            "    def _cleanup(self, _):\n",
            "KeyboardInterrupt\n"
          ]
        },
        {
          "output_type": "stream",
          "name": "stdout",
          "text": [
            "nRhat_quantile: ( 1 ) 1.1961579322814941\n",
            "nRhat_quantile: ( 1 ) 1.1813935041427612\n"
          ]
        }
      ]
    },
    {
      "cell_type": "code",
      "metadata": {
        "id": "vwWOQOPdU7SU"
      },
      "source": [
        "square_error = np.square(mc_mean_list - mean_est[index_param])\n",
        "expected_error = var_est[index_param] / num_chains\n",
        "\n",
        "plot_data = [square_error[:, 0] / expected_error[0]]\n",
        "for i in range(1, index_param.shape[0]):\n",
        "  plot_data.append(square_error[:, i] / expected_error[i])\n",
        "\n",
        "fig = figure(figsize =(6, 3))\n",
        "ax = fig.add_axes([0, 0, 1, 1])\n",
        "ax.boxplot(plot_data)\n",
        "axhline(y = 1, linestyle = \"--\")\n",
        "axhline(y = chi_up)   # 90th quantile for chi squared with df = 1\n",
        "axhline(y = chi_lo) # 5th quantile for chi squared with df = 1 \n",
        "title(\"Squared Error over expected squared error (if chains converged)\")\n",
        "show()"
      ],
      "execution_count": null,
      "outputs": []
    },
    {
      "cell_type": "code",
      "metadata": {
        "id": "eIxlgpwOVCeF"
      },
      "source": [
        "# NOTE: if rhat_upper = 1, will always hit iter = 1000\n",
        "scatter(warmup_length, square_error[:, 0] / expected_error[0], alpha = 0.5)\n",
        "axhline(y = 1, linestyle = \"--\")\n",
        "axhline(y = chi_up)   # 90th quantile for chi squared with df = 1\n",
        "axhline(y = chi_lo) # 5th quantile for chi squared with df = 1 \n",
        "show()"
      ],
      "execution_count": null,
      "outputs": []
    },
    {
      "cell_type": "code",
      "metadata": {
        "id": "mlUE1dmWMNgY"
      },
      "source": [
        "scatter(nrhat_list - 1, squared_error_list, alpha = 0.5)\n",
        "axvline(x = nRhat_upper - 1, linestyle = \"--\")\n",
        "xscale('log')\n",
        "yscale('log')\n",
        "axhline(y = 1 / num_chains, color = 'black')\n",
        "axhline(y = chi_up / num_chains, color = 'black', linestyle = '--')\n",
        "axhline(y = chi_lo / num_chains, color = 'black', linestyle = '--')"
      ],
      "execution_count": null,
      "outputs": []
    },
    {
      "cell_type": "code",
      "metadata": {
        "id": "4ODTnDVLLvnK"
      },
      "source": [
        "nrhat_list.shape[0]"
      ],
      "execution_count": null,
      "outputs": []
    },
    {
      "cell_type": "code",
      "source": [
        "num_super_chains"
      ],
      "metadata": {
        "id": "c384j6Hwuljc"
      },
      "execution_count": null,
      "outputs": []
    },
    {
      "cell_type": "code",
      "metadata": {
        "id": "6YZNHY1YNGbP"
      },
      "source": [
        "# Save output into npy files on gdrive\n",
        "model_name = \"banana\"\n",
        "\n",
        "np.save(dir_name + model_name + \"_K\" + str(num_super_chains) + \"_M\" + str(num_sub_chains) + \"_N\" + str(num_samples) + \"_max_nrhat\", nrhat_list)\n",
        "np.save(dir_name + model_name + \"_K\" + str(num_super_chains) + \"_M\" + str(num_sub_chains) + \"_N\" + str(num_samples) + \"_squared_error\", squared_error_list)"
      ],
      "execution_count": null,
      "outputs": []
    },
    {
      "cell_type": "markdown",
      "metadata": {
        "id": "krLvJlzfP8Hl"
      },
      "source": [
        "## German credit score"
      ]
    },
    {
      "cell_type": "code",
      "metadata": {
        "id": "e9kNu5epQHri",
        "colab": {
          "base_uri": "https://localhost:8080/"
        },
        "outputId": "86b81e30-e5cd-4481-b840-0bbd0683ce85"
      },
      "source": [
        "target = gym.targets.VectorModel(gym.targets.GermanCreditNumericLogisticRegression(),\n",
        "                                  flatten_sample_transformations=True)\n",
        "num_dimensions = target.event_shape[0]  \n",
        "init_step_size = 0.02\n",
        "\n",
        "def target_log_prob_fn(x):\n",
        "  \"\"\"Unnormalized, unconstrained target density.\n",
        "  \n",
        "  This is a thin wrapper that applies the default bijectors so that we can\n",
        "  ignore any constraints.\n",
        "  \"\"\"\n",
        "  y = target.default_event_space_bijector(x)\n",
        "  fldj = target.default_event_space_bijector.forward_log_det_jacobian(x)\n",
        "  return target.unnormalized_log_prob(y) + fldj\n",
        "\n",
        "offset = 0.5\n",
        "def initialize (shape, key = random.PRNGKey(37272709)):\n",
        "  return 3 * random.normal(key, shape + (num_dimensions,)) + offset"
      ],
      "execution_count": null,
      "outputs": [
        {
          "output_type": "stream",
          "name": "stderr",
          "text": [
            "/usr/local/lib/python3.7/dist-packages/tensorflow_probability/python/internal/backend/jax/ops.py:282: UserWarning: Explicitly requested dtype float64 requested in astype is not available, and will be truncated to dtype float32. To enable more dtypes, set the jax_enable_x64 configuration option or the JAX_ENABLE_X64 shell environment variable. See https://github.com/google/jax#current-gotchas for more.\n",
            "  return arr.astype(dtype)\n"
          ]
        }
      ]
    },
    {
      "cell_type": "code",
      "metadata": {
        "id": "gEVD0FZ_Q0Si"
      },
      "source": [
        "# Get some estimates of the mean and variance.\n",
        "try:\n",
        "  mean_est = target.sample_transformations['identity'].ground_truth_mean\n",
        "except:\n",
        "  print('no ground truth mean')\n",
        "  mean_est = (result.all_states[num_warmup:, :]).mean(0).mean(0)\n",
        "try:\n",
        "  var_est = target.sample_transformations['identity'].ground_truth_standard_deviation**2\n",
        "except:\n",
        "  print('no ground truth std dev')\n",
        "  var_est = ((result.all_states[num_warmup:, :]**2).mean(0).mean(0) -\n",
        "             mean_est**2)"
      ],
      "execution_count": null,
      "outputs": []
    },
    {
      "cell_type": "code",
      "metadata": {
        "id": "iyQ6NzQ_Q4FP"
      },
      "source": [
        "num_seed = 10\n",
        "num_warmup, num_samples = 500, 5\n",
        "total_samples = num_warmup + num_samples + 1\n",
        "\n",
        "kernel = construct_kernel(target_log_prob_fn = target_log_prob_fn,\n",
        "                          init_step_size = init_step_size,\n",
        "                          num_warmup = num_warmup)"
      ],
      "execution_count": null,
      "outputs": []
    },
    {
      "cell_type": "code",
      "metadata": {
        "id": "y4RM62ZfRHSJ"
      },
      "source": [
        "index_param = np.arange(0, 25)"
      ],
      "execution_count": null,
      "outputs": []
    },
    {
      "cell_type": "markdown",
      "metadata": {
        "id": "XU1NsI3FaALi"
      },
      "source": [
        "### $n \\hat R$ diagnostic"
      ]
    },
    {
      "cell_type": "code",
      "metadata": {
        "id": "Zjq6mAoyQ_sY"
      },
      "source": [
        "Rhat_list, nRhat_list, B_list, W_list, mc_mean_list = run_fits(\n",
        "           num_seed = num_seed, total_samples = total_samples,\n",
        "           initialize = initialize, kernel = kernel,\n",
        "           num_super_chains = num_super_chains, index_param = index_param,\n",
        "           num_samples = num_samples, num_warmup = num_warmup,\n",
        "           rank_normalize = rank_normalize)"
      ],
      "execution_count": null,
      "outputs": []
    },
    {
      "cell_type": "code",
      "metadata": {
        "id": "uI4pohRF-u5v"
      },
      "source": [
        "# OPTIONAL: correct Rhat to avoid having negative values.\n",
        "if True:\n",
        "  Rhat_list = np.sqrt(np.square(Rhat_list) - (num_samples - 1) / num_samples + 1)"
      ],
      "execution_count": null,
      "outputs": []
    },
    {
      "cell_type": "code",
      "metadata": {
        "id": "smuUQgL2HbRE"
      },
      "source": [
        "square_error = np.square(mc_mean_list - mean_est[index_param])\n",
        "expected_error = var_est[index_param] / num_chains\n",
        "\n",
        "plot_data = [square_error[:, 0] / expected_error[0]]\n",
        "for i in range(1, index_param.shape[0]):\n",
        "  plot_data.append(square_error[:, i] / expected_error[i])\n",
        "\n",
        "fig = figure(figsize =(6, 3))\n",
        "ax = fig.add_axes([0, 0, 1, 1])\n",
        "ax.boxplot(plot_data)\n",
        "axhline(y = 1, linestyle = \"--\")\n",
        "axhline(y = chi_up)   # 90th quantile for chi squared with df = 1\n",
        "axhline(y = chi_lo) # 5th quantile for chi squared with df = 1\n",
        "title(\"Squared Error over expected squared error (if chains converged)\")\n",
        "show()"
      ],
      "execution_count": null,
      "outputs": []
    },
    {
      "cell_type": "code",
      "metadata": {
        "id": "FRBvR93dTQZH"
      },
      "source": [
        "plot_data = [nRhat_list[:, 0], Rhat_list[:, 0]]\n",
        "ylabels = ['nRhat[0]', 'Rhat[0]']\n",
        "plot_data_nRhat = [nRhat_list[:, 0]]\n",
        "ylabels_nRhat = ['nRhat[0]']\n",
        "for i in range(1, index_param.shape[0]):\n",
        "  plot_data.append(nRhat_list[:, i])\n",
        "  plot_data.append(Rhat_list[:, i])\n",
        "  ylabels.append(('nRhat[' + str(i) + ']'))\n",
        "  ylabels.append(('Rhat[' + str(i) + ']'))\n",
        "\n",
        "  plot_data_nRhat.append(nRhat_list[:, i])\n",
        "  ylabels_nRhat.append(('nRhat[' + str(i) + ']'))\n"
      ],
      "execution_count": null,
      "outputs": []
    },
    {
      "cell_type": "code",
      "metadata": {
        "id": "MtiAH86iTE5M"
      },
      "source": [
        "fig = figure(figsize =(6, 0.5 * index_param.shape[0]))\n",
        "ax = fig.add_axes([0, 0, 1, 1])\n",
        "axvline(x = 1, color = 'y', linestyle = '--', linewidth = 0.5,\n",
        "        label = \"x = 1\")\n",
        "axvline(x = 1.05, color = 'r', linestyle = '--', linewidth = 0.5,\n",
        "        label = \"x = 1.05\")\n",
        "axvline(x = nRhat_upper, color = 'c', linestyle = '--', linewidth = 0.5,\n",
        "        label = \"x = u\")\n",
        "ax.boxplot(plot_data, vert = 0)\n",
        "ax.set_yticklabels(ylabels)\n",
        "title('Warmup = ' + str(num_warmup) + ', samples = ' + str(num_samples))\n",
        "legend(loc = \"best\")\n",
        "show()"
      ],
      "execution_count": null,
      "outputs": []
    },
    {
      "cell_type": "code",
      "metadata": {
        "id": "NI4dRjDrVrrC"
      },
      "source": [
        "# Let's take a closer look at the nRhat's and compare them\n",
        "# to what we would expect from independent samples.\n",
        "fig = figure(figsize =(6, 0.5 * index_param.shape[0]))\n",
        "ax = fig.add_axes([0, 0, 1, 1])\n",
        "axvline(x = 1, color = 'y', linestyle = '--', linewidth = 0.5,\n",
        "        label = \"x = 1\")\n",
        "axvline(x = nRhat_upper, color = 'c', linestyle = '--', linewidth = 0.5,\n",
        "        label = \"x = u\")\n",
        "ax.boxplot(plot_data_nRhat, vert = 0)\n",
        "ax.set_yticklabels(ylabels_nRhat)\n",
        "title('Warmup = ' + str(num_warmup) + ', samples = ' + str(num_samples))\n",
        "legend(loc = \"best\")\n",
        "show()"
      ],
      "execution_count": null,
      "outputs": []
    },
    {
      "cell_type": "markdown",
      "metadata": {
        "id": "tu2cWSfObhBU"
      },
      "source": [
        "### Adapative warmup length"
      ]
    },
    {
      "cell_type": "code",
      "metadata": {
        "id": "u5h5FFoFbgG0"
      },
      "source": [
        "warmup_window = 100\n",
        "max_warmup = 1000\n",
        "\n",
        "window_array = np.append(np.repeat(10, 10), \n",
        "                      np.repeat(warmup_window, max_warmup // warmup_window - 1))\n",
        "\n",
        "\n",
        "kernel_cold = construct_kernel(target_log_prob_fn = target_log_prob_fn,\n",
        "                               init_step_size = init_step_size,\n",
        "                               num_warmup = max_warmup)\n",
        "\n",
        "kernel_warm = construct_kernel(target_log_prob_fn = target_log_prob_fn,\n",
        "                               init_step_size = init_step_size,\n",
        "                               num_warmup = 0)\n",
        "\n",
        "num_seed = 10\n",
        "nRhat_upper = 1 +  0.05  # no warmup early ending if set to 1\n",
        "alpha_quantile = 1\n",
        "num_samples = 5"
      ],
      "execution_count": null,
      "outputs": []
    },
    {
      "cell_type": "code",
      "source": [
        "# Check the tuning parameters of the experiment\n",
        "print(\"num_samples: \", num_samples)\n",
        "print(\"nRhat_upper: \", nRhat_upper)\n",
        "print(\"num_seed: \", num_seed)\n",
        "print(\"num_super_chains:\", num_super_chains)\n",
        "print(\"num_sub_chains:\", num_sub_chains)"
      ],
      "metadata": {
        "id": "uPjB7lsgscjL",
        "colab": {
          "base_uri": "https://localhost:8080/"
        },
        "outputId": "a298a7db-a8c7-4856-ccef-ce5b7674852a"
      },
      "execution_count": null,
      "outputs": [
        {
          "output_type": "stream",
          "name": "stdout",
          "text": [
            "num_samples:  5\n",
            "nRhat_upper:  1.05\n",
            "num_seed:  10\n",
            "num_super_chains: 16\n",
            "num_sub_chains: 8\n"
          ]
        }
      ]
    },
    {
      "cell_type": "code",
      "metadata": {
        "id": "dsAI4I7Dbt9O",
        "colab": {
          "base_uri": "https://localhost:8080/"
        },
        "outputId": "c03ac610-0483-440e-ae18-d4fada4240be"
      },
      "source": [
        "mc_mean_list, warmup_length,\\\n",
        "squared_error_list, max_nrhat_list = run_forge_chain(num_seed = num_seed,\n",
        "                                  kernel_cold = kernel_cold,\n",
        "                                  kernel_warm = kernel_warm,\n",
        "                                  initialize = initialize,\n",
        "                                  num_super_chains = num_super_chains,\n",
        "                                  num_warmup = window_array,\n",
        "                                  num_samples = num_samples,\n",
        "                                  target_rhat = nRhat_upper,\n",
        "                                  max_num_steps = window_array.shape[0],\n",
        "                                  # max_num_steps = max_warmup // warmup_window,\n",
        "                                  index_param = index_param,\n",
        "                                  num_nRhat_comp = 1,\n",
        "                                  rank_normalize = rank_normalize,\n",
        "                                  alpha_quantile = alpha_quantile,\n",
        "                                  mean_benchmark = mean_est,\n",
        "                                  var_benchmark = var_est)\n"
      ],
      "execution_count": null,
      "outputs": [
        {
          "output_type": "stream",
          "name": "stdout",
          "text": [
            "NEW SEED\n",
            "nRhat_quantile: ( 1 ) 5.476095199584961\n",
            "nRhat_quantile: ( 1 ) 4.442435264587402\n",
            "nRhat_quantile: ( 1 ) 3.8192873001098633\n",
            "nRhat_quantile: ( 1 ) 3.410398006439209\n",
            "nRhat_quantile: ( 1 ) 3.018731117248535\n",
            "nRhat_quantile: ( 1 ) 2.5969598293304443\n",
            "nRhat_quantile: ( 1 ) 2.1592366695404053\n",
            "nRhat_quantile: ( 1 ) 1.8633861541748047\n",
            "nRhat_quantile: ( 1 ) 1.6518861055374146\n",
            "nRhat_quantile: ( 1 ) 1.535868763923645\n",
            "nRhat_quantile: ( 1 ) 1.092092514038086\n",
            "nRhat_quantile: ( 1 ) 1.083252191543579\n",
            "nRhat_quantile: ( 1 ) 1.0851657390594482\n",
            "nRhat_quantile: ( 1 ) 1.1052576303482056\n",
            "nRhat_quantile: ( 1 ) 1.0721015930175781\n",
            "nRhat_quantile: ( 1 ) 1.0216498374938965\n",
            "NEW SEED\n",
            "nRhat_quantile: ( 1 ) 4.623876094818115\n",
            "nRhat_quantile: ( 1 ) 4.844254016876221\n",
            "nRhat_quantile: ( 1 ) 3.7532033920288086\n",
            "nRhat_quantile: ( 1 ) 3.3766391277313232\n",
            "nRhat_quantile: ( 1 ) 3.01442813873291\n",
            "nRhat_quantile: ( 1 ) 2.5341339111328125\n",
            "nRhat_quantile: ( 1 ) 2.159726619720459\n",
            "nRhat_quantile: ( 1 ) 1.9178146123886108\n",
            "nRhat_quantile: ( 1 ) 1.6287105083465576\n",
            "nRhat_quantile: ( 1 ) 1.4906789064407349\n",
            "nRhat_quantile: ( 1 ) 1.0960806608200073\n",
            "nRhat_quantile: ( 1 ) 1.1355494260787964\n",
            "nRhat_quantile: ( 1 ) 1.1615841388702393\n",
            "nRhat_quantile: ( 1 ) 1.0907751321792603\n",
            "nRhat_quantile: ( 1 ) 1.0388833284378052\n",
            "NEW SEED\n",
            "nRhat_quantile: ( 1 ) 4.804380416870117\n",
            "nRhat_quantile: ( 1 ) 4.801712512969971\n",
            "nRhat_quantile: ( 1 ) 4.087174892425537\n",
            "nRhat_quantile: ( 1 ) 3.2650227546691895\n",
            "nRhat_quantile: ( 1 ) 2.9330947399139404\n",
            "nRhat_quantile: ( 1 ) 2.5210800170898438\n",
            "nRhat_quantile: ( 1 ) 2.1997299194335938\n",
            "nRhat_quantile: ( 1 ) 1.830729603767395\n",
            "nRhat_quantile: ( 1 ) 1.5605047941207886\n",
            "nRhat_quantile: ( 1 ) 1.4311273097991943\n",
            "nRhat_quantile: ( 1 ) 1.1298396587371826\n",
            "nRhat_quantile: ( 1 ) 1.1026959419250488\n",
            "nRhat_quantile: ( 1 ) 1.079772710800171\n",
            "nRhat_quantile: ( 1 ) 1.0927842855453491\n",
            "nRhat_quantile: ( 1 ) 1.0707221031188965\n",
            "nRhat_quantile: ( 1 ) 1.0304616689682007\n",
            "NEW SEED\n",
            "nRhat_quantile: ( 1 ) 4.035607814788818\n",
            "nRhat_quantile: ( 1 ) 3.266392707824707\n",
            "nRhat_quantile: ( 1 ) 2.887855291366577\n",
            "nRhat_quantile: ( 1 ) 2.733771562576294\n",
            "nRhat_quantile: ( 1 ) 2.829533576965332\n",
            "nRhat_quantile: ( 1 ) 2.727325439453125\n",
            "nRhat_quantile: ( 1 ) 2.822960138320923\n",
            "nRhat_quantile: ( 1 ) 2.631646156311035\n",
            "nRhat_quantile: ( 1 ) 2.393324851989746\n",
            "nRhat_quantile: ( 1 ) 2.227957248687744\n",
            "nRhat_quantile: ( 1 ) 1.1193186044692993\n",
            "nRhat_quantile: ( 1 ) 1.085331916809082\n",
            "nRhat_quantile: ( 1 ) 1.1133933067321777\n",
            "nRhat_quantile: ( 1 ) 1.0869539976119995\n",
            "nRhat_quantile: ( 1 ) 1.0404468774795532\n",
            "NEW SEED\n",
            "nRhat_quantile: ( 1 ) 4.504968643188477\n",
            "nRhat_quantile: ( 1 ) 3.5563807487487793\n",
            "nRhat_quantile: ( 1 ) 3.4645466804504395\n",
            "nRhat_quantile: ( 1 ) 3.112412452697754\n",
            "nRhat_quantile: ( 1 ) 2.987220048904419\n",
            "nRhat_quantile: ( 1 ) 2.696127414703369\n",
            "nRhat_quantile: ( 1 ) 2.422102212905884\n",
            "nRhat_quantile: ( 1 ) 2.248610496520996\n",
            "nRhat_quantile: ( 1 ) 2.1863045692443848\n",
            "nRhat_quantile: ( 1 ) 2.0446577072143555\n",
            "nRhat_quantile: ( 1 ) 1.1098875999450684\n",
            "nRhat_quantile: ( 1 ) 1.0968176126480103\n",
            "nRhat_quantile: ( 1 ) 1.0741703510284424\n",
            "nRhat_quantile: ( 1 ) 1.091002345085144\n",
            "nRhat_quantile: ( 1 ) 1.0327786207199097\n",
            "NEW SEED\n",
            "nRhat_quantile: ( 1 ) 5.511138916015625\n",
            "nRhat_quantile: ( 1 ) 4.360097885131836\n",
            "nRhat_quantile: ( 1 ) 4.018749237060547\n",
            "nRhat_quantile: ( 1 ) 3.4690661430358887\n",
            "nRhat_quantile: ( 1 ) 3.2983603477478027\n",
            "nRhat_quantile: ( 1 ) 3.11118221282959\n",
            "nRhat_quantile: ( 1 ) 3.2758028507232666\n",
            "nRhat_quantile: ( 1 ) 3.2542638778686523\n",
            "nRhat_quantile: ( 1 ) 3.144383192062378\n",
            "nRhat_quantile: ( 1 ) 3.1973021030426025\n",
            "nRhat_quantile: ( 1 ) 1.163269281387329\n",
            "nRhat_quantile: ( 1 ) 1.0840117931365967\n",
            "nRhat_quantile: ( 1 ) 1.0970004796981812\n",
            "nRhat_quantile: ( 1 ) 1.0893278121948242\n",
            "nRhat_quantile: ( 1 ) 1.041434407234192\n",
            "NEW SEED\n",
            "nRhat_quantile: ( 1 ) 3.8860437870025635\n",
            "nRhat_quantile: ( 1 ) 3.181227445602417\n",
            "nRhat_quantile: ( 1 ) 2.7410964965820312\n",
            "nRhat_quantile: ( 1 ) 2.2576162815093994\n",
            "nRhat_quantile: ( 1 ) 2.0472259521484375\n",
            "nRhat_quantile: ( 1 ) 1.8732061386108398\n",
            "nRhat_quantile: ( 1 ) 1.5268425941467285\n",
            "nRhat_quantile: ( 1 ) 1.3990567922592163\n",
            "nRhat_quantile: ( 1 ) 1.265945315361023\n",
            "nRhat_quantile: ( 1 ) 1.1736232042312622\n",
            "nRhat_quantile: ( 1 ) 1.0884730815887451\n",
            "nRhat_quantile: ( 1 ) 1.1693408489227295\n",
            "nRhat_quantile: ( 1 ) 1.0657459497451782\n",
            "nRhat_quantile: ( 1 ) 1.0943450927734375\n",
            "nRhat_quantile: ( 1 ) 1.0450308322906494\n",
            "NEW SEED\n",
            "nRhat_quantile: ( 1 ) 4.63918399810791\n",
            "nRhat_quantile: ( 1 ) 3.669558525085449\n",
            "nRhat_quantile: ( 1 ) 3.532021999359131\n",
            "nRhat_quantile: ( 1 ) 3.249126672744751\n",
            "nRhat_quantile: ( 1 ) 2.6402440071105957\n",
            "nRhat_quantile: ( 1 ) 2.087883710861206\n",
            "nRhat_quantile: ( 1 ) 1.8762028217315674\n",
            "nRhat_quantile: ( 1 ) 1.6926252841949463\n",
            "nRhat_quantile: ( 1 ) 1.6087102890014648\n",
            "nRhat_quantile: ( 1 ) 1.3946284055709839\n",
            "nRhat_quantile: ( 1 ) 1.081290602684021\n",
            "nRhat_quantile: ( 1 ) 1.0773268938064575\n",
            "nRhat_quantile: ( 1 ) 1.0900131464004517\n",
            "nRhat_quantile: ( 1 ) 1.0871708393096924\n",
            "nRhat_quantile: ( 1 ) 1.060936450958252\n",
            "nRhat_quantile: ( 1 ) 1.0196503400802612\n",
            "NEW SEED\n",
            "nRhat_quantile: ( 1 ) 4.220508575439453\n",
            "nRhat_quantile: ( 1 ) 3.866635322570801\n",
            "nRhat_quantile: ( 1 ) 3.4102492332458496\n",
            "nRhat_quantile: ( 1 ) 2.9746346473693848\n",
            "nRhat_quantile: ( 1 ) 2.5879790782928467\n",
            "nRhat_quantile: ( 1 ) 2.2605276107788086\n",
            "nRhat_quantile: ( 1 ) 1.924181580543518\n",
            "nRhat_quantile: ( 1 ) 1.6789848804473877\n",
            "nRhat_quantile: ( 1 ) 1.5574958324432373\n",
            "nRhat_quantile: ( 1 ) 1.4060397148132324\n",
            "nRhat_quantile: ( 1 ) 1.1004151105880737\n",
            "nRhat_quantile: ( 1 ) 1.0735520124435425\n",
            "nRhat_quantile: ( 1 ) 1.1000714302062988\n",
            "nRhat_quantile: ( 1 ) 1.0747389793395996\n",
            "nRhat_quantile: ( 1 ) 1.0498842000961304\n",
            "NEW SEED\n",
            "nRhat_quantile: ( 1 ) 6.1793365478515625\n",
            "nRhat_quantile: ( 1 ) 4.827325820922852\n",
            "nRhat_quantile: ( 1 ) 4.11049747467041\n",
            "nRhat_quantile: ( 1 ) 3.4835336208343506\n",
            "nRhat_quantile: ( 1 ) 3.2469358444213867\n",
            "nRhat_quantile: ( 1 ) 2.909292221069336\n",
            "nRhat_quantile: ( 1 ) 2.5915937423706055\n",
            "nRhat_quantile: ( 1 ) 2.3302736282348633\n",
            "nRhat_quantile: ( 1 ) 2.0053799152374268\n",
            "nRhat_quantile: ( 1 ) 1.7072893381118774\n",
            "nRhat_quantile: ( 1 ) 1.111055850982666\n",
            "nRhat_quantile: ( 1 ) 1.107809066772461\n",
            "nRhat_quantile: ( 1 ) 1.1332895755767822\n",
            "nRhat_quantile: ( 1 ) 1.0830837488174438\n",
            "nRhat_quantile: ( 1 ) 1.0395978689193726\n"
          ]
        }
      ]
    },
    {
      "cell_type": "code",
      "metadata": {
        "id": "1miEClX3bzQs",
        "colab": {
          "base_uri": "https://localhost:8080/",
          "height": 288
        },
        "outputId": "cd072975-c294-430f-dd52-d51c4ff1c659"
      },
      "source": [
        "square_error = np.square(mc_mean_list - mean_est[index_param])\n",
        "expected_error = var_est[index_param] / num_chains\n",
        "\n",
        "plot_data = [square_error[:, 0] / expected_error[0]]\n",
        "for i in range(1, index_param.shape[0]):\n",
        "  plot_data.append(square_error[:, i] / expected_error[i])\n",
        "\n",
        "fig = figure(figsize =(6, 3))\n",
        "ax = fig.add_axes([0, 0, 1, 1])\n",
        "ax.boxplot(plot_data)\n",
        "axhline(y = 1, linestyle = \"--\")\n",
        "axhline(y = chi_up)   # 90th quantile for chi squared with df = 1\n",
        "axhline(y = chi_lo) # 10th quantile for chi squared with df = 1\n",
        "title(\"Squared Error over expected squared error (if chains converged)\")\n",
        "show()"
      ],
      "execution_count": null,
      "outputs": [
        {
          "output_type": "display_data",
          "data": {
            "text/plain": [
              "<Figure size 432x216 with 1 Axes>"
            ],
            "image/png": "[encoded data removed]"
          },
          "metadata": {
            "needs_background": "light"
          }
        }
      ]
    },
    {
      "cell_type": "code",
      "source": [
        "german_scaled_error = square_error / expected_error\n",
        "german_warmup_length = warmup_length"
      ],
      "metadata": {
        "id": "6GUji5SmBa44"
      },
      "execution_count": null,
      "outputs": []
    },
    {
      "cell_type": "code",
      "source": [
        "figure(figsize = [6, 5.5])\n",
        "for i in range(1, num_dimensions):\n",
        "  scatter(german_warmup_length, german_scaled_error[:, i], color = 'tab:blue',\n",
        "          s = 10, alpha = 0.5)\n",
        "axhline(y = 1, color = 'black')\n",
        "axhline(y = 5.023886, color = 'black', linestyle = '--')\n",
        "ylabel(\"Scaled squared error\")\n",
        "xlabel(\"warmup length\")"
      ],
      "metadata": {
        "colab": {
          "base_uri": "https://localhost:8080/",
          "height": 387
        },
        "id": "ea2gn9x0Aucm",
        "outputId": "e3ce99fa-63b4-4a8d-859d-37774e3a2802"
      },
      "execution_count": null,
      "outputs": [
        {
          "output_type": "execute_result",
          "data": {
            "text/plain": [
              "Text(0.5, 0, 'warmup length')"
            ]
          },
          "metadata": {},
          "execution_count": 73
        },
        {
          "output_type": "display_data",
          "data": {
            "text/plain": [
              "<Figure size 432x396 with 1 Axes>"
            ],
            "image/png": "[encoded data removed]"
          },
          "metadata": {
            "needs_background": "light"
          }
        }
      ]
    },
    {
      "cell_type": "code",
      "source": [
        "num_super_chains"
      ],
      "metadata": {
        "id": "zK-DfiLtfgNf"
      },
      "execution_count": null,
      "outputs": []
    },
    {
      "cell_type": "code",
      "metadata": {
        "id": "qgQgEZ2VDY0M"
      },
      "source": [
        "# Save output into npy files on gdrive\n",
        "model_name = \"german\"\n",
        "\n",
        "np.save(dir_name + \"german\" + \"_K\" + str(num_super_chains) + \"_M\" + str(num_sub_chains) + \"_N\" + str(num_samples)  + \"_max_nrhat.npy\", max_nrhat_list)\n",
        "np.save(dir_name + \"german\" + \"_K\" + str(num_super_chains) + \"_M\" + str(num_sub_chains) + \"_N\" + str(num_samples)  + \"_squared_error.npy\", squared_error_list)"
      ],
      "execution_count": null,
      "outputs": []
    },
    {
      "cell_type": "markdown",
      "metadata": {
        "id": "qh5LlUBckB2m"
      },
      "source": [
        "### Draft"
      ]
    },
    {
      "cell_type": "code",
      "metadata": {
        "id": "vZzpm4XukRCp"
      },
      "source": [
        "seed = jax.random.PRNGKey(1954)\n",
        "initial_state = initialize((num_super_chains,), key = seed + 1954)\n",
        "initial_state = np.repeat(initial_state, num_chains // num_super_chains,\n",
        "                          axis = 0)\n",
        "current_state = initial_state\n",
        "kernel_args = None"
      ],
      "execution_count": null,
      "outputs": []
    },
    {
      "cell_type": "code",
      "metadata": {
        "id": "JAfWSweHkXPs"
      },
      "source": [
        "num_warmup = 250"
      ],
      "execution_count": null,
      "outputs": []
    },
    {
      "cell_type": "code",
      "metadata": {
        "id": "bjmkWNgSj3Wr"
      },
      "source": [
        "result_cold, trace0, kernel_args = tfp.mcmc.sample_chain(\n",
        "        num_results = num_warmup,\n",
        "        current_state = current_state,\n",
        "        kernel = kernel_cold,\n",
        "        previous_kernel_results = kernel_args,\n",
        "        trace_fn = lambda _, pkr: unnest.get_innermost(pkr, 'step_size'),\n",
        "        return_final_kernel_results = True,\n",
        "        seed = seed)  # Update seed during while loop\n",
        "\n",
        "current_state = result_cold[-1]\n"
      ],
      "execution_count": null,
      "outputs": []
    },
    {
      "cell_type": "code",
      "metadata": {
        "id": "CbaKvus3lIsW"
      },
      "source": [
        "plot(trace0)"
      ],
      "execution_count": null,
      "outputs": []
    },
    {
      "cell_type": "code",
      "metadata": {
        "id": "qNCbfq19k15d"
      },
      "source": [
        "result_cold, trace1, kernel_args = tfp.mcmc.sample_chain(\n",
        "        num_results = num_warmup,\n",
        "        current_state = current_state,\n",
        "        kernel = kernel_cold,\n",
        "        previous_kernel_results = kernel_args,\n",
        "        trace_fn = lambda _, pkr: unnest.get_innermost(pkr, 'step_size'),\n",
        "        return_final_kernel_results = True,\n",
        "        seed = seed)  # Update seed during while loop\n",
        "\n",
        "current_state = result_cold[-1]"
      ],
      "execution_count": null,
      "outputs": []
    },
    {
      "cell_type": "code",
      "metadata": {
        "id": "6IffqXt0lsOv"
      },
      "source": [
        "plot(trace1)"
      ],
      "execution_count": null,
      "outputs": []
    },
    {
      "cell_type": "code",
      "metadata": {
        "id": "eQDLGPvRmljZ"
      },
      "source": [
        "result_warm, trace = tfp.mcmc.sample_chain(\n",
        "        num_results = num_samples,\n",
        "        current_state = current_state,\n",
        "        kernel = kernel_warm,\n",
        "        trace_fn = lambda _, pkr: unnest.get_innermost(pkr, 'step_size'),\n",
        "        previous_kernel_results = kernel_args,\n",
        "        seed = seed + 999999)"
      ],
      "execution_count": null,
      "outputs": []
    },
    {
      "cell_type": "code",
      "metadata": {
        "id": "hLJxHI6Qm5hi"
      },
      "source": [
        "nRhat, _B, _W = nested_rhat(result_warm, num_super_chains, index_param, num_samples)\n",
        "nRhat"
      ],
      "execution_count": null,
      "outputs": []
    },
    {
      "cell_type": "markdown",
      "metadata": {
        "id": "_wsj073_mNtj"
      },
      "source": [
        "## Eight Schools"
      ]
    },
    {
      "cell_type": "code",
      "metadata": {
        "id": "qsSyqlQGmPTY",
        "colab": {
          "base_uri": "https://localhost:8080/"
        },
        "outputId": "21c6bcc1-80f5-4b6f-b324-80d6d7155f53"
      },
      "source": [
        "# NOTE: inference gym stores the centered parameterization\n",
        "target_raw = gym.targets.EightSchools()  # store raw to examine doc.\n",
        "target = gym.targets.VectorModel(target_raw,\n",
        "                                  flatten_sample_transformations = True)\n",
        "num_dimensions = target.event_shape[0]\n",
        "init_step_size = 1\n",
        "\n",
        "# Using underdispersed initis can show case problems with our diagnostics.\n",
        "# underdispered = False\n",
        "# Options: underdispersed, overdispersed, prior\n",
        "init_type = \"prior\"\n",
        "if init_type == \"underdispersed\":\n",
        "  offset = 0.0\n",
        "  def initialize (shape, key = random.PRNGKey(37272709)):\n",
        "    return 1 * random.normal(key, shape + (num_dimensions,)) + offset\n",
        "elif init_type == \"overdispersed\":\n",
        "  offset = 0.0\n",
        "  def initialize (shape, key = random.PRNGKey(37272709)):\n",
        "    return 100 * random.normal(key, shape + (num_dimensions,)) + offset\n",
        "elif init_type == \"prior\":\n",
        "  def initialize (shape, key = random.PRNGKey(37272709)):\n",
        "    prior_scale = jnp.append(jnp.array([10., 1.]), jnp.repeat(1., 8))\n",
        "    prior_offset = jnp.append(jnp.array([0., 5.]), jnp.repeat(0., 8))\n",
        "    return prior_scale * random.normal(key, shape + (num_dimensions,)) + prior_offset\n"
      ],
      "execution_count": null,
      "outputs": [
        {
          "output_type": "stream",
          "name": "stderr",
          "text": [
            "/usr/local/lib/python3.7/dist-packages/tensorflow_probability/python/internal/backend/jax/ops.py:282: UserWarning: Explicitly requested dtype float64 requested in astype is not available, and will be truncated to dtype float32. To enable more dtypes, set the jax_enable_x64 configuration option or the JAX_ENABLE_X64 shell environment variable. See https://github.com/google/jax#current-gotchas for more.\n",
            "  return arr.astype(dtype)\n"
          ]
        }
      ]
    },
    {
      "cell_type": "code",
      "metadata": {
        "id": "CaRUT8pRAoX6"
      },
      "source": [
        "num_schools = 8\n",
        "y = np.array([28, 8, -3, 7, -1, 1, 18, 12], dtype = np.float32)\n",
        "sigma = np.array([15, 10, 16, 11, 9, 11, 10, 18], dtype = np.float32)\n",
        "\n",
        "# NOTE: the reinterpreted batch dimension specifies the dimension of\n",
        "# each indepdent variable, here the school.\n",
        "model = tfd.JointDistributionSequential([\n",
        "    tfd.Normal(loc = 0., scale = 10., name = \"mu\"),\n",
        "    tfd.Normal(loc = 5., scale = 1., name = \"log_tau\"),\n",
        "    tfd.Independent(tfd.Normal(loc = jnp.zeros(num_schools),\n",
        "                               scale = jnp.ones(num_schools),\n",
        "                               name = \"eta\"),\n",
        "                    reinterpreted_batch_ndims = 1),\n",
        "    lambda eta, log_tau, mu: (\n",
        "        tfd.Independent(tfd.Normal(loc = (mu[..., jnp.newaxis] +\n",
        "                                        jnp.exp(log_tau[..., jnp.newaxis]) *\n",
        "                                        eta),\n",
        "                                   scale = sigma),\n",
        "                        name = \"y\",\n",
        "                        reinterpreted_batch_ndims = 1))\n",
        "  ])\n",
        "\n",
        "def target_log_prob_fn(x):\n",
        "  mu = x[:, 0]\n",
        "  log_tau = x[:, 1]\n",
        "  eta = x[:, 2:10]\n",
        "  return model.log_prob((mu, log_tau, eta, y))\n"
      ],
      "execution_count": null,
      "outputs": []
    },
    {
      "cell_type": "code",
      "metadata": {
        "id": "VvLs2N_Rd86j"
      },
      "source": [
        "# Use results from running 128 chains with 1000 + 5000 iterations each,\n",
        "# for non-centered parameterization.\n",
        "mean_est = np.array([5.8006573 ,  2.4502006 ,  0.6532423 ,  0.09639207,\n",
        "             -0.23725411,  0.04723661, -0.33556408, -0.19666635,\n",
        "              0.5390533 ,  0.14633301])\n",
        "\n",
        "var_est = np.array([29.60382   ,  0.26338503,  0.6383733 ,  0.4928926 ,\n",
        "              0.65307987,  0.52441144,  0.46658015,  0.5248887 ,\n",
        "              0.49544162,  0.690975])"
      ],
      "execution_count": null,
      "outputs": []
    },
    {
      "cell_type": "code",
      "metadata": {
        "id": "Gnpmi-8HBeud"
      },
      "source": [
        "index_param = np.arange(0, 10)"
      ],
      "execution_count": null,
      "outputs": []
    },
    {
      "cell_type": "markdown",
      "metadata": {
        "id": "FbflQyOJapRj"
      },
      "source": [
        "### $n \\hat R$ diagnostic"
      ]
    },
    {
      "cell_type": "code",
      "metadata": {
        "id": "hkgw444TBSK0"
      },
      "source": [
        "num_seed = 10\n",
        "num_samples = 5\n",
        "num_warmup, num_sampling = 1000, 5\n",
        "total_samples = num_warmup + num_sampling\n",
        "\n",
        "kernel = construct_kernel(target_log_prob_fn = target_log_prob_fn,\n",
        "                          init_step_size = init_step_size,\n",
        "                          num_warmup = num_warmup)\n"
      ],
      "execution_count": null,
      "outputs": []
    },
    {
      "cell_type": "code",
      "metadata": {
        "id": "1rSlrbP_Bnmt"
      },
      "source": [
        "Rhat_list, nRhat_list, B_list, W_list, mc_mean_list = run_fits(\n",
        "           num_seed = num_seed, total_samples = total_samples,\n",
        "           initialize = initialize, kernel = kernel,\n",
        "           num_super_chains = num_super_chains, index_param = index_param,\n",
        "           num_samples = num_samples, num_warmup = num_warmup)"
      ],
      "execution_count": null,
      "outputs": []
    },
    {
      "cell_type": "code",
      "metadata": {
        "id": "xU7lQ7dzBuvN"
      },
      "source": [
        "# OPTIONAL: correct Rhat to avoid having negative values.\n",
        "if True:\n",
        "  Rhat_list = np.sqrt(np.square(Rhat_list) - (num_samples - 1) / num_samples + 1)"
      ],
      "execution_count": null,
      "outputs": []
    },
    {
      "cell_type": "code",
      "metadata": {
        "id": "-QAHzEnHfWTh"
      },
      "source": [
        "square_error = np.square(mc_mean_list - mean_est[index_param])\n",
        "expected_error = var_est[index_param] / num_chains\n",
        "\n",
        "plot_data = [square_error[:, 0] / expected_error[0]]\n",
        "for i in range(1, index_param.shape[0]):\n",
        "  plot_data.append(square_error[:, i] / expected_error[i])\n",
        "\n",
        "fig = figure(figsize =(6, 3))\n",
        "ax = fig.add_axes([0, 0, 1, 1])\n",
        "ax.boxplot(plot_data)\n",
        "axhline(y = 1, linestyle = \"--\")\n",
        "title(\"Squared Error over expected squared error (if chains converged)\")\n",
        "show()"
      ],
      "execution_count": null,
      "outputs": []
    },
    {
      "cell_type": "code",
      "metadata": {
        "id": "uN8FgMfvBv9d"
      },
      "source": [
        "# plot_data = [nRhat_list[:, 0], Rhat_list[:, 0]]\n",
        "# ylabels = ['nRhat[0]', 'Rhat[0]']\n",
        "plot_data = [nRhat_list[:, 0] - 1]\n",
        "ylabels = ['0']\n",
        "plot_data_nRhat = [nRhat_list[:, 0] - 1]\n",
        "ylabels_nRhat = ['0']\n",
        "for i in range(1, index_param.shape[0]):\n",
        "  plot_data.append(nRhat_list[:, i] - 1)\n",
        "  # plot_data.append(Rhat_list[:, i])\n",
        "  # ylabels.append('')\n",
        "  ylabels.append((str(i)))\n",
        "  # ylabels.append(('Rhat[' + str(i) + ']'))\n",
        "\n",
        "for i in range(0, index_param.shape[0]):\n",
        "  plot_data.append(Rhat_list[:, i])\n",
        "  # ylabels.append('')\n",
        "  ylabels.append((str(i)))\n",
        "\n",
        "  plot_data_nRhat.append(nRhat_list[:, i])\n",
        "  ylabels_nRhat.append((str(i)))\n",
        "\n",
        "# ylabels[5] = \"$n \\hat R$  5\"\n",
        "# ylabels[15] = \"$\\hat R$  5\""
      ],
      "execution_count": null,
      "outputs": []
    },
    {
      "cell_type": "code",
      "metadata": {
        "id": "LsUF1EYFx8g6"
      },
      "source": [
        "font = {'family' : 'normal',\n",
        "        'weight' : 'bold',\n",
        "        'size'   : 12}\n",
        "\n",
        "matplotlib.rc('font', **font)"
      ],
      "execution_count": null,
      "outputs": []
    },
    {
      "cell_type": "code",
      "metadata": {
        "id": "3rM3kwpFB5P1"
      },
      "source": [
        "fig, ax = subplots(2, 1, sharey = True, sharex = True, figsize=(6, 5))\n",
        "# fig = figure(figsize =(6, 0.5 * index_param.shape[0]))\n",
        "# ax = fig.add_axes([0, 0, 1, 1])\n",
        "# axvline(x = 1, color = 'y', linestyle = '--', linewidth = 0.5,\n",
        "#         label = \"x = 1\")\n",
        "ax[0].axvline(x = nRhat_upper - 1, color = 'c', linestyle = '--', linewidth = 0.5,\n",
        "        label = \"x = 0.01\")\n",
        "ax[0].axvline(x = .05, color = 'r', linestyle = '--', linewidth = 0.5,\n",
        "        label = \"x = 0.05\")\n",
        "\n",
        "ax[1].axvline(x = nRhat_upper - 1, color = 'c', linestyle = '--', linewidth = 0.5,\n",
        "        label = \"x = 0.01\")\n",
        "ax[1].axvline(x = .05, color = 'r', linestyle = '--', linewidth = 0.5,\n",
        "        label = \"x = 0.05\")\n",
        "\n",
        "ax[0].boxplot(plot_data[0:10], vert = 0)\n",
        "ax[1].boxplot(plot_data[10:20], vert = 0)\n",
        "ax[0].set_yticklabels(ylabels)\n",
        "# title('Warmup = ' + str(num_warmup) + ', samples = ' + str(num_samples))\n",
        "# ax[0].title('$n \\hat R$')\n",
        "ax[0].legend(loc = \"upper right\")\n",
        "xscale('log')\n",
        "xlabel('$\\hat R$ ($n\\hat R$) - 1')\n",
        "# ax.set_ylabel('Parameter Index')\n",
        "fig.text(0.06, 0.5, 'Parameter index', ha='center', va='center', rotation='vertical')\n",
        "fig.text(0.17, 0.85, '$n \\hat R$', ha='center', va = 'center')\n",
        "fig.text(0.17, 0.43, '$\\hat R$', ha='center', va = 'center')\n",
        "\n",
        "show()"
      ],
      "execution_count": null,
      "outputs": []
    },
    {
      "cell_type": "code",
      "metadata": {
        "id": "zaqn0IDCCfXh"
      },
      "source": [
        "# Let's take a closer look at the nRhat's and compare them\n",
        "# to what we would expect from independent samples.\n",
        "fig = figure(figsize =(6, 0.5 * index_param.shape[0]))\n",
        "ax = fig.add_axes([0, 0, 1, 1])\n",
        "axvline(x = 1, color = 'y', linestyle = '--', linewidth = 0.5,\n",
        "        label = \"x = 1\")\n",
        "axvline(x = nRhat_upper, color = 'c', linestyle = '--', linewidth = 0.5,\n",
        "        label = \"x = u\")\n",
        "axvline(x = 1.05, color = 'r', linestyle = '--', linewidth = 0.5,\n",
        "        label = \"x = 1.05\")\n",
        "ax.boxplot(plot_data_nRhat, vert = 0)\n",
        "ax.set_yticklabels(ylabels_nRhat)\n",
        "title('Warmup = ' + str(num_warmup) + ', samples = ' + str(num_samples))\n",
        "legend(loc = \"best\")\n",
        "show()"
      ],
      "execution_count": null,
      "outputs": []
    },
    {
      "cell_type": "markdown",
      "metadata": {
        "id": "D5LAfXkYav3E"
      },
      "source": [
        "### Adapative warmup length"
      ]
    },
    {
      "cell_type": "code",
      "metadata": {
        "id": "9VD_OXeKb1OV"
      },
      "source": [
        "num_seed = 30"
      ],
      "execution_count": null,
      "outputs": []
    },
    {
      "cell_type": "code",
      "metadata": {
        "id": "9NUb_sMEUOCT"
      },
      "source": [
        "warmup_window = 100\n",
        "max_warmup = 1000\n",
        "alpha_quantile = 1  # One of the directions is more difficult than the others,\n",
        "                    # so we want to address it.\n",
        "\n",
        "window_array = np.append(np.repeat(10, 10), \n",
        "                      np.repeat(warmup_window, max_warmup // warmup_window - 1))\n",
        "\n",
        "# window_array = np.repeat(warmup_window, max_warmup // warmup_window)\n",
        "\n",
        "kernel_cold = construct_kernel(target_log_prob_fn = target_log_prob_fn,\n",
        "                               init_step_size = init_step_size,\n",
        "                               num_warmup = max_warmup)\n",
        "\n",
        "kernel_warm = construct_kernel(target_log_prob_fn = target_log_prob_fn,\n",
        "                               init_step_size = init_step_size,\n",
        "                               num_warmup = 0)\n",
        "\n",
        "num_samples = 5  # 1\n",
        "nRhat_upper = 1.05  # 1"
      ],
      "execution_count": null,
      "outputs": []
    },
    {
      "cell_type": "code",
      "source": [
        "# Check tuning parameters of the experiment\n",
        "print(\"num_samples:\", num_samples)\n",
        "print(\"num_seed:\", num_seed)\n",
        "print(\"nRhat_upper:\", nRhat_upper)\n",
        "print(\"num_super_chains:\", num_super_chains)\n",
        "print(\"num_sub_chains:\", num_sub_chains)"
      ],
      "metadata": {
        "colab": {
          "base_uri": "https://localhost:8080/"
        },
        "id": "5vGxhXx460Iu",
        "outputId": "8dc6fdbc-19ae-44ba-8c42-db952e0e68b3"
      },
      "execution_count": null,
      "outputs": [
        {
          "output_type": "stream",
          "name": "stdout",
          "text": [
            "num_samples: 5\n",
            "num_seed: 30\n",
            "nRhat_upper: 1.05\n",
            "num_super_chains: 16\n",
            "num_sub_chains: 8\n"
          ]
        }
      ]
    },
    {
      "cell_type": "code",
      "metadata": {
        "id": "-Y8Hsn-Qy36r",
        "colab": {
          "base_uri": "https://localhost:8080/"
        },
        "outputId": "68a10804-ad5f-4b19-b54a-ce178318948f"
      },
      "source": [
        "mc_mean_list, warmup_length,\\\n",
        "squared_error_list, max_nrhat_list = run_forge_chain(num_seed = num_seed,\n",
        "                                          kernel_cold = kernel_cold,\n",
        "                                          kernel_warm = kernel_warm,\n",
        "                                          initialize = initialize,\n",
        "                                          num_super_chains = num_super_chains,\n",
        "                                          num_warmup = window_array,\n",
        "                                          num_samples = num_samples,\n",
        "                                          target_rhat = nRhat_upper,\n",
        "                                          max_num_steps = window_array.shape[0],\n",
        "                                          # max_num_steps = max_warmup // warmup_window,\n",
        "                                          index_param = index_param,\n",
        "                                          rank_normalize = rank_normalize,\n",
        "                                          alpha_quantile = alpha_quantile,\n",
        "                                          mean_benchmark = mean_est,\n",
        "                                          var_benchmark = var_est)\n"
      ],
      "execution_count": null,
      "outputs": [
        {
          "output_type": "stream",
          "name": "stdout",
          "text": [
            "NEW SEED\n",
            "nRhat_quantile: ( 1 ) 4.360945224761963\n",
            "nRhat_quantile: ( 1 ) 2.8930654525756836\n",
            "nRhat_quantile: ( 1 ) 2.3415937423706055\n",
            "nRhat_quantile: ( 1 ) 2.0539066791534424\n",
            "nRhat_quantile: ( 1 ) 1.7788161039352417\n",
            "nRhat_quantile: ( 1 ) 1.6936510801315308\n",
            "nRhat_quantile: ( 1 ) 1.5917143821716309\n",
            "nRhat_quantile: ( 1 ) 1.5765116214752197\n",
            "nRhat_quantile: ( 1 ) 1.4773215055465698\n",
            "nRhat_quantile: ( 1 ) 1.4063838720321655\n",
            "nRhat_quantile: ( 1 ) 1.1411250829696655\n",
            "nRhat_quantile: ( 1 ) 1.0485228300094604\n",
            "NEW SEED\n",
            "nRhat_quantile: ( 1 ) 7.87739372253418\n",
            "nRhat_quantile: ( 1 ) 5.182034492492676\n",
            "nRhat_quantile: ( 1 ) 4.072463512420654\n",
            "nRhat_quantile: ( 1 ) 3.566610097885132\n",
            "nRhat_quantile: ( 1 ) 3.163635015487671\n",
            "nRhat_quantile: ( 1 ) 2.741208553314209\n",
            "nRhat_quantile: ( 1 ) 2.47914719581604\n",
            "nRhat_quantile: ( 1 ) 2.25793194770813\n",
            "nRhat_quantile: ( 1 ) 2.0952703952789307\n",
            "nRhat_quantile: ( 1 ) 1.995022177696228\n",
            "nRhat_quantile: ( 1 ) 1.3233740329742432\n",
            "nRhat_quantile: ( 1 ) 1.105519413948059\n",
            "nRhat_quantile: ( 1 ) 1.0229499340057373\n",
            "NEW SEED\n",
            "nRhat_quantile: ( 1 ) 6.480093955993652\n",
            "nRhat_quantile: ( 1 ) 4.5825395584106445\n",
            "nRhat_quantile: ( 1 ) 3.432924509048462\n",
            "nRhat_quantile: ( 1 ) 2.9211771488189697\n",
            "nRhat_quantile: ( 1 ) 2.3871593475341797\n",
            "nRhat_quantile: ( 1 ) 2.2398791313171387\n",
            "nRhat_quantile: ( 1 ) 2.0115225315093994\n",
            "nRhat_quantile: ( 1 ) 1.9355108737945557\n",
            "nRhat_quantile: ( 1 ) 1.7929760217666626\n",
            "nRhat_quantile: ( 1 ) 1.7395612001419067\n",
            "nRhat_quantile: ( 1 ) 1.2372478246688843\n",
            "nRhat_quantile: ( 1 ) 1.1243983507156372\n",
            "nRhat_quantile: ( 1 ) 1.0393987894058228\n",
            "NEW SEED\n",
            "nRhat_quantile: ( 1 ) 4.251801490783691\n",
            "nRhat_quantile: ( 1 ) 2.93753981590271\n",
            "nRhat_quantile: ( 1 ) 2.247371196746826\n",
            "nRhat_quantile: ( 1 ) 1.9756277799606323\n",
            "nRhat_quantile: ( 1 ) 1.8508059978485107\n",
            "nRhat_quantile: ( 1 ) 1.6575860977172852\n",
            "nRhat_quantile: ( 1 ) 1.5321000814437866\n",
            "nRhat_quantile: ( 1 ) 1.405693531036377\n",
            "nRhat_quantile: ( 1 ) 1.3598053455352783\n",
            "nRhat_quantile: ( 1 ) 1.3599059581756592\n",
            "nRhat_quantile: ( 1 ) 1.1552990674972534\n",
            "nRhat_quantile: ( 1 ) 1.0574874877929688\n",
            "nRhat_quantile: ( 1 ) 1.0568760633468628\n",
            "nRhat_quantile: ( 1 ) 1.019882321357727\n",
            "NEW SEED\n",
            "nRhat_quantile: ( 1 ) 5.607555389404297\n",
            "nRhat_quantile: ( 1 ) 3.5778770446777344\n",
            "nRhat_quantile: ( 1 ) 2.8626909255981445\n",
            "nRhat_quantile: ( 1 ) 2.515110492706299\n",
            "nRhat_quantile: ( 1 ) 2.2666499614715576\n",
            "nRhat_quantile: ( 1 ) 2.1190297603607178\n",
            "nRhat_quantile: ( 1 ) 1.9201358556747437\n",
            "nRhat_quantile: ( 1 ) 1.7909835577011108\n",
            "nRhat_quantile: ( 1 ) 1.8084081411361694\n",
            "nRhat_quantile: ( 1 ) 1.761279582977295\n",
            "nRhat_quantile: ( 1 ) 1.2973586320877075\n",
            "nRhat_quantile: ( 1 ) 1.163036823272705\n",
            "nRhat_quantile: ( 1 ) 1.0922527313232422\n",
            "nRhat_quantile: ( 1 ) 1.0524793863296509\n",
            "nRhat_quantile: ( 1 ) 1.0354610681533813\n",
            "NEW SEED\n",
            "nRhat_quantile: ( 1 ) 5.353332042694092\n",
            "nRhat_quantile: ( 1 ) 3.529902458190918\n",
            "nRhat_quantile: ( 1 ) 2.6537652015686035\n",
            "nRhat_quantile: ( 1 ) 2.370676040649414\n",
            "nRhat_quantile: ( 1 ) 2.056561231613159\n",
            "nRhat_quantile: ( 1 ) 1.880468726158142\n",
            "nRhat_quantile: ( 1 ) 1.7746963500976562\n",
            "nRhat_quantile: ( 1 ) 1.7225490808486938\n",
            "nRhat_quantile: ( 1 ) 1.6334521770477295\n",
            "nRhat_quantile: ( 1 ) 1.5918893814086914\n",
            "nRhat_quantile: ( 1 ) 1.1426960229873657\n",
            "nRhat_quantile: ( 1 ) 1.0408811569213867\n",
            "NEW SEED\n",
            "nRhat_quantile: ( 1 ) 4.695267200469971\n",
            "nRhat_quantile: ( 1 ) 2.946295738220215\n",
            "nRhat_quantile: ( 1 ) 2.414334774017334\n",
            "nRhat_quantile: ( 1 ) 2.000383138656616\n",
            "nRhat_quantile: ( 1 ) 1.850419521331787\n",
            "nRhat_quantile: ( 1 ) 1.6908551454544067\n",
            "nRhat_quantile: ( 1 ) 1.5485352277755737\n",
            "nRhat_quantile: ( 1 ) 1.474011778831482\n",
            "nRhat_quantile: ( 1 ) 1.4046777486801147\n",
            "nRhat_quantile: ( 1 ) 1.2979137897491455\n",
            "nRhat_quantile: ( 1 ) 1.1111814975738525\n",
            "nRhat_quantile: ( 1 ) 1.085329294204712\n",
            "nRhat_quantile: ( 1 ) 1.0466995239257812\n",
            "NEW SEED\n",
            "nRhat_quantile: ( 1 ) 4.603329181671143\n",
            "nRhat_quantile: ( 1 ) 2.8680171966552734\n",
            "nRhat_quantile: ( 1 ) 2.2937679290771484\n",
            "nRhat_quantile: ( 1 ) 2.12976336479187\n",
            "nRhat_quantile: ( 1 ) 1.7937010526657104\n",
            "nRhat_quantile: ( 1 ) 1.6398626565933228\n",
            "nRhat_quantile: ( 1 ) 1.599686861038208\n",
            "nRhat_quantile: ( 1 ) 1.4563238620758057\n",
            "nRhat_quantile: ( 1 ) 1.3970848321914673\n",
            "nRhat_quantile: ( 1 ) 1.3244541883468628\n",
            "nRhat_quantile: ( 1 ) 1.1368324756622314\n",
            "nRhat_quantile: ( 1 ) 1.0893367528915405\n",
            "nRhat_quantile: ( 1 ) 1.0600910186767578\n",
            "nRhat_quantile: ( 1 ) 1.0223654508590698\n",
            "NEW SEED\n",
            "nRhat_quantile: ( 1 ) 5.396265983581543\n",
            "nRhat_quantile: ( 1 ) 4.042819499969482\n",
            "nRhat_quantile: ( 1 ) 3.02111554145813\n",
            "nRhat_quantile: ( 1 ) 2.7593696117401123\n",
            "nRhat_quantile: ( 1 ) 2.406365156173706\n",
            "nRhat_quantile: ( 1 ) 2.146130323410034\n",
            "nRhat_quantile: ( 1 ) 1.898855447769165\n",
            "nRhat_quantile: ( 1 ) 1.8228273391723633\n",
            "nRhat_quantile: ( 1 ) 1.5719798803329468\n",
            "nRhat_quantile: ( 1 ) 1.4790747165679932\n",
            "nRhat_quantile: ( 1 ) 1.0991729497909546\n",
            "nRhat_quantile: ( 1 ) 1.0622382164001465\n",
            "nRhat_quantile: ( 1 ) 1.0259413719177246\n",
            "NEW SEED\n",
            "nRhat_quantile: ( 1 ) 5.259507656097412\n",
            "nRhat_quantile: ( 1 ) 3.309145927429199\n",
            "nRhat_quantile: ( 1 ) 2.4378886222839355\n",
            "nRhat_quantile: ( 1 ) 2.0813727378845215\n",
            "nRhat_quantile: ( 1 ) 1.4899747371673584\n",
            "nRhat_quantile: ( 1 ) 1.251617670059204\n",
            "nRhat_quantile: ( 1 ) 1.1682606935501099\n",
            "nRhat_quantile: ( 1 ) 1.071720838546753\n",
            "nRhat_quantile: ( 1 ) 1.0623905658721924\n",
            "nRhat_quantile: ( 1 ) 1.0240957736968994\n",
            "NEW SEED\n",
            "nRhat_quantile: ( 1 ) 5.445840358734131\n",
            "nRhat_quantile: ( 1 ) 3.2436037063598633\n",
            "nRhat_quantile: ( 1 ) 2.428241491317749\n",
            "nRhat_quantile: ( 1 ) 2.2759830951690674\n",
            "nRhat_quantile: ( 1 ) 2.0706870555877686\n",
            "nRhat_quantile: ( 1 ) 1.8380030393600464\n",
            "nRhat_quantile: ( 1 ) 1.693909764289856\n",
            "nRhat_quantile: ( 1 ) 1.656368374824524\n",
            "nRhat_quantile: ( 1 ) 1.595046043395996\n",
            "nRhat_quantile: ( 1 ) 1.5202497243881226\n",
            "nRhat_quantile: ( 1 ) 1.2677760124206543\n",
            "nRhat_quantile: ( 1 ) 1.1030700206756592\n",
            "nRhat_quantile: ( 1 ) 1.0472718477249146\n",
            "NEW SEED\n",
            "nRhat_quantile: ( 1 ) 5.599039554595947\n",
            "nRhat_quantile: ( 1 ) 4.277496814727783\n",
            "nRhat_quantile: ( 1 ) 3.5587804317474365\n",
            "nRhat_quantile: ( 1 ) 3.098534107208252\n",
            "nRhat_quantile: ( 1 ) 2.8760874271392822\n",
            "nRhat_quantile: ( 1 ) 2.6159157752990723\n",
            "nRhat_quantile: ( 1 ) 2.297837018966675\n",
            "nRhat_quantile: ( 1 ) 2.0894198417663574\n",
            "nRhat_quantile: ( 1 ) 1.8192228078842163\n",
            "nRhat_quantile: ( 1 ) 1.8128174543380737\n",
            "nRhat_quantile: ( 1 ) 1.2177625894546509\n",
            "nRhat_quantile: ( 1 ) 1.045791506767273\n",
            "NEW SEED\n",
            "nRhat_quantile: ( 1 ) 4.028168201446533\n",
            "nRhat_quantile: ( 1 ) 2.9277594089508057\n",
            "nRhat_quantile: ( 1 ) 2.335332155227661\n",
            "nRhat_quantile: ( 1 ) 2.152796983718872\n",
            "nRhat_quantile: ( 1 ) 1.8078840970993042\n",
            "nRhat_quantile: ( 1 ) 1.7642278671264648\n",
            "nRhat_quantile: ( 1 ) 1.5782334804534912\n",
            "nRhat_quantile: ( 1 ) 1.3690369129180908\n",
            "nRhat_quantile: ( 1 ) 1.308253526687622\n",
            "nRhat_quantile: ( 1 ) 1.2615126371383667\n",
            "nRhat_quantile: ( 1 ) 1.0915558338165283\n",
            "nRhat_quantile: ( 1 ) 1.055770993232727\n",
            "nRhat_quantile: ( 1 ) 1.0858657360076904\n",
            "nRhat_quantile: ( 1 ) 1.0472241640090942\n",
            "NEW SEED\n",
            "nRhat_quantile: ( 1 ) 3.263714551925659\n",
            "nRhat_quantile: ( 1 ) 2.2909159660339355\n",
            "nRhat_quantile: ( 1 ) 1.976138949394226\n",
            "nRhat_quantile: ( 1 ) 1.7718333005905151\n",
            "nRhat_quantile: ( 1 ) 1.6840423345565796\n",
            "nRhat_quantile: ( 1 ) 1.5458548069000244\n",
            "nRhat_quantile: ( 1 ) 1.469710350036621\n",
            "nRhat_quantile: ( 1 ) 1.367981195449829\n",
            "nRhat_quantile: ( 1 ) 1.3396133184432983\n",
            "nRhat_quantile: ( 1 ) 1.3097920417785645\n",
            "nRhat_quantile: ( 1 ) 1.120407223701477\n",
            "nRhat_quantile: ( 1 ) 1.0786645412445068\n",
            "nRhat_quantile: ( 1 ) 1.0552451610565186\n",
            "nRhat_quantile: ( 1 ) 1.0274139642715454\n",
            "NEW SEED\n",
            "nRhat_quantile: ( 1 ) 5.724724292755127\n",
            "nRhat_quantile: ( 1 ) 4.572037696838379\n",
            "nRhat_quantile: ( 1 ) 3.191833734512329\n",
            "nRhat_quantile: ( 1 ) 2.6964962482452393\n",
            "nRhat_quantile: ( 1 ) 2.399350881576538\n",
            "nRhat_quantile: ( 1 ) 2.223658561706543\n",
            "nRhat_quantile: ( 1 ) 1.9893280267715454\n",
            "nRhat_quantile: ( 1 ) 1.920395851135254\n",
            "nRhat_quantile: ( 1 ) 1.8174635171890259\n",
            "nRhat_quantile: ( 1 ) 1.7110917568206787\n",
            "nRhat_quantile: ( 1 ) 1.2275739908218384\n",
            "nRhat_quantile: ( 1 ) 1.1091805696487427\n",
            "nRhat_quantile: ( 1 ) 1.1125330924987793\n",
            "nRhat_quantile: ( 1 ) 1.0205472707748413\n",
            "NEW SEED\n",
            "nRhat_quantile: ( 1 ) 4.853408336639404\n",
            "nRhat_quantile: ( 1 ) 3.375563144683838\n",
            "nRhat_quantile: ( 1 ) 2.8593597412109375\n",
            "nRhat_quantile: ( 1 ) 2.391965866088867\n",
            "nRhat_quantile: ( 1 ) 2.261422872543335\n",
            "nRhat_quantile: ( 1 ) 2.0307199954986572\n",
            "nRhat_quantile: ( 1 ) 1.9329530000686646\n",
            "nRhat_quantile: ( 1 ) 1.854442834854126\n",
            "nRhat_quantile: ( 1 ) 1.7492001056671143\n",
            "nRhat_quantile: ( 1 ) 1.606083869934082\n",
            "nRhat_quantile: ( 1 ) 1.3067131042480469\n",
            "nRhat_quantile: ( 1 ) 1.1470811367034912\n",
            "nRhat_quantile: ( 1 ) 1.0761348009109497\n",
            "nRhat_quantile: ( 1 ) 1.0406526327133179\n",
            "NEW SEED\n",
            "nRhat_quantile: ( 1 ) 4.659180164337158\n",
            "nRhat_quantile: ( 1 ) 2.928618907928467\n",
            "nRhat_quantile: ( 1 ) 2.4232537746429443\n",
            "nRhat_quantile: ( 1 ) 2.070293664932251\n",
            "nRhat_quantile: ( 1 ) 1.9566181898117065\n",
            "nRhat_quantile: ( 1 ) 1.7887873649597168\n",
            "nRhat_quantile: ( 1 ) 1.6984379291534424\n",
            "nRhat_quantile: ( 1 ) 1.567206859588623\n",
            "nRhat_quantile: ( 1 ) 1.530918836593628\n",
            "nRhat_quantile: ( 1 ) 1.5198078155517578\n",
            "nRhat_quantile: ( 1 ) 1.2169326543807983\n",
            "nRhat_quantile: ( 1 ) 1.1113723516464233\n",
            "nRhat_quantile: ( 1 ) 1.056056261062622\n",
            "nRhat_quantile: ( 1 ) 1.0701642036437988\n",
            "nRhat_quantile: ( 1 ) 1.0623250007629395\n",
            "nRhat_quantile: ( 1 ) 1.0633846521377563\n",
            "nRhat_quantile: ( 1 ) 1.0117647647857666\n",
            "NEW SEED\n",
            "nRhat_quantile: ( 1 ) 5.8097028732299805\n",
            "nRhat_quantile: ( 1 ) 3.8305726051330566\n",
            "nRhat_quantile: ( 1 ) 2.884929656982422\n",
            "nRhat_quantile: ( 1 ) 2.5346591472625732\n",
            "nRhat_quantile: ( 1 ) 2.1825942993164062\n",
            "nRhat_quantile: ( 1 ) 2.041243553161621\n",
            "nRhat_quantile: ( 1 ) 1.9142457246780396\n",
            "nRhat_quantile: ( 1 ) 1.8210874795913696\n",
            "nRhat_quantile: ( 1 ) 1.7178188562393188\n",
            "nRhat_quantile: ( 1 ) 1.6848195791244507\n",
            "nRhat_quantile: ( 1 ) 1.121922254562378\n",
            "nRhat_quantile: ( 1 ) 1.1078057289123535\n",
            "nRhat_quantile: ( 1 ) 1.0450519323349\n",
            "NEW SEED\n",
            "nRhat_quantile: ( 1 ) 4.733258247375488\n",
            "nRhat_quantile: ( 1 ) 3.61413836479187\n",
            "nRhat_quantile: ( 1 ) 2.8332760334014893\n",
            "nRhat_quantile: ( 1 ) 2.5698540210723877\n",
            "nRhat_quantile: ( 1 ) 2.0349807739257812\n",
            "nRhat_quantile: ( 1 ) 1.91325843334198\n",
            "nRhat_quantile: ( 1 ) 1.7592666149139404\n",
            "nRhat_quantile: ( 1 ) 1.7296682596206665\n",
            "nRhat_quantile: ( 1 ) 1.623878002166748\n",
            "nRhat_quantile: ( 1 ) 1.537528157234192\n",
            "nRhat_quantile: ( 1 ) 1.1453397274017334\n",
            "nRhat_quantile: ( 1 ) 1.1011521816253662\n",
            "nRhat_quantile: ( 1 ) 1.0449873208999634\n",
            "NEW SEED\n",
            "nRhat_quantile: ( 1 ) 4.095057010650635\n",
            "nRhat_quantile: ( 1 ) 2.8802850246429443\n",
            "nRhat_quantile: ( 1 ) 2.1261489391326904\n",
            "nRhat_quantile: ( 1 ) 2.0055160522460938\n",
            "nRhat_quantile: ( 1 ) 1.8486560583114624\n",
            "nRhat_quantile: ( 1 ) 1.6947669982910156\n",
            "nRhat_quantile: ( 1 ) 1.6541107892990112\n",
            "nRhat_quantile: ( 1 ) 1.547749400138855\n",
            "nRhat_quantile: ( 1 ) 1.5054116249084473\n",
            "nRhat_quantile: ( 1 ) 1.4632298946380615\n",
            "nRhat_quantile: ( 1 ) 1.2303357124328613\n",
            "nRhat_quantile: ( 1 ) 1.1482938528060913\n",
            "nRhat_quantile: ( 1 ) 1.0917624235153198\n",
            "nRhat_quantile: ( 1 ) 1.078722357749939\n",
            "nRhat_quantile: ( 1 ) 1.0293923616409302\n",
            "NEW SEED\n",
            "nRhat_quantile: ( 1 ) 4.004250526428223\n",
            "nRhat_quantile: ( 1 ) 2.7755656242370605\n",
            "nRhat_quantile: ( 1 ) 2.366365671157837\n",
            "nRhat_quantile: ( 1 ) 2.1686830520629883\n",
            "nRhat_quantile: ( 1 ) 1.9802618026733398\n",
            "nRhat_quantile: ( 1 ) 1.8093440532684326\n",
            "nRhat_quantile: ( 1 ) 1.7116390466690063\n",
            "nRhat_quantile: ( 1 ) 1.6216775178909302\n",
            "nRhat_quantile: ( 1 ) 1.5792596340179443\n",
            "nRhat_quantile: ( 1 ) 1.5482033491134644\n",
            "nRhat_quantile: ( 1 ) 1.161088466644287\n",
            "nRhat_quantile: ( 1 ) 1.1469759941101074\n",
            "nRhat_quantile: ( 1 ) 1.05241060256958\n",
            "nRhat_quantile: ( 1 ) 1.0443522930145264\n",
            "NEW SEED\n",
            "nRhat_quantile: ( 1 ) 5.830990791320801\n",
            "nRhat_quantile: ( 1 ) 3.842658758163452\n",
            "nRhat_quantile: ( 1 ) 3.188755989074707\n",
            "nRhat_quantile: ( 1 ) 2.5502302646636963\n",
            "nRhat_quantile: ( 1 ) 2.2615747451782227\n",
            "nRhat_quantile: ( 1 ) 2.0687427520751953\n",
            "nRhat_quantile: ( 1 ) 2.0382368564605713\n",
            "nRhat_quantile: ( 1 ) 1.9614348411560059\n",
            "nRhat_quantile: ( 1 ) 1.8209609985351562\n",
            "nRhat_quantile: ( 1 ) 1.7117723226547241\n",
            "nRhat_quantile: ( 1 ) 1.3525673151016235\n",
            "nRhat_quantile: ( 1 ) 1.133347749710083\n",
            "nRhat_quantile: ( 1 ) 1.065764307975769\n",
            "nRhat_quantile: ( 1 ) 1.0788393020629883\n",
            "nRhat_quantile: ( 1 ) 1.0215388536453247\n",
            "NEW SEED\n",
            "nRhat_quantile: ( 1 ) 5.208730697631836\n",
            "nRhat_quantile: ( 1 ) 3.506713390350342\n",
            "nRhat_quantile: ( 1 ) 2.827756404876709\n",
            "nRhat_quantile: ( 1 ) 2.4848873615264893\n",
            "nRhat_quantile: ( 1 ) 2.257910966873169\n",
            "nRhat_quantile: ( 1 ) 2.0660147666931152\n",
            "nRhat_quantile: ( 1 ) 1.9507747888565063\n",
            "nRhat_quantile: ( 1 ) 1.7792590856552124\n",
            "nRhat_quantile: ( 1 ) 1.7287628650665283\n",
            "nRhat_quantile: ( 1 ) 1.7484623193740845\n",
            "nRhat_quantile: ( 1 ) 1.2454627752304077\n",
            "nRhat_quantile: ( 1 ) 1.096511721611023\n",
            "nRhat_quantile: ( 1 ) 1.0374774932861328\n",
            "NEW SEED\n",
            "nRhat_quantile: ( 1 ) 6.539103984832764\n",
            "nRhat_quantile: ( 1 ) 4.726743698120117\n",
            "nRhat_quantile: ( 1 ) 3.7989184856414795\n",
            "nRhat_quantile: ( 1 ) 3.0103859901428223\n",
            "nRhat_quantile: ( 1 ) 2.7401034832000732\n",
            "nRhat_quantile: ( 1 ) 2.4781949520111084\n",
            "nRhat_quantile: ( 1 ) 2.3033645153045654\n",
            "nRhat_quantile: ( 1 ) 2.054090738296509\n",
            "nRhat_quantile: ( 1 ) 1.957206130027771\n",
            "nRhat_quantile: ( 1 ) 1.9093713760375977\n",
            "nRhat_quantile: ( 1 ) 1.4211585521697998\n",
            "nRhat_quantile: ( 1 ) 1.1875979900360107\n",
            "nRhat_quantile: ( 1 ) 1.0520579814910889\n",
            "nRhat_quantile: ( 1 ) 1.0120893716812134\n",
            "NEW SEED\n",
            "nRhat_quantile: ( 1 ) 4.1973748207092285\n",
            "nRhat_quantile: ( 1 ) 2.868664503097534\n",
            "nRhat_quantile: ( 1 ) 2.3028135299682617\n",
            "nRhat_quantile: ( 1 ) 1.9917845726013184\n",
            "nRhat_quantile: ( 1 ) 1.818868637084961\n",
            "nRhat_quantile: ( 1 ) 1.682844638824463\n",
            "nRhat_quantile: ( 1 ) 1.5346245765686035\n",
            "nRhat_quantile: ( 1 ) 1.4619334936141968\n",
            "nRhat_quantile: ( 1 ) 1.4384557008743286\n",
            "nRhat_quantile: ( 1 ) 1.4907196760177612\n",
            "nRhat_quantile: ( 1 ) 1.1513549089431763\n",
            "nRhat_quantile: ( 1 ) 1.0837104320526123\n",
            "nRhat_quantile: ( 1 ) 1.0548287630081177\n",
            "nRhat_quantile: ( 1 ) 1.0239672660827637\n",
            "NEW SEED\n",
            "nRhat_quantile: ( 1 ) 5.4501543045043945\n",
            "nRhat_quantile: ( 1 ) 3.7025325298309326\n",
            "nRhat_quantile: ( 1 ) 3.0448544025421143\n",
            "nRhat_quantile: ( 1 ) 2.464000940322876\n",
            "nRhat_quantile: ( 1 ) 2.178402900695801\n",
            "nRhat_quantile: ( 1 ) 2.1660947799682617\n",
            "nRhat_quantile: ( 1 ) 2.0094797611236572\n",
            "nRhat_quantile: ( 1 ) 1.8814796209335327\n",
            "nRhat_quantile: ( 1 ) 1.7945382595062256\n",
            "nRhat_quantile: ( 1 ) 1.770061731338501\n",
            "nRhat_quantile: ( 1 ) 1.2963401079177856\n",
            "nRhat_quantile: ( 1 ) 1.1035486459732056\n",
            "nRhat_quantile: ( 1 ) 1.0547846555709839\n",
            "nRhat_quantile: ( 1 ) 1.024633526802063\n",
            "NEW SEED\n",
            "nRhat_quantile: ( 1 ) 4.335200309753418\n",
            "nRhat_quantile: ( 1 ) 2.6363723278045654\n",
            "nRhat_quantile: ( 1 ) 2.148254632949829\n",
            "nRhat_quantile: ( 1 ) 1.9278665781021118\n",
            "nRhat_quantile: ( 1 ) 1.7845394611358643\n",
            "nRhat_quantile: ( 1 ) 1.6665271520614624\n",
            "nRhat_quantile: ( 1 ) 1.651627779006958\n",
            "nRhat_quantile: ( 1 ) 1.5268179178237915\n",
            "nRhat_quantile: ( 1 ) 1.373091459274292\n",
            "nRhat_quantile: ( 1 ) 1.3042622804641724\n",
            "nRhat_quantile: ( 1 ) 1.1427193880081177\n",
            "nRhat_quantile: ( 1 ) 1.0667035579681396\n",
            "nRhat_quantile: ( 1 ) 1.0574533939361572\n",
            "nRhat_quantile: ( 1 ) 1.0534255504608154\n",
            "nRhat_quantile: ( 1 ) 1.0270379781723022\n",
            "NEW SEED\n",
            "nRhat_quantile: ( 1 ) 4.791660308837891\n",
            "nRhat_quantile: ( 1 ) 3.5186243057250977\n",
            "nRhat_quantile: ( 1 ) 2.6331684589385986\n",
            "nRhat_quantile: ( 1 ) 2.2601215839385986\n",
            "nRhat_quantile: ( 1 ) 2.1020140647888184\n",
            "nRhat_quantile: ( 1 ) 1.9380306005477905\n",
            "nRhat_quantile: ( 1 ) 1.7695536613464355\n",
            "nRhat_quantile: ( 1 ) 1.6909101009368896\n",
            "nRhat_quantile: ( 1 ) 1.5526593923568726\n",
            "nRhat_quantile: ( 1 ) 1.4508140087127686\n",
            "nRhat_quantile: ( 1 ) 1.1750047206878662\n",
            "nRhat_quantile: ( 1 ) 1.0507839918136597\n",
            "nRhat_quantile: ( 1 ) 1.033218264579773\n",
            "NEW SEED\n",
            "nRhat_quantile: ( 1 ) 4.329141616821289\n",
            "nRhat_quantile: ( 1 ) 2.9622857570648193\n",
            "nRhat_quantile: ( 1 ) 2.4757368564605713\n",
            "nRhat_quantile: ( 1 ) 2.0974464416503906\n",
            "nRhat_quantile: ( 1 ) 1.7270596027374268\n",
            "nRhat_quantile: ( 1 ) 1.6070939302444458\n",
            "nRhat_quantile: ( 1 ) 1.4835312366485596\n",
            "nRhat_quantile: ( 1 ) 1.4009544849395752\n",
            "nRhat_quantile: ( 1 ) 1.3751698732376099\n",
            "nRhat_quantile: ( 1 ) 1.3307216167449951\n",
            "nRhat_quantile: ( 1 ) 1.1084083318710327\n",
            "nRhat_quantile: ( 1 ) 1.0728654861450195\n",
            "nRhat_quantile: ( 1 ) 1.0616376399993896\n",
            "nRhat_quantile: ( 1 ) 1.06070876121521\n",
            "nRhat_quantile: ( 1 ) 1.0270793437957764\n",
            "NEW SEED\n",
            "nRhat_quantile: ( 1 ) 4.929296493530273\n",
            "nRhat_quantile: ( 1 ) 3.0761566162109375\n",
            "nRhat_quantile: ( 1 ) 2.5478432178497314\n",
            "nRhat_quantile: ( 1 ) 2.3566365242004395\n",
            "nRhat_quantile: ( 1 ) 2.0319299697875977\n",
            "nRhat_quantile: ( 1 ) 1.8846516609191895\n",
            "nRhat_quantile: ( 1 ) 1.783447265625\n",
            "nRhat_quantile: ( 1 ) 1.6908400058746338\n",
            "nRhat_quantile: ( 1 ) 1.6398200988769531\n",
            "nRhat_quantile: ( 1 ) 1.5954508781433105\n",
            "nRhat_quantile: ( 1 ) 1.2903064489364624\n",
            "nRhat_quantile: ( 1 ) 1.134645938873291\n",
            "nRhat_quantile: ( 1 ) 1.0561155080795288\n",
            "nRhat_quantile: ( 1 ) 1.0391212701797485\n"
          ]
        }
      ]
    },
    {
      "cell_type": "code",
      "metadata": {
        "id": "pd0UDlgT1l_C",
        "colab": {
          "base_uri": "https://localhost:8080/",
          "height": 288
        },
        "outputId": "93d7fce1-1579-4303-8bab-b3e91b59b431"
      },
      "source": [
        "square_error = np.square(mc_mean_list - mean_est[index_param])\n",
        "expected_error = var_est[index_param] / num_chains\n",
        "\n",
        "plot_data = [square_error[:, 0] / expected_error[0]]\n",
        "for i in range(1, index_param.shape[0]):\n",
        "  plot_data.append(square_error[:, i] / expected_error[i])\n",
        "\n",
        "fig = figure(figsize =(6, 3))\n",
        "ax = fig.add_axes([0, 0, 1, 1])\n",
        "ax.boxplot(plot_data)\n",
        "axhline(y = 1, linestyle = \"--\")\n",
        "axhline(y = chi_up)   # 90th quantile for chi squared with df = 1\n",
        "axhline(y = chi_lo) # 10th quantile for chi squared with df = 1\n",
        "\n",
        "title(\"Squared Error over expected squared error (if chains converged)\")\n",
        "show()"
      ],
      "execution_count": null,
      "outputs": [
        {
          "output_type": "display_data",
          "data": {
            "text/plain": [
              "<Figure size 432x216 with 1 Axes>"
            ],
            "image/png": "[encoded data removed]"
          },
          "metadata": {
            "needs_background": "light"
          }
        }
      ]
    },
    {
      "cell_type": "code",
      "metadata": {
        "id": "vPw1MD02pTv7"
      },
      "source": [
        "square_error_flat = square_error.reshape((num_seed * 10, ))\n",
        "scaled_square_error = square_error / expected_error\n",
        "warmup_length_flat = np.repeat(warmup_length, num_seed)"
      ],
      "execution_count": null,
      "outputs": []
    },
    {
      "cell_type": "code",
      "metadata": {
        "colab": {
          "base_uri": "https://localhost:8080/"
        },
        "id": "6pMxJJB2qFTw",
        "outputId": "9d2e57da-acf2-4c3a-eb5c-8fd624adad92"
      },
      "source": [
        "warmup_length.shape"
      ],
      "execution_count": null,
      "outputs": [
        {
          "output_type": "execute_result",
          "data": {
            "text/plain": [
              "(30,)"
            ]
          },
          "metadata": {},
          "execution_count": 85
        }
      ]
    },
    {
      "cell_type": "code",
      "metadata": {
        "id": "ZXZr-5fm11eq",
        "colab": {
          "base_uri": "https://localhost:8080/",
          "height": 369
        },
        "outputId": "c5633c4e-cbb1-49d5-cd6c-ceb6cd2b70f4"
      },
      "source": [
        "# scatter(warmup_length, square_error[:, 0] / expected_error[0])\n",
        "figure(figsize = [6, 5.5])\n",
        "for i in range(1, 10):\n",
        "  scatter(warmup_length, scaled_square_error[:, i], color = 'tab:blue',\n",
        "          s = 10, alpha = 0.4)\n",
        "axhline(y = 1, color = 'black')\n",
        "axhline(y = 5.023886, color = 'black', linestyle = '--')\n",
        "ylabel(\"Scaled squared error\")\n",
        "xlabel(\"warmup length\")\n",
        "\n",
        "# show()\n",
        "savefig(\"warmup_error.pdf\")\n",
        "files.download(\"warmup_error.pdf\")"
      ],
      "execution_count": null,
      "outputs": [
        {
          "output_type": "display_data",
          "data": {
            "text/plain": [
              "<IPython.core.display.Javascript object>"
            ],
            "application/javascript": [
              "\n",
              "    async function download(id, filename, size) {\n",
              "      if (!google.colab.kernel.accessAllowed) {\n",
              "        return;\n",
              "      }\n",
              "      const div = document.createElement('div');\n",
              "      const label = document.createElement('label');\n",
              "      label.textContent = `Downloading \"${filename}\": `;\n",
              "      div.appendChild(label);\n",
              "      const progress = document.createElement('progress');\n",
              "      progress.max = size;\n",
              "      div.appendChild(progress);\n",
              "      document.body.appendChild(div);\n",
              "\n",
              "      const buffers = [];\n",
              "      let downloaded = 0;\n",
              "\n",
              "      const channel = await google.colab.kernel.comms.open(id);\n",
              "      // Send a message to notify the kernel that we're ready.\n",
              "      channel.send({})\n",
              "\n",
              "      for await (const message of channel.messages) {\n",
              "        // Send a message to notify the kernel that we're ready.\n",
              "        channel.send({})\n",
              "        if (message.buffers) {\n",
              "          for (const buffer of message.buffers) {\n",
              "            buffers.push(buffer);\n",
              "            downloaded += buffer.byteLength;\n",
              "            progress.value = downloaded;\n",
              "          }\n",
              "        }\n",
              "      }\n",
              "      const blob = new Blob(buffers, {type: 'application/binary'});\n",
              "      const a = document.createElement('a');\n",
              "      a.href = window.URL.createObjectURL(blob);\n",
              "      a.download = filename;\n",
              "      div.appendChild(a);\n",
              "      a.click();\n",
              "      div.remove();\n",
              "    }\n",
              "  "
            ]
          },
          "metadata": {}
        },
        {
          "output_type": "display_data",
          "data": {
            "text/plain": [
              "<IPython.core.display.Javascript object>"
            ],
            "application/javascript": [
              "download(\"download_47090970-5c6b-43a9-8516-2f318e166bce\", \"warmup_error.pdf\", 20022)"
            ]
          },
          "metadata": {}
        },
        {
          "output_type": "display_data",
          "data": {
            "text/plain": [
              "<Figure size 432x396 with 1 Axes>"
            ],
            "image/png": "[encoded data removed]"
          },
          "metadata": {
            "needs_background": "light"
          }
        }
      ]
    },
    {
      "cell_type": "code",
      "source": [
        "fig, ax = subplots(1, 2, sharey = True, sharex = True,\n",
        "                   figsize=(13.5, 4.))\n",
        "for i in range(1, 10):\n",
        "  ax[0].scatter(warmup_length, scaled_square_error[:, i], color = 'tab:blue',\n",
        "          s = 10, alpha = 0.4)\n",
        "ax[0].axhline(y = 1, color = 'black')\n",
        "ax[0].axhline(y = 5.023886, color = 'black', linestyle = '--')\n",
        "ax[0].set(ylabel='Scaled squared error')\n",
        "ax[0].set(title = \"Eight Schools\")\n",
        "\n",
        "for i in range(1, num_dimensions):\n",
        "  ax[1].scatter(german_warmup_length, german_scaled_error[:, i], color = 'tab:blue',\n",
        "          s = 10, alpha = 0.5)\n",
        "ax[1].axhline(y = 1, color = 'black')\n",
        "ax[1].axhline(y = 5.023886, color = 'black', linestyle = '--')\n",
        "ax[1].set(title = \"German Credit\")\n",
        "xlim(left = 0, right = 1000)\n",
        "\n",
        "# fig.text(0.5, 0.01, \"Adaptive warmup length\", ha='center', va='center')\n",
        "\n",
        "savefig(\"warmup_error.pdf\")\n",
        "files.download(\"warmup_error.pdf\")"
      ],
      "metadata": {
        "colab": {
          "base_uri": "https://localhost:8080/",
          "height": 289
        },
        "id": "vPyBfjRcfjry",
        "outputId": "2dcd8291-c47e-426a-bd48-1f58a431997b"
      },
      "execution_count": null,
      "outputs": [
        {
          "output_type": "display_data",
          "data": {
            "text/plain": [
              "<IPython.core.display.Javascript object>"
            ],
            "application/javascript": [
              "\n",
              "    async function download(id, filename, size) {\n",
              "      if (!google.colab.kernel.accessAllowed) {\n",
              "        return;\n",
              "      }\n",
              "      const div = document.createElement('div');\n",
              "      const label = document.createElement('label');\n",
              "      label.textContent = `Downloading \"${filename}\": `;\n",
              "      div.appendChild(label);\n",
              "      const progress = document.createElement('progress');\n",
              "      progress.max = size;\n",
              "      div.appendChild(progress);\n",
              "      document.body.appendChild(div);\n",
              "\n",
              "      const buffers = [];\n",
              "      let downloaded = 0;\n",
              "\n",
              "      const channel = await google.colab.kernel.comms.open(id);\n",
              "      // Send a message to notify the kernel that we're ready.\n",
              "      channel.send({})\n",
              "\n",
              "      for await (const message of channel.messages) {\n",
              "        // Send a message to notify the kernel that we're ready.\n",
              "        channel.send({})\n",
              "        if (message.buffers) {\n",
              "          for (const buffer of message.buffers) {\n",
              "            buffers.push(buffer);\n",
              "            downloaded += buffer.byteLength;\n",
              "            progress.value = downloaded;\n",
              "          }\n",
              "        }\n",
              "      }\n",
              "      const blob = new Blob(buffers, {type: 'application/binary'});\n",
              "      const a = document.createElement('a');\n",
              "      a.href = window.URL.createObjectURL(blob);\n",
              "      a.download = filename;\n",
              "      div.appendChild(a);\n",
              "      a.click();\n",
              "      div.remove();\n",
              "    }\n",
              "  "
            ]
          },
          "metadata": {}
        },
        {
          "output_type": "display_data",
          "data": {
            "text/plain": [
              "<IPython.core.display.Javascript object>"
            ],
            "application/javascript": [
              "download(\"download_afb74a21-2670-4acd-9557-feec88e070dd\", \"warmup_error.pdf\", 25003)"
            ]
          },
          "metadata": {}
        },
        {
          "output_type": "display_data",
          "data": {
            "text/plain": [
              "<Figure size 972x288 with 2 Axes>"
            ],
            "image/png": "[encoded data removed]"
          },
          "metadata": {
            "needs_background": "light"
          }
        }
      ]
    },
    {
      "cell_type": "code",
      "metadata": {
        "id": "mb5KqNFFYtM-"
      },
      "source": [
        "# Save output into npy files on gdrive\n",
        "# Data for adaptive warmup is saved using schools_warm (rather than just schools)\n",
        "model_name = \"schools_warm\"  #  \"schools\"\n",
        "\n",
        "np.save(dir_name + model_name + \"_K\" + str(num_super_chains) + \"_M\" + str(num_sub_chains) + \"_N\" + str(num_samples) + \"_max_nrhat\", max_nrhat_list)\n",
        "np.save(dir_name + model_name + \"_K\" + str(num_super_chains) + \"_M\" + str(num_sub_chains) + \"_N\" + str(num_samples) + \"_squared_error\", squared_error_list)"
      ],
      "execution_count": null,
      "outputs": []
    },
    {
      "cell_type": "markdown",
      "metadata": {
        "id": "X1M5qt5fh1H6"
      },
      "source": [
        "## Pharmacokinetic model"
      ]
    },
    {
      "cell_type": "markdown",
      "metadata": {
        "id": "MWdgeMoCx9HX"
      },
      "source": [
        "### Simulate data"
      ]
    },
    {
      "cell_type": "code",
      "metadata": {
        "id": "dBa3LwSYaa7S"
      },
      "source": [
        "time_after_dose = np.array([0.083, 0.167, 0.25, 0.5, 0.75, 1, 1.5, 2, 3, 4, 6, 8])\n",
        "\n",
        "# Use commented out code for 14 dose regime\n",
        "# t = np.append(\n",
        "#     np.append(np.append(np.append(0., time_after_dose),\n",
        "#                           np.append(12., time_after_dose + 12)),\n",
        "#                np.linspace(start = 24, stop = 156, num = 12)),\n",
        "#                np.append(jnp.append(168., 168. + time_after_dose),\n",
        "#                np.array([180, 192])))\n",
        "\n",
        "t = np.append(\n",
        "      np.append(\n",
        "        np.append(0., time_after_dose),\n",
        "        np.append(12., time_after_dose + 12)),\n",
        "      np.append(24., time_after_dose + 24)\n",
        ")\n",
        "\n",
        "start_event = np.array([], dtype = int)\n",
        "dosing_time = np.array([0, 12, 24])\n",
        "# dosing_time = range(0, 192, 12)  # use this for 14 dose regiment\n",
        "\n",
        "# Use dosing events to determine times of integration between\n",
        "# exterior interventions on the system.\n",
        "eps = 1e-4  # hack to deal with some t being slightly offset.\n",
        "for t_dose in dosing_time:\n",
        "  start_event = np.append(start_event, np.where(abs(t - t_dose) <= eps))\n",
        "\n",
        "amt = jnp.array([1000., 0.])\n",
        "n_dose = start_event.shape[0]\n",
        "\n",
        "start_event = np.append(start_event, t.shape[0] - 1)"
      ],
      "execution_count": null,
      "outputs": []
    },
    {
      "cell_type": "code",
      "metadata": {
        "id": "I6ssj0Khw2sQ"
      },
      "source": [
        "n_patients = 20  # 100\n",
        "pop_location = jnp.log(jnp.array([1.5, 0.25]))\n",
        "pop_scale = jnp.array([0.15, 0.35])\n",
        "theta_patient = jnp.exp(pop_scale * random.normal(random.PRNGKey(37272709), \n",
        "                          (n_patients, ) + (2,)) + pop_location)\n",
        "\n",
        "amt = np.array([1000., 0.])\n",
        "amt_patient = np.append(np.repeat(amt[0], n_patients),\n",
        "                        np.repeat(amt[1], n_patients))\n",
        "amt_patient = amt_patient.reshape(2, n_patients)\n",
        "\n",
        "# redfine variables from previous section (in case we only run population model)\n",
        "t_jax = jnp.array(t)\n",
        "amt_vec = np.repeat(0., t.shape[0])\n",
        "amt_vec[start_event] = 1000\n",
        "amt_vec[amt_vec.shape[0] - 1] = 0.\n",
        "amt_vec_jax = jnp.array(amt_vec)"
      ],
      "execution_count": null,
      "outputs": []
    },
    {
      "cell_type": "code",
      "metadata": {
        "id": "fKudcnVCw7oY"
      },
      "source": [
        "# TODO: remove 'use_second_axis' hack.\n",
        "def ode_map (theta, dt, current_state, use_second_axis = False):\n",
        "  if (use_second_axis):\n",
        "    k1 = theta[0, :]\n",
        "    k2 = theta[1, :]\n",
        "  else: \n",
        "    k1 = theta[:, 0]\n",
        "    k2 = theta[:, 1]\n",
        "\n",
        "  y0_hat = jnp.exp(- k1 * dt) * current_state[0, :]\n",
        "  y1_hat = jnp.exp(- k2 * dt) / (k1 - k2) * (current_state[0, :] * k1 *\\\n",
        "                (1 - jnp.exp((k2 - k1) * dt)) + (k1 - k2) * current_state[1, :])\n",
        "  return jnp.array([y0_hat, y1_hat])\n",
        "\n",
        "# @jax.jit  # Cannot use jit if function has an IF statement.\n",
        "def ode_map_event(theta, use_second_axis = False):\n",
        "  def ode_map_step (current_state, event_index):\n",
        "    dt = t_jax[event_index] - t_jax[event_index - 1]\n",
        "    y_sln = ode_map(theta, dt, current_state, use_second_axis)\n",
        "    dose = jnp.repeat(amt_vec_jax[event_index], n_patients)\n",
        "    y_after_dose = y_sln + jnp.append(jnp.repeat(amt_vec_jax[event_index], n_patients),\n",
        "                                      jnp.repeat(0., n_patients)).reshape(2, n_patients)\n",
        "    return (y_after_dose, y_sln[1, ])\n",
        "\n",
        "  (__, yhat) = jax.lax.scan(ode_map_step, amt_patient, \n",
        "                            np.array(range(1, t.shape[0])),\n",
        "                            unroll = 20)\n",
        "  return yhat"
      ],
      "execution_count": null,
      "outputs": []
    },
    {
      "cell_type": "code",
      "metadata": {
        "id": "YS5OkyWSxBoP",
        "colab": {
          "base_uri": "https://localhost:8080/",
          "height": 414
        },
        "outputId": "93a19a16-1688-4d03-b810-d5a2aadb6582"
      },
      "source": [
        "# Simulate some data\n",
        "y_hat = ode_map_event(theta_patient)\n",
        "\n",
        "sigma = 0.1\n",
        "# NOTE: no observation at time t = 0.\n",
        "log_y = sigma * random.normal(random.PRNGKey(1954), y_hat.shape) \\\n",
        "  + jnp.log(y_hat)\n",
        "y_obs = jnp.exp(log_y)\n",
        "\n",
        "figure(figsize = [8, 6])\n",
        "plot(t[1:], y_hat)\n",
        "plot(t[1:], y_obs, 'o', markersize = 2)\n",
        "xlabel(\"time (h)\")\n",
        "ylabel(\"Mass (mg)\")\n",
        "# show()\n",
        "\n",
        "# savefig(\"PK_profile.pdf\")\n",
        "# files.download(\"PK_profile.pdf\")"
      ],
      "execution_count": null,
      "outputs": [
        {
          "output_type": "execute_result",
          "data": {
            "text/plain": [
              "Text(0, 0.5, 'Mass (mg)')"
            ]
          },
          "metadata": {},
          "execution_count": 28
        },
        {
          "output_type": "display_data",
          "data": {
            "text/plain": [
              "<Figure size 576x432 with 1 Axes>"
            ],
            "image/png": "[encoded data removed]"
          },
          "metadata": {
            "needs_background": "light"
          }
        }
      ]
    },
    {
      "cell_type": "markdown",
      "metadata": {
        "id": "l5A6AmGayAq3"
      },
      "source": [
        "### Fit model with TFP"
      ]
    },
    {
      "cell_type": "markdown",
      "metadata": {
        "id": "ncqNCrOM7Dw8"
      },
      "source": [
        "As a golden benchmark, we use 1,000 samples, after warming up the chain for 1,000 iterations. With 128 chains, this gives us a total of 128,000 approximate samples."
      ]
    },
    {
      "cell_type": "code",
      "metadata": {
        "id": "06BzyJA2xIS7"
      },
      "source": [
        "pop_model = tfd.JointDistributionSequentialAutoBatched([\n",
        "    tfd.Normal(loc = jnp.log(1.), scale = 0.1, name = \"log_k1_pop\"),\n",
        "    tfd.Normal(loc = jnp.log(0.3), scale = 0.1, name = \"log_k2_pop\"),\n",
        "    tfd.Normal(loc = jnp.log(0.15), scale = 0.1, name = \"log_scale_k1\"),\n",
        "    tfd.Normal(loc = jnp.log(0.35), scale = 0.1, name = \"log_scale_k2\"),\n",
        "    tfd.Normal(loc = -1., scale = 1., name = \"log_sigma\"),\n",
        "\n",
        "    # non-centered parameterization for hierarchy\n",
        "    tfd.Independent(tfd.Normal(loc = jnp.zeros(n_patients),\n",
        "                               scale = jnp.ones(n_patients),\n",
        "                               name = \"eta_k1\"),\n",
        "                    reinterpreted_batch_ndims = 1),\n",
        "    \n",
        "    tfd.Independent(tfd.Normal(loc = jnp.zeros(n_patients),\n",
        "                               scale = jnp.ones(n_patients),\n",
        "                               name = \"eta_k2\"),\n",
        "                    reinterpreted_batch_ndims = 1),\n",
        "\n",
        "    lambda eta_k2, eta_k1, log_sigma, log_scale_k2, log_scale_k1,\n",
        "           log_k2_pop, log_k1_pop: (\n",
        "      tfd.Independent(tfd.LogNormal(\n",
        "          loc = jnp.log(\n",
        "              ode_map_event(theta = jnp.array([\n",
        "                  jnp.exp(log_k1_pop[..., jnp.newaxis] + eta_k1 * jnp.exp(log_scale_k1[..., jnp.newaxis])),\n",
        "                  jnp.exp(log_k2_pop[..., jnp.newaxis] + eta_k2 * jnp.exp(log_scale_k2[..., jnp.newaxis]))]),\n",
        "                  use_second_axis = True)),\n",
        "          scale = jnp.exp(log_sigma[..., jnp.newaxis]), name = \"y_obs\")))\n",
        "])\n",
        "\n",
        "def pop_target_log_prob_fn(log_k1_pop, log_k2_pop, log_scale_k1, log_scale_k2,\n",
        "                           log_sigma, eta_k1, eta_k2):\n",
        "  return pop_model.log_prob((log_k1_pop, log_k2_pop, log_scale_k1, log_scale_k2,\n",
        "                            log_sigma, eta_k1, eta_k2, y_obs))\n",
        "  # CHECK -- do we need to parenthesis?\n",
        "\n",
        "def pop_target_log_prob_fn_flat(x):\n",
        "  log_k1_pop = x[:, 0]\n",
        "  log_k2_pop = x[:, 1]\n",
        "  log_scale_k1 = x[:, 2]\n",
        "  log_scale_k2 = x[:, 3]\n",
        "  log_sigma = x[:, 4]\n",
        "  eta_k1 = x[:, 5:(5 + n_patients)]\n",
        "  eta_k2 = x[:, (5 + n_patients):(5 + 2 * n_patients)]\n",
        "\n",
        "  return pop_model.log_prob((log_k1_pop, log_k2_pop, log_scale_k1, log_scale_k2,\n",
        "                           log_sigma, eta_k1, eta_k2, y_obs))\n"
      ],
      "execution_count": null,
      "outputs": []
    },
    {
      "cell_type": "code",
      "metadata": {
        "id": "zzA3YXOtxTi7"
      },
      "source": [
        "def initialize (shape, key = random.PRNGKey(37272709)):\n",
        "  return pop_model.sample(sample_shape = shape, # (num_super_chains, 1),\\\n",
        "                          seed = key)[:7]\n"
      ],
      "execution_count": null,
      "outputs": []
    },
    {
      "cell_type": "code",
      "metadata": {
        "id": "mXsRIkhBWNEj"
      },
      "source": [
        "num_dimensions = 5 + 2 * n_patients\n",
        "def initialize_flat (shape, key = random.PRNGKey(37272709)):\n",
        "  initial = initialize(shape, key)\n",
        "  # initial_flat = np.zeros((shape, num_dimensions))\n",
        "  initial_flat = np.zeros(shape + (num_dimensions,))\n",
        "  for i in range(0, 5):\n",
        "    initial_flat[:, i] = initial[i]\n",
        "  initial_flat[:, 5:(5 + n_patients)] = initial[5]\n",
        "  initial_flat[:, (5 + n_patients):(5 + 2 * n_patients)] = initial[6]\n",
        "\n",
        "  return initial_flat\n"
      ],
      "execution_count": null,
      "outputs": []
    },
    {
      "cell_type": "code",
      "metadata": {
        "id": "uSILAbDtzDfk"
      },
      "source": [
        "num_seed = 10\n",
        "num_samples = 5\n",
        "num_warmup, num_sampling = 1000, 1000\n",
        "total_samples = num_warmup + num_sampling\n",
        "init_step_size = 0.001\n",
        "\n",
        "kernel = construct_kernel(target_log_prob_fn = pop_target_log_prob_fn,\n",
        "                          init_step_size = init_step_size,\n",
        "                          num_warmup = num_warmup)"
      ],
      "execution_count": null,
      "outputs": []
    },
    {
      "cell_type": "code",
      "metadata": {
        "id": "7w4Pw0z2z-ye"
      },
      "source": [
        "def trace_fn(current_state, pkr):\n",
        "  return (\n",
        "    # proxy for divergent transitions\n",
        "    get_innermost(pkr, 'log_accept_ratio') < -1000,\n",
        "    get_innermost(pkr, 'step_size'),\n",
        "    get_innermost(pkr, 'max_trajectory_length')\n",
        "  )\n"
      ],
      "execution_count": null,
      "outputs": []
    },
    {
      "cell_type": "code",
      "metadata": {
        "id": "62cQ992n0Mz_"
      },
      "source": [
        "initial_state = initialize((num_super_chains,))\n",
        "for i in range(0, len(initial_state)):\n",
        "  initial_state[i] = np.repeat(initial_state[i],\n",
        "                               num_chains // num_super_chains, axis = 0)"
      ],
      "execution_count": null,
      "outputs": []
    },
    {
      "cell_type": "code",
      "metadata": {
        "id": "OFZv43qoz0BW"
      },
      "source": [
        "mcmc_states, diverged = tfp.mcmc.sample_chain(\n",
        "    num_results = total_samples,\n",
        "    current_state = initial_state,\n",
        "    kernel = kernel,\n",
        "    trace_fn = trace_fn,\n",
        "    seed = random.PRNGKey(1954))\n"
      ],
      "execution_count": null,
      "outputs": []
    },
    {
      "cell_type": "code",
      "source": [
        "num_chains * num_super_chains"
      ],
      "metadata": {
        "colab": {
          "base_uri": "https://localhost:8080/"
        },
        "id": "271ODQaAEdbW",
        "outputId": "1b0fb6f1-2fb4-4259-8aca-72d787794aba"
      },
      "execution_count": null,
      "outputs": [
        {
          "output_type": "execute_result",
          "data": {
            "text/plain": [
              "2048"
            ]
          },
          "metadata": {},
          "execution_count": 47
        }
      ]
    },
    {
      "cell_type": "markdown",
      "metadata": {
        "id": "EGjpRC9s8ylW"
      },
      "source": [
        "### Check the inference"
      ]
    },
    {
      "cell_type": "markdown",
      "metadata": {
        "id": "tei8YVhKyNCv"
      },
      "source": [
        "Check that the inference is reliable. If it, use it to construct a \"golden benchmark\"."
      ]
    },
    {
      "cell_type": "code",
      "metadata": {
        "id": "rcogoME9182I",
        "colab": {
          "base_uri": "https://localhost:8080/"
        },
        "outputId": "bc8ff006-5ac8-42ec-f307-109cf297ddbd"
      },
      "source": [
        "print(\"Divergent transitions after warmup:\",\n",
        "      np.sum(diverged[0][num_warmup:(num_warmup + num_samples)]))"
      ],
      "execution_count": null,
      "outputs": [
        {
          "output_type": "stream",
          "name": "stdout",
          "text": [
            "Divergent transitions after warmup: 0\n"
          ]
        }
      ]
    },
    {
      "cell_type": "code",
      "metadata": {
        "id": "A6Rq8FcgzDOm"
      },
      "source": [
        "# Extract samples after warmup from the list\n",
        "mcmc_states_sample = mcmc_states\n",
        "for i in range(0, len(mcmc_states)):\n",
        "  mcmc_states_sample[i] = mcmc_states[i][num_warmup:]"
      ],
      "execution_count": null,
      "outputs": []
    },
    {
      "cell_type": "code",
      "metadata": {
        "id": "66FFguycyfqR"
      },
      "source": [
        "# NOTE: the last parameter is an 'x': not sure where this comes from...\n",
        "parameter_names = pop_model._flat_resolve_names()[:-1]\n",
        "\n",
        "az_states = az.from_dict(\n",
        "    #prior = {k: v[tf.newaxis, ...] for k, v in zip(parameter_names, prior_samples)},\n",
        "    posterior={\n",
        "        k: np.swapaxes(v, 0, 1) for k, v in zip(parameter_names, mcmc_states)\n",
        "    },\n",
        ")\n",
        "\n",
        "fit_summary = az.summary(az_states).filter(items=[\"mean\", \"sd\", \"mcse_sd\", \"hdi_3%\", \n",
        "                                       \"hdi_97%\", \"ess_bulk\", \"ess_tail\", \n",
        "                                       \"r_hat\"])"
      ],
      "execution_count": null,
      "outputs": []
    },
    {
      "cell_type": "code",
      "metadata": {
        "id": "ftGYkOqe3jNf",
        "colab": {
          "base_uri": "https://localhost:8080/",
          "height": 1000
        },
        "outputId": "46852aa3-d11b-439a-95e4-e437dd663d7d"
      },
      "source": [
        "fit_summary"
      ],
      "execution_count": null,
      "outputs": [
        {
          "output_type": "execute_result",
          "data": {
            "text/plain": [
              "               mean     sd  mcse_sd  hdi_3%  hdi_97%  ess_bulk  ess_tail  \\\n",
              "log_k1_pop    0.359  0.033    0.000   0.295    0.419   61026.0   69227.0   \n",
              "log_k2_pop   -1.308  0.063    0.000  -1.427   -1.188   80472.0   72358.0   \n",
              "log_scale_k1 -1.915  0.090    0.000  -2.086   -1.749   81919.0   82103.0   \n",
              "log_scale_k2 -1.023  0.084    0.000  -1.182   -0.867  104757.0   74619.0   \n",
              "log_sigma    -2.288  0.026    0.000  -2.337   -2.239   79877.0   80900.0   \n",
              "eta_k1[0]     0.976  0.337    0.001   0.343    1.610   79586.0   79335.0   \n",
              "eta_k1[1]     0.420  0.339    0.001  -0.222    1.053   78614.0   75686.0   \n",
              "eta_k1[2]     1.280  0.319    0.001   0.677    1.878   80515.0   82296.0   \n",
              "eta_k1[3]    -1.843  0.351    0.001  -2.498   -1.183   80598.0   81796.0   \n",
              "eta_k1[4]    -1.122  0.352    0.001  -1.799   -0.472   80706.0   78792.0   \n",
              "eta_k1[5]     0.439  0.354    0.001  -0.222    1.111   80833.0   75899.0   \n",
              "eta_k1[6]    -1.444  0.360    0.001  -2.125   -0.765   82297.0   81600.0   \n",
              "eta_k1[7]     0.654  0.305    0.001   0.082    1.230   79658.0   79644.0   \n",
              "eta_k1[8]     0.429  0.305    0.001  -0.146    1.003   79091.0   80730.0   \n",
              "eta_k1[9]     0.037  0.304    0.001  -0.536    0.607   79202.0   78549.0   \n",
              "eta_k1[10]   -0.373  0.318    0.001  -0.965    0.225   78507.0   79483.0   \n",
              "eta_k1[11]    0.603  0.306    0.001   0.035    1.182   79421.0   77667.0   \n",
              "eta_k1[12]    0.151  0.373    0.001  -0.544    0.858   85293.0   73311.0   \n",
              "eta_k1[13]    1.141  0.331    0.001   0.516    1.759   79830.0   79995.0   \n",
              "eta_k1[14]    0.284  0.321    0.001  -0.327    0.880   77483.0   77782.0   \n",
              "eta_k1[15]    1.250  0.356    0.001   0.582    1.925   83168.0   76470.0   \n",
              "eta_k1[16]    0.934  0.313    0.001   0.348    1.524   79881.0   80819.0   \n",
              "eta_k1[17]    0.610  0.320    0.001  -0.003    1.205   78044.0   78666.0   \n",
              "eta_k1[18]    0.963  0.351    0.001   0.320    1.639   80720.0   76000.0   \n",
              "eta_k1[19]   -0.090  0.303    0.001  -0.657    0.484   80331.0   79115.0   \n",
              "eta_k2[0]    -0.736  0.186    0.000  -1.090   -0.390   82711.0   76158.0   \n",
              "eta_k2[1]    -1.104  0.196    0.000  -1.477   -0.741   84949.0   78732.0   \n",
              "eta_k2[2]     0.454  0.187    0.000   0.110    0.816   82177.0   74773.0   \n",
              "eta_k2[3]     0.666  0.193    0.000   0.304    1.030   83240.0   75926.0   \n",
              "eta_k2[4]    -0.803  0.187    0.000  -1.151   -0.445   83133.0   78335.0   \n",
              "eta_k2[5]    -1.519  0.212    0.001  -1.911   -1.108   87693.0   80436.0   \n",
              "eta_k2[6]    -0.725  0.186    0.000  -1.076   -0.377   82695.0   77481.0   \n",
              "eta_k2[7]     0.913  0.201    0.000   0.540    1.298   84600.0   76104.0   \n",
              "eta_k2[8]     0.585  0.191    0.000   0.232    0.948   82765.0   75781.0   \n",
              "eta_k2[9]     0.995  0.205    0.000   0.615    1.384   84900.0   76197.0   \n",
              "eta_k2[10]    0.228  0.183    0.000  -0.124    0.567   81461.0   74929.0   \n",
              "eta_k2[11]    0.749  0.196    0.000   0.374    1.109   83509.0   77304.0   \n",
              "eta_k2[12]   -2.521  0.267    0.001  -3.028   -2.022   93897.0   79196.0   \n",
              "eta_k2[13]   -0.268  0.180    0.000  -0.608    0.069   81202.0   75135.0   \n",
              "eta_k2[14]   -0.122  0.180    0.000  -0.459    0.218   81186.0   74553.0   \n",
              "eta_k2[15]   -1.523  0.213    0.001  -1.928   -1.125   87466.0   81438.0   \n",
              "eta_k2[16]    0.718  0.195    0.000   0.359    1.092   83360.0   75653.0   \n",
              "eta_k2[17]   -0.074  0.180    0.001  -0.415    0.263   81065.0   74870.0   \n",
              "eta_k2[18]   -1.205  0.200    0.000  -1.585   -0.831   85197.0   79627.0   \n",
              "eta_k2[19]    1.560  0.231    0.001   1.134    2.001   88362.0   77425.0   \n",
              "\n",
              "              r_hat  \n",
              "log_k1_pop      1.0  \n",
              "log_k2_pop      1.0  \n",
              "log_scale_k1    1.0  \n",
              "log_scale_k2    1.0  \n",
              "log_sigma       1.0  \n",
              "eta_k1[0]       1.0  \n",
              "eta_k1[1]       1.0  \n",
              "eta_k1[2]       1.0  \n",
              "eta_k1[3]       1.0  \n",
              "eta_k1[4]       1.0  \n",
              "eta_k1[5]       1.0  \n",
              "eta_k1[6]       1.0  \n",
              "eta_k1[7]       1.0  \n",
              "eta_k1[8]       1.0  \n",
              "eta_k1[9]       1.0  \n",
              "eta_k1[10]      1.0  \n",
              "eta_k1[11]      1.0  \n",
              "eta_k1[12]      1.0  \n",
              "eta_k1[13]      1.0  \n",
              "eta_k1[14]      1.0  \n",
              "eta_k1[15]      1.0  \n",
              "eta_k1[16]      1.0  \n",
              "eta_k1[17]      1.0  \n",
              "eta_k1[18]      1.0  \n",
              "eta_k1[19]      1.0  \n",
              "eta_k2[0]       1.0  \n",
              "eta_k2[1]       1.0  \n",
              "eta_k2[2]       1.0  \n",
              "eta_k2[3]       1.0  \n",
              "eta_k2[4]       1.0  \n",
              "eta_k2[5]       1.0  \n",
              "eta_k2[6]       1.0  \n",
              "eta_k2[7]       1.0  \n",
              "eta_k2[8]       1.0  \n",
              "eta_k2[9]       1.0  \n",
              "eta_k2[10]      1.0  \n",
              "eta_k2[11]      1.0  \n",
              "eta_k2[12]      1.0  \n",
              "eta_k2[13]      1.0  \n",
              "eta_k2[14]      1.0  \n",
              "eta_k2[15]      1.0  \n",
              "eta_k2[16]      1.0  \n",
              "eta_k2[17]      1.0  \n",
              "eta_k2[18]      1.0  \n",
              "eta_k2[19]      1.0  "
            ],
            "text/html": [
              "\n",
              "  <div id=\"df-77772a87-2ab7-4ca0-af32-dab64f14b875\">\n",
              "    <div class=\"colab-df-container\">\n",
              "      <div>\n",
              "<style scoped>\n",
              "    .dataframe tbody tr th:only-of-type {\n",
              "        vertical-align: middle;\n",
              "    }\n",
              "\n",
              "    .dataframe tbody tr th {\n",
              "        vertical-align: top;\n",
              "    }\n",
              "\n",
              "    .dataframe thead th {\n",
              "        text-align: right;\n",
              "    }\n",
              "</style>\n",
              "<table border=\"1\" class=\"dataframe\">\n",
              "  <thead>\n",
              "    <tr style=\"text-align: right;\">\n",
              "      <th></th>\n",
              "      <th>mean</th>\n",
              "      <th>sd</th>\n",
              "      <th>mcse_sd</th>\n",
              "      <th>hdi_3%</th>\n",
              "      <th>hdi_97%</th>\n",
              "      <th>ess_bulk</th>\n",
              "      <th>ess_tail</th>\n",
              "      <th>r_hat</th>\n",
              "    </tr>\n",
              "  </thead>\n",
              "  <tbody>\n",
              "    <tr>\n",
              "      <th>log_k1_pop</th>\n",
              "      <td>0.359</td>\n",
              "      <td>0.033</td>\n",
              "      <td>0.000</td>\n",
              "      <td>0.295</td>\n",
              "      <td>0.419</td>\n",
              "      <td>61026.0</td>\n",
              "      <td>69227.0</td>\n",
              "      <td>1.0</td>\n",
              "    </tr>\n",
              "    <tr>\n",
              "      <th>log_k2_pop</th>\n",
              "      <td>-1.308</td>\n",
              "      <td>0.063</td>\n",
              "      <td>0.000</td>\n",
              "      <td>-1.427</td>\n",
              "      <td>-1.188</td>\n",
              "      <td>80472.0</td>\n",
              "      <td>72358.0</td>\n",
              "      <td>1.0</td>\n",
              "    </tr>\n",
              "    <tr>\n",
              "      <th>log_scale_k1</th>\n",
              "      <td>-1.915</td>\n",
              "      <td>0.090</td>\n",
              "      <td>0.000</td>\n",
              "      <td>-2.086</td>\n",
              "      <td>-1.749</td>\n",
              "      <td>81919.0</td>\n",
              "      <td>82103.0</td>\n",
              "      <td>1.0</td>\n",
              "    </tr>\n",
              "    <tr>\n",
              "      <th>log_scale_k2</th>\n",
              "      <td>-1.023</td>\n",
              "      <td>0.084</td>\n",
              "      <td>0.000</td>\n",
              "      <td>-1.182</td>\n",
              "      <td>-0.867</td>\n",
              "      <td>104757.0</td>\n",
              "      <td>74619.0</td>\n",
              "      <td>1.0</td>\n",
              "    </tr>\n",
              "    <tr>\n",
              "      <th>log_sigma</th>\n",
              "      <td>-2.288</td>\n",
              "      <td>0.026</td>\n",
              "      <td>0.000</td>\n",
              "      <td>-2.337</td>\n",
              "      <td>-2.239</td>\n",
              "      <td>79877.0</td>\n",
              "      <td>80900.0</td>\n",
              "      <td>1.0</td>\n",
              "    </tr>\n",
              "    <tr>\n",
              "      <th>eta_k1[0]</th>\n",
              "      <td>0.976</td>\n",
              "      <td>0.337</td>\n",
              "      <td>0.001</td>\n",
              "      <td>0.343</td>\n",
              "      <td>1.610</td>\n",
              "      <td>79586.0</td>\n",
              "      <td>79335.0</td>\n",
              "      <td>1.0</td>\n",
              "    </tr>\n",
              "    <tr>\n",
              "      <th>eta_k1[1]</th>\n",
              "      <td>0.420</td>\n",
              "      <td>0.339</td>\n",
              "      <td>0.001</td>\n",
              "      <td>-0.222</td>\n",
              "      <td>1.053</td>\n",
              "      <td>78614.0</td>\n",
              "      <td>75686.0</td>\n",
              "      <td>1.0</td>\n",
              "    </tr>\n",
              "    <tr>\n",
              "      <th>eta_k1[2]</th>\n",
              "      <td>1.280</td>\n",
              "      <td>0.319</td>\n",
              "      <td>0.001</td>\n",
              "      <td>0.677</td>\n",
              "      <td>1.878</td>\n",
              "      <td>80515.0</td>\n",
              "      <td>82296.0</td>\n",
              "      <td>1.0</td>\n",
              "    </tr>\n",
              "    <tr>\n",
              "      <th>eta_k1[3]</th>\n",
              "      <td>-1.843</td>\n",
              "      <td>0.351</td>\n",
              "      <td>0.001</td>\n",
              "      <td>-2.498</td>\n",
              "      <td>-1.183</td>\n",
              "      <td>80598.0</td>\n",
              "      <td>81796.0</td>\n",
              "      <td>1.0</td>\n",
              "    </tr>\n",
              "    <tr>\n",
              "      <th>eta_k1[4]</th>\n",
              "      <td>-1.122</td>\n",
              "      <td>0.352</td>\n",
              "      <td>0.001</td>\n",
              "      <td>-1.799</td>\n",
              "      <td>-0.472</td>\n",
              "      <td>80706.0</td>\n",
              "      <td>78792.0</td>\n",
              "      <td>1.0</td>\n",
              "    </tr>\n",
              "    <tr>\n",
              "      <th>eta_k1[5]</th>\n",
              "      <td>0.439</td>\n",
              "      <td>0.354</td>\n",
              "      <td>0.001</td>\n",
              "      <td>-0.222</td>\n",
              "      <td>1.111</td>\n",
              "      <td>80833.0</td>\n",
              "      <td>75899.0</td>\n",
              "      <td>1.0</td>\n",
              "    </tr>\n",
              "    <tr>\n",
              "      <th>eta_k1[6]</th>\n",
              "      <td>-1.444</td>\n",
              "      <td>0.360</td>\n",
              "      <td>0.001</td>\n",
              "      <td>-2.125</td>\n",
              "      <td>-0.765</td>\n",
              "      <td>82297.0</td>\n",
              "      <td>81600.0</td>\n",
              "      <td>1.0</td>\n",
              "    </tr>\n",
              "    <tr>\n",
              "      <th>eta_k1[7]</th>\n",
              "      <td>0.654</td>\n",
              "      <td>0.305</td>\n",
              "      <td>0.001</td>\n",
              "      <td>0.082</td>\n",
              "      <td>1.230</td>\n",
              "      <td>79658.0</td>\n",
              "      <td>79644.0</td>\n",
              "      <td>1.0</td>\n",
              "    </tr>\n",
              "    <tr>\n",
              "      <th>eta_k1[8]</th>\n",
              "      <td>0.429</td>\n",
              "      <td>0.305</td>\n",
              "      <td>0.001</td>\n",
              "      <td>-0.146</td>\n",
              "      <td>1.003</td>\n",
              "      <td>79091.0</td>\n",
              "      <td>80730.0</td>\n",
              "      <td>1.0</td>\n",
              "    </tr>\n",
              "    <tr>\n",
              "      <th>eta_k1[9]</th>\n",
              "      <td>0.037</td>\n",
              "      <td>0.304</td>\n",
              "      <td>0.001</td>\n",
              "      <td>-0.536</td>\n",
              "      <td>0.607</td>\n",
              "      <td>79202.0</td>\n",
              "      <td>78549.0</td>\n",
              "      <td>1.0</td>\n",
              "    </tr>\n",
              "    <tr>\n",
              "      <th>eta_k1[10]</th>\n",
              "      <td>-0.373</td>\n",
              "      <td>0.318</td>\n",
              "      <td>0.001</td>\n",
              "      <td>-0.965</td>\n",
              "      <td>0.225</td>\n",
              "      <td>78507.0</td>\n",
              "      <td>79483.0</td>\n",
              "      <td>1.0</td>\n",
              "    </tr>\n",
              "    <tr>\n",
              "      <th>eta_k1[11]</th>\n",
              "      <td>0.603</td>\n",
              "      <td>0.306</td>\n",
              "      <td>0.001</td>\n",
              "      <td>0.035</td>\n",
              "      <td>1.182</td>\n",
              "      <td>79421.0</td>\n",
              "      <td>77667.0</td>\n",
              "      <td>1.0</td>\n",
              "    </tr>\n",
              "    <tr>\n",
              "      <th>eta_k1[12]</th>\n",
              "      <td>0.151</td>\n",
              "      <td>0.373</td>\n",
              "      <td>0.001</td>\n",
              "      <td>-0.544</td>\n",
              "      <td>0.858</td>\n",
              "      <td>85293.0</td>\n",
              "      <td>73311.0</td>\n",
              "      <td>1.0</td>\n",
              "    </tr>\n",
              "    <tr>\n",
              "      <th>eta_k1[13]</th>\n",
              "      <td>1.141</td>\n",
              "      <td>0.331</td>\n",
              "      <td>0.001</td>\n",
              "      <td>0.516</td>\n",
              "      <td>1.759</td>\n",
              "      <td>79830.0</td>\n",
              "      <td>79995.0</td>\n",
              "      <td>1.0</td>\n",
              "    </tr>\n",
              "    <tr>\n",
              "      <th>eta_k1[14]</th>\n",
              "      <td>0.284</td>\n",
              "      <td>0.321</td>\n",
              "      <td>0.001</td>\n",
              "      <td>-0.327</td>\n",
              "      <td>0.880</td>\n",
              "      <td>77483.0</td>\n",
              "      <td>77782.0</td>\n",
              "      <td>1.0</td>\n",
              "    </tr>\n",
              "    <tr>\n",
              "      <th>eta_k1[15]</th>\n",
              "      <td>1.250</td>\n",
              "      <td>0.356</td>\n",
              "      <td>0.001</td>\n",
              "      <td>0.582</td>\n",
              "      <td>1.925</td>\n",
              "      <td>83168.0</td>\n",
              "      <td>76470.0</td>\n",
              "      <td>1.0</td>\n",
              "    </tr>\n",
              "    <tr>\n",
              "      <th>eta_k1[16]</th>\n",
              "      <td>0.934</td>\n",
              "      <td>0.313</td>\n",
              "      <td>0.001</td>\n",
              "      <td>0.348</td>\n",
              "      <td>1.524</td>\n",
              "      <td>79881.0</td>\n",
              "      <td>80819.0</td>\n",
              "      <td>1.0</td>\n",
              "    </tr>\n",
              "    <tr>\n",
              "      <th>eta_k1[17]</th>\n",
              "      <td>0.610</td>\n",
              "      <td>0.320</td>\n",
              "      <td>0.001</td>\n",
              "      <td>-0.003</td>\n",
              "      <td>1.205</td>\n",
              "      <td>78044.0</td>\n",
              "      <td>78666.0</td>\n",
              "      <td>1.0</td>\n",
              "    </tr>\n",
              "    <tr>\n",
              "      <th>eta_k1[18]</th>\n",
              "      <td>0.963</td>\n",
              "      <td>0.351</td>\n",
              "      <td>0.001</td>\n",
              "      <td>0.320</td>\n",
              "      <td>1.639</td>\n",
              "      <td>80720.0</td>\n",
              "      <td>76000.0</td>\n",
              "      <td>1.0</td>\n",
              "    </tr>\n",
              "    <tr>\n",
              "      <th>eta_k1[19]</th>\n",
              "      <td>-0.090</td>\n",
              "      <td>0.303</td>\n",
              "      <td>0.001</td>\n",
              "      <td>-0.657</td>\n",
              "      <td>0.484</td>\n",
              "      <td>80331.0</td>\n",
              "      <td>79115.0</td>\n",
              "      <td>1.0</td>\n",
              "    </tr>\n",
              "    <tr>\n",
              "      <th>eta_k2[0]</th>\n",
              "      <td>-0.736</td>\n",
              "      <td>0.186</td>\n",
              "      <td>0.000</td>\n",
              "      <td>-1.090</td>\n",
              "      <td>-0.390</td>\n",
              "      <td>82711.0</td>\n",
              "      <td>76158.0</td>\n",
              "      <td>1.0</td>\n",
              "    </tr>\n",
              "    <tr>\n",
              "      <th>eta_k2[1]</th>\n",
              "      <td>-1.104</td>\n",
              "      <td>0.196</td>\n",
              "      <td>0.000</td>\n",
              "      <td>-1.477</td>\n",
              "      <td>-0.741</td>\n",
              "      <td>84949.0</td>\n",
              "      <td>78732.0</td>\n",
              "      <td>1.0</td>\n",
              "    </tr>\n",
              "    <tr>\n",
              "      <th>eta_k2[2]</th>\n",
              "      <td>0.454</td>\n",
              "      <td>0.187</td>\n",
              "      <td>0.000</td>\n",
              "      <td>0.110</td>\n",
              "      <td>0.816</td>\n",
              "      <td>82177.0</td>\n",
              "      <td>74773.0</td>\n",
              "      <td>1.0</td>\n",
              "    </tr>\n",
              "    <tr>\n",
              "      <th>eta_k2[3]</th>\n",
              "      <td>0.666</td>\n",
              "      <td>0.193</td>\n",
              "      <td>0.000</td>\n",
              "      <td>0.304</td>\n",
              "      <td>1.030</td>\n",
              "      <td>83240.0</td>\n",
              "      <td>75926.0</td>\n",
              "      <td>1.0</td>\n",
              "    </tr>\n",
              "    <tr>\n",
              "      <th>eta_k2[4]</th>\n",
              "      <td>-0.803</td>\n",
              "      <td>0.187</td>\n",
              "      <td>0.000</td>\n",
              "      <td>-1.151</td>\n",
              "      <td>-0.445</td>\n",
              "      <td>83133.0</td>\n",
              "      <td>78335.0</td>\n",
              "      <td>1.0</td>\n",
              "    </tr>\n",
              "    <tr>\n",
              "      <th>eta_k2[5]</th>\n",
              "      <td>-1.519</td>\n",
              "      <td>0.212</td>\n",
              "      <td>0.001</td>\n",
              "      <td>-1.911</td>\n",
              "      <td>-1.108</td>\n",
              "      <td>87693.0</td>\n",
              "      <td>80436.0</td>\n",
              "      <td>1.0</td>\n",
              "    </tr>\n",
              "    <tr>\n",
              "      <th>eta_k2[6]</th>\n",
              "      <td>-0.725</td>\n",
              "      <td>0.186</td>\n",
              "      <td>0.000</td>\n",
              "      <td>-1.076</td>\n",
              "      <td>-0.377</td>\n",
              "      <td>82695.0</td>\n",
              "      <td>77481.0</td>\n",
              "      <td>1.0</td>\n",
              "    </tr>\n",
              "    <tr>\n",
              "      <th>eta_k2[7]</th>\n",
              "      <td>0.913</td>\n",
              "      <td>0.201</td>\n",
              "      <td>0.000</td>\n",
              "      <td>0.540</td>\n",
              "      <td>1.298</td>\n",
              "      <td>84600.0</td>\n",
              "      <td>76104.0</td>\n",
              "      <td>1.0</td>\n",
              "    </tr>\n",
              "    <tr>\n",
              "      <th>eta_k2[8]</th>\n",
              "      <td>0.585</td>\n",
              "      <td>0.191</td>\n",
              "      <td>0.000</td>\n",
              "      <td>0.232</td>\n",
              "      <td>0.948</td>\n",
              "      <td>82765.0</td>\n",
              "      <td>75781.0</td>\n",
              "      <td>1.0</td>\n",
              "    </tr>\n",
              "    <tr>\n",
              "      <th>eta_k2[9]</th>\n",
              "      <td>0.995</td>\n",
              "      <td>0.205</td>\n",
              "      <td>0.000</td>\n",
              "      <td>0.615</td>\n",
              "      <td>1.384</td>\n",
              "      <td>84900.0</td>\n",
              "      <td>76197.0</td>\n",
              "      <td>1.0</td>\n",
              "    </tr>\n",
              "    <tr>\n",
              "      <th>eta_k2[10]</th>\n",
              "      <td>0.228</td>\n",
              "      <td>0.183</td>\n",
              "      <td>0.000</td>\n",
              "      <td>-0.124</td>\n",
              "      <td>0.567</td>\n",
              "      <td>81461.0</td>\n",
              "      <td>74929.0</td>\n",
              "      <td>1.0</td>\n",
              "    </tr>\n",
              "    <tr>\n",
              "      <th>eta_k2[11]</th>\n",
              "      <td>0.749</td>\n",
              "      <td>0.196</td>\n",
              "      <td>0.000</td>\n",
              "      <td>0.374</td>\n",
              "      <td>1.109</td>\n",
              "      <td>83509.0</td>\n",
              "      <td>77304.0</td>\n",
              "      <td>1.0</td>\n",
              "    </tr>\n",
              "    <tr>\n",
              "      <th>eta_k2[12]</th>\n",
              "      <td>-2.521</td>\n",
              "      <td>0.267</td>\n",
              "      <td>0.001</td>\n",
              "      <td>-3.028</td>\n",
              "      <td>-2.022</td>\n",
              "      <td>93897.0</td>\n",
              "      <td>79196.0</td>\n",
              "      <td>1.0</td>\n",
              "    </tr>\n",
              "    <tr>\n",
              "      <th>eta_k2[13]</th>\n",
              "      <td>-0.268</td>\n",
              "      <td>0.180</td>\n",
              "      <td>0.000</td>\n",
              "      <td>-0.608</td>\n",
              "      <td>0.069</td>\n",
              "      <td>81202.0</td>\n",
              "      <td>75135.0</td>\n",
              "      <td>1.0</td>\n",
              "    </tr>\n",
              "    <tr>\n",
              "      <th>eta_k2[14]</th>\n",
              "      <td>-0.122</td>\n",
              "      <td>0.180</td>\n",
              "      <td>0.000</td>\n",
              "      <td>-0.459</td>\n",
              "      <td>0.218</td>\n",
              "      <td>81186.0</td>\n",
              "      <td>74553.0</td>\n",
              "      <td>1.0</td>\n",
              "    </tr>\n",
              "    <tr>\n",
              "      <th>eta_k2[15]</th>\n",
              "      <td>-1.523</td>\n",
              "      <td>0.213</td>\n",
              "      <td>0.001</td>\n",
              "      <td>-1.928</td>\n",
              "      <td>-1.125</td>\n",
              "      <td>87466.0</td>\n",
              "      <td>81438.0</td>\n",
              "      <td>1.0</td>\n",
              "    </tr>\n",
              "    <tr>\n",
              "      <th>eta_k2[16]</th>\n",
              "      <td>0.718</td>\n",
              "      <td>0.195</td>\n",
              "      <td>0.000</td>\n",
              "      <td>0.359</td>\n",
              "      <td>1.092</td>\n",
              "      <td>83360.0</td>\n",
              "      <td>75653.0</td>\n",
              "      <td>1.0</td>\n",
              "    </tr>\n",
              "    <tr>\n",
              "      <th>eta_k2[17]</th>\n",
              "      <td>-0.074</td>\n",
              "      <td>0.180</td>\n",
              "      <td>0.001</td>\n",
              "      <td>-0.415</td>\n",
              "      <td>0.263</td>\n",
              "      <td>81065.0</td>\n",
              "      <td>74870.0</td>\n",
              "      <td>1.0</td>\n",
              "    </tr>\n",
              "    <tr>\n",
              "      <th>eta_k2[18]</th>\n",
              "      <td>-1.205</td>\n",
              "      <td>0.200</td>\n",
              "      <td>0.000</td>\n",
              "      <td>-1.585</td>\n",
              "      <td>-0.831</td>\n",
              "      <td>85197.0</td>\n",
              "      <td>79627.0</td>\n",
              "      <td>1.0</td>\n",
              "    </tr>\n",
              "    <tr>\n",
              "      <th>eta_k2[19]</th>\n",
              "      <td>1.560</td>\n",
              "      <td>0.231</td>\n",
              "      <td>0.001</td>\n",
              "      <td>1.134</td>\n",
              "      <td>2.001</td>\n",
              "      <td>88362.0</td>\n",
              "      <td>77425.0</td>\n",
              "      <td>1.0</td>\n",
              "    </tr>\n",
              "  </tbody>\n",
              "</table>\n",
              "</div>\n",
              "      <button class=\"colab-df-convert\" onclick=\"convertToInteractive('df-77772a87-2ab7-4ca0-af32-dab64f14b875')\"\n",
              "              title=\"Convert this dataframe to an interactive table.\"\n",
              "              style=\"display:none;\">\n",
              "        \n",
              "  <svg xmlns=\"http://www.w3.org/2000/svg\" height=\"24px\"viewBox=\"0 0 24 24\"\n",
              "       width=\"24px\">\n",
              "    <path d=\"M0 0h24v24H0V0z\" fill=\"none\"/>\n",
              "    <path d=\"M18.56 5.44l.94 2.06.94-2.06 2.06-.94-2.06-.94-.94-2.06-.94 2.06-2.06.94zm-11 1L8.5 8.5l.94-2.06 2.06-.94-2.06-.94L8.5 2.5l-.94 2.06-2.06.94zm10 10l.94 2.06.94-2.06 2.06-.94-2.06-.94-.94-2.06-.94 2.06-2.06.94z\"/><path d=\"M17.41 7.96l-1.37-1.37c-.4-.4-.92-.59-1.43-.59-.52 0-1.04.2-1.43.59L10.3 9.45l-7.72 7.72c-.78.78-.78 2.05 0 2.83L4 21.41c.39.39.9.59 1.41.59.51 0 1.02-.2 1.41-.59l7.78-7.78 2.81-2.81c.8-.78.8-2.07 0-2.86zM5.41 20L4 18.59l7.72-7.72 1.47 1.35L5.41 20z\"/>\n",
              "  </svg>\n",
              "      </button>\n",
              "      \n",
              "  <style>\n",
              "    .colab-df-container {\n",
              "      display:flex;\n",
              "      flex-wrap:wrap;\n",
              "      gap: 12px;\n",
              "    }\n",
              "\n",
              "    .colab-df-convert {\n",
              "      background-color: #E8F0FE;\n",
              "      border: none;\n",
              "      border-radius: 50%;\n",
              "      cursor: pointer;\n",
              "      display: none;\n",
              "      fill: #1967D2;\n",
              "      height: 32px;\n",
              "      padding: 0 0 0 0;\n",
              "      width: 32px;\n",
              "    }\n",
              "\n",
              "    .colab-df-convert:hover {\n",
              "      background-color: #E2EBFA;\n",
              "      box-shadow: 0px 1px 2px rgba(60, 64, 67, 0.3), 0px 1px 3px 1px rgba(60, 64, 67, 0.15);\n",
              "      fill: #174EA6;\n",
              "    }\n",
              "\n",
              "    [theme=dark] .colab-df-convert {\n",
              "      background-color: #3B4455;\n",
              "      fill: #D2E3FC;\n",
              "    }\n",
              "\n",
              "    [theme=dark] .colab-df-convert:hover {\n",
              "      background-color: #434B5C;\n",
              "      box-shadow: 0px 1px 3px 1px rgba(0, 0, 0, 0.15);\n",
              "      filter: drop-shadow(0px 1px 2px rgba(0, 0, 0, 0.3));\n",
              "      fill: #FFFFFF;\n",
              "    }\n",
              "  </style>\n",
              "\n",
              "      <script>\n",
              "        const buttonEl =\n",
              "          document.querySelector('#df-77772a87-2ab7-4ca0-af32-dab64f14b875 button.colab-df-convert');\n",
              "        buttonEl.style.display =\n",
              "          google.colab.kernel.accessAllowed ? 'block' : 'none';\n",
              "\n",
              "        async function convertToInteractive(key) {\n",
              "          const element = document.querySelector('#df-77772a87-2ab7-4ca0-af32-dab64f14b875');\n",
              "          const dataTable =\n",
              "            await google.colab.kernel.invokeFunction('convertToInteractive',\n",
              "                                                     [key], {});\n",
              "          if (!dataTable) return;\n",
              "\n",
              "          const docLinkHtml = 'Like what you see? Visit the ' +\n",
              "            '<a target=\"_blank\" href=https://colab.research.google.com/notebooks/data_table.ipynb>data table notebook</a>'\n",
              "            + ' to learn more about interactive tables.';\n",
              "          element.innerHTML = '';\n",
              "          dataTable['output_type'] = 'display_data';\n",
              "          await google.colab.output.renderOutput(dataTable, element);\n",
              "          const docLink = document.createElement('div');\n",
              "          docLink.innerHTML = docLinkHtml;\n",
              "          element.appendChild(docLink);\n",
              "        }\n",
              "      </script>\n",
              "    </div>\n",
              "  </div>\n",
              "  "
            ]
          },
          "metadata": {},
          "execution_count": 51
        }
      ]
    },
    {
      "cell_type": "code",
      "metadata": {
        "id": "pe618aqQzib-"
      },
      "source": [
        "num_dimensions = fit_summary.shape[0]\n",
        "mean_est = np.zeros(num_dimensions)\n",
        "var_est = np.zeros(num_dimensions)\n",
        "\n",
        "for i in range(0, num_dimensions):\n",
        "  mean_est[i] = fit_summary.iat[i, 0]\n",
        "  var_est[i] = np.square(fit_summary.iat[i, 1])"
      ],
      "execution_count": null,
      "outputs": []
    },
    {
      "cell_type": "code",
      "metadata": {
        "id": "N7_JrLjniLQQ"
      },
      "source": [
        "# save benchmark values\n",
        "model_name = \"pk\"\n",
        "if True:\n",
        "  np.save(dir_name + model_name + \"_npatients=\" + str(n_patients) + \"_mean_est\", mean_est)\n",
        "  np.save(dir_name + model_name + \"_npatients=\" + str(n_patients) + \"_var_est\", var_est)"
      ],
      "execution_count": null,
      "outputs": []
    },
    {
      "cell_type": "markdown",
      "metadata": {
        "id": "gGyLkEKA87x4"
      },
      "source": [
        "### $n \\hat R$ diagnostic"
      ]
    },
    {
      "cell_type": "code",
      "metadata": {
        "id": "X6rLMMak8_YI"
      },
      "source": [
        "num_seed = 10\n",
        "num_samples = 5\n",
        "num_warmup, num_sampling = 1000, 10\n",
        "total_samples = num_warmup + num_sampling\n",
        "init_step_size = 0.001\n",
        "\n",
        "kernel = construct_kernel(target_log_prob_fn = pop_target_log_prob_fn_flat,\n",
        "                          init_step_size = init_step_size,\n",
        "                          num_warmup = num_warmup)"
      ],
      "execution_count": null,
      "outputs": []
    },
    {
      "cell_type": "code",
      "metadata": {
        "id": "zoPFOJN-9Vvl"
      },
      "source": [
        "index_param = np.arange(0, 205)"
      ],
      "execution_count": null,
      "outputs": []
    },
    {
      "cell_type": "code",
      "metadata": {
        "id": "VOSsZVQx9P0-"
      },
      "source": [
        "Rhat_list, nRhat_list, B_list, W_list, mc_mean_list = run_fits(\n",
        "           num_seed = num_seed, total_samples = total_samples,\n",
        "           initialize = initialize_flat, kernel = kernel,\n",
        "           num_super_chains = num_super_chains, index_param = index_param,\n",
        "           num_samples = num_samples, num_warmup = num_warmup,\n",
        "           state_is_list = False)"
      ],
      "execution_count": null,
      "outputs": []
    },
    {
      "cell_type": "code",
      "metadata": {
        "id": "GRWRypOQ6WSQ"
      },
      "source": [
        "# OPTIONAL: correct Rhat to avoid having negative values.\n",
        "if True:\n",
        "  Rhat_list = np.sqrt(np.square(Rhat_list) - (num_samples - 1) / num_samples + 1)"
      ],
      "execution_count": null,
      "outputs": []
    },
    {
      "cell_type": "code",
      "metadata": {
        "id": "nYTzkYi26XEN"
      },
      "source": [
        "square_error = np.square(mc_mean_list - mean_est[index_param])\n",
        "expected_error = var_est[index_param] / num_chains\n",
        "\n",
        "plot_data = [square_error[:, 0] / expected_error[0]]\n",
        "for i in range(1, index_param.shape[0]):\n",
        "  plot_data.append(square_error[:, i] / expected_error[i])\n",
        "\n",
        "fig = figure(figsize =(6, 3))\n",
        "ax = fig.add_axes([0, 0, 1, 1])\n",
        "ax.boxplot(plot_data)\n",
        "axhline(y = 1, linestyle = \"--\")\n",
        "title(\"Squared Error over expected squared error (if chains converged)\")\n",
        "show()"
      ],
      "execution_count": null,
      "outputs": []
    },
    {
      "cell_type": "code",
      "metadata": {
        "id": "UMJ2gPUD6iWh"
      },
      "source": [
        "plot_data = [nRhat_list[:, 0], Rhat_list[:, 0]]\n",
        "ylabels = ['nRhat[0]', 'Rhat[0]']\n",
        "plot_data_nRhat = [nRhat_list[:, 0]]\n",
        "ylabels_nRhat = ['nRhat[0]']\n",
        "for i in range(1, index_param.shape[0]):\n",
        "  plot_data.append(nRhat_list[:, i])\n",
        "  plot_data.append(Rhat_list[:, i])\n",
        "  ylabels.append(('nRhat[' + str(i) + ']'))\n",
        "  ylabels.append(('Rhat[' + str(i) + ']'))\n",
        "\n",
        "  plot_data_nRhat.append(nRhat_list[:, i])\n",
        "  ylabels_nRhat.append(('nRhat[' + str(i) + ']'))\n"
      ],
      "execution_count": null,
      "outputs": []
    },
    {
      "cell_type": "code",
      "metadata": {
        "id": "YIf1zjpy6me4"
      },
      "source": [
        "fig = figure(figsize =(6, 0.5 * index_param.shape[0]))\n",
        "ax = fig.add_axes([0, 0, 1, 1])\n",
        "axvline(x = 1, color = 'y', linestyle = '--', linewidth = 0.5,\n",
        "        label = \"x = 1\")\n",
        "axvline(x = 1.05, color = 'r', linestyle = '--', linewidth = 0.5,\n",
        "        label = \"x = 1.05\")\n",
        "axvline(x = nRhat_upper, color = 'c', linestyle = '--', linewidth = 0.5,\n",
        "        label = \"x = u\")\n",
        "ax.boxplot(plot_data, vert = 0)\n",
        "ax.set_yticklabels(ylabels)\n",
        "title('Warmup = ' + str(num_warmup) + ', samples = ' + str(num_samples))\n",
        "legend(loc = \"best\")\n",
        "show()"
      ],
      "execution_count": null,
      "outputs": []
    },
    {
      "cell_type": "code",
      "metadata": {
        "id": "oaUCozlN6yCN"
      },
      "source": [
        "# Let's take a closer look at the nRhat's and compare them\n",
        "# to what we would expect from independent samples.\n",
        "fig = figure(figsize =(6, 0.5 * index_param.shape[0]))\n",
        "ax = fig.add_axes([0, 0, 1, 1])\n",
        "axvline(x = 1, color = 'y', linestyle = '--', linewidth = 0.5,\n",
        "        label = \"x = 1\")\n",
        "axvline(x = nRhat_upper, color = 'c', linestyle = '--', linewidth = 0.5,\n",
        "        label = \"x = u\")\n",
        "axvline(x = 1.05, color = 'r', linestyle = '--', linewidth = 0.5,\n",
        "        label = \"x = 1.05\")\n",
        "ax.boxplot(plot_data_nRhat, vert = 0)\n",
        "ax.set_yticklabels(ylabels_nRhat)\n",
        "title('Warmup = ' + str(num_warmup) + ', samples = ' + str(num_samples))\n",
        "legend(loc = \"best\")\n",
        "show()"
      ],
      "execution_count": null,
      "outputs": []
    },
    {
      "cell_type": "markdown",
      "metadata": {
        "id": "wyMMXDn35S-6"
      },
      "source": [
        "### Adaptive warmup"
      ]
    },
    {
      "cell_type": "markdown",
      "metadata": {
        "id": "ObV-rK7VVRIK"
      },
      "source": [
        "WARNING: when doing many seeds on the PK model, Colab pro can run out of RAM. To alleviate this issue, reduce the number of seeds, and run the code multiple times, while making sure to change the seed each time."
      ]
    },
    {
      "cell_type": "code",
      "source": [
        "num_seed = 10\n",
        "initial_seed = 1"
      ],
      "metadata": {
        "id": "lsQHOyDdGwN6"
      },
      "execution_count": null,
      "outputs": []
    },
    {
      "cell_type": "code",
      "source": [
        "n_patients = 20  # alternative is 100"
      ],
      "metadata": {
        "id": "9gy9XworGOjz"
      },
      "execution_count": null,
      "outputs": []
    },
    {
      "cell_type": "code",
      "metadata": {
        "id": "9UYQQNhSlL2I"
      },
      "source": [
        "# Read in benchmark values\n",
        "model_name = \"pk\"\n",
        "mean_est = np.load(dir_name + model_name + \"_npatients=\" + str(n_patients) + \"_mean_est.npy\")\n",
        "var_est = np.load(dir_name + model_name + \"_npatients=\" + str(n_patients) + \"_var_est.npy\")"
      ],
      "execution_count": null,
      "outputs": []
    },
    {
      "cell_type": "code",
      "metadata": {
        "id": "e6xPho-D5WBl"
      },
      "source": [
        "warmup_window = 100\n",
        "max_warmup = 1000  # 1000\n",
        "alpha_quantile = 1\n",
        "index_param = np.arange(0, 2 * n_patients + 5)\n",
        "\n",
        "window_array = np.append(np.repeat(10, 10), \n",
        "                      np.repeat(warmup_window, max_warmup // warmup_window - 1))\n",
        "\n",
        "kernel_cold = construct_kernel(target_log_prob_fn = pop_target_log_prob_fn_flat,\n",
        "                          init_step_size = init_step_size,\n",
        "                          num_warmup = max_warmup)\n",
        "\n",
        "kernel_warm = construct_kernel(target_log_prob_fn = pop_target_log_prob_fn_flat,\n",
        "                          init_step_size = init_step_size,\n",
        "                          num_warmup = max_warmup)\n",
        "\n",
        "num_samples = 1\n",
        "num_super_chains = 64\n",
        "num_sub_chains = 2\n",
        "num_chains = num_super_chains * num_sub_chains\n",
        "nRhat_upper = 1.0  # if set to 1, no early stopping of warmup!"
      ],
      "execution_count": null,
      "outputs": []
    },
    {
      "cell_type": "code",
      "source": [
        "# Check tuning parameters of the experiment\n",
        "print(\"num_seed:\", num_seed)\n",
        "print(\"num_samples:\", num_samples)\n",
        "print(\"num_super_chains:\", num_super_chains)\n",
        "print(\"num_sub_chains:\", num_sub_chains)\n",
        "print(\"nRhat_upper:\", nRhat_upper)"
      ],
      "metadata": {
        "colab": {
          "base_uri": "https://localhost:8080/"
        },
        "id": "UbOkZU1YG8Tt",
        "outputId": "04e4590a-4742-42ac-d1ea-766cb0b77a72"
      },
      "execution_count": null,
      "outputs": [
        {
          "output_type": "stream",
          "name": "stdout",
          "text": [
            "num_seed: 10\n",
            "num_samples: 1\n",
            "num_super_chains: 64\n",
            "num_sub_chains: 2\n",
            "nRhat_upper: 1.0\n"
          ]
        }
      ]
    },
    {
      "cell_type": "code",
      "source": [
        "# make sure this defintion uses above number of chains.\n",
        "initial_state = initialize((num_super_chains,))\n",
        "for i in range(0, len(initial_state)):\n",
        "  initial_state[i] = np.repeat(initial_state[i],\n",
        "                               num_chains // num_super_chains, axis = 0)"
      ],
      "metadata": {
        "id": "aJRfiwEJ2zv2"
      },
      "execution_count": null,
      "outputs": []
    },
    {
      "cell_type": "code",
      "metadata": {
        "id": "5thKuXuV51ll",
        "colab": {
          "base_uri": "https://localhost:8080/"
        },
        "outputId": "e9c2212b-3d9c-43db-eac1-a7c5ea20d5da"
      },
      "source": [
        "mc_mean_list, warmup_length,\\\n",
        "squared_error_list, max_nrhat_list = run_forge_chain(num_seed = num_seed,\n",
        "                                          kernel_cold = kernel_cold,\n",
        "                                          kernel_warm = kernel_warm,\n",
        "                                          initialize = initialize_flat,\n",
        "                                          num_super_chains = num_super_chains,\n",
        "                                          num_warmup = window_array,\n",
        "                                          num_samples = num_samples,\n",
        "                                          target_rhat = nRhat_upper,\n",
        "                                          max_num_steps = window_array.shape[0],\n",
        "                                          index_param = index_param,\n",
        "                                          rank_normalize = rank_normalize,\n",
        "                                          alpha_quantile = alpha_quantile,\n",
        "                                          mean_benchmark = mean_est,\n",
        "                                          var_benchmark = var_est,\n",
        "                                          initial_seed = initial_seed)\n"
      ],
      "execution_count": null,
      "outputs": [
        {
          "output_type": "stream",
          "name": "stdout",
          "text": [
            "NEW SEED\n"
          ]
        },
        {
          "output_type": "stream",
          "name": "stderr",
          "text": [
            "/usr/local/lib/python3.7/dist-packages/tensorflow_probability/python/internal/backend/jax/ops.py:282: UserWarning: Explicitly requested dtype float64 requested in astype is not available, and will be truncated to dtype float32. To enable more dtypes, set the jax_enable_x64 configuration option or the JAX_ENABLE_X64 shell environment variable. See https://github.com/google/jax#current-gotchas for more.\n",
            "  return arr.astype(dtype)\n"
          ]
        },
        {
          "output_type": "stream",
          "name": "stdout",
          "text": [
            "nRhat_quantile: ( 1 ) 26.474990844726562\n",
            "nRhat_quantile: ( 1 ) 19.854286193847656\n",
            "nRhat_quantile: ( 1 ) 15.382757186889648\n",
            "nRhat_quantile: ( 1 ) 15.077476501464844\n",
            "nRhat_quantile: ( 1 ) 12.83993911743164\n",
            "nRhat_quantile: ( 1 ) 12.480855941772461\n",
            "nRhat_quantile: ( 1 ) 11.659984588623047\n",
            "nRhat_quantile: ( 1 ) 10.518199920654297\n",
            "nRhat_quantile: ( 1 ) 10.090469360351562\n",
            "nRhat_quantile: ( 1 ) 10.035378456115723\n",
            "nRhat_quantile: ( 1 ) 7.289578437805176\n",
            "nRhat_quantile: ( 1 ) 2.2296853065490723\n",
            "nRhat_quantile: ( 1 ) 1.3672192096710205\n",
            "nRhat_quantile: ( 1 ) 1.3537920713424683\n",
            "nRhat_quantile: ( 1 ) 1.3377279043197632\n",
            "nRhat_quantile: ( 1 ) 1.4147288799285889\n",
            "nRhat_quantile: ( 1 ) 1.344817042350769\n",
            "nRhat_quantile: ( 1 ) 1.4024049043655396\n",
            "nRhat_quantile: ( 1 ) 1.3229117393493652\n",
            "NEW SEED\n",
            "nRhat_quantile: ( 1 ) 36.81067657470703\n",
            "nRhat_quantile: ( 1 ) 23.22795295715332\n",
            "nRhat_quantile: ( 1 ) 18.948942184448242\n",
            "nRhat_quantile: ( 1 ) 18.0913028717041\n",
            "nRhat_quantile: ( 1 ) 16.295259475708008\n",
            "nRhat_quantile: ( 1 ) 14.706509590148926\n",
            "nRhat_quantile: ( 1 ) 12.285531997680664\n",
            "nRhat_quantile: ( 1 ) 11.158626556396484\n",
            "nRhat_quantile: ( 1 ) 10.09814739227295\n",
            "nRhat_quantile: ( 1 ) 9.570533752441406\n",
            "nRhat_quantile: ( 1 ) 7.126986980438232\n",
            "nRhat_quantile: ( 1 ) 4.5787882804870605\n",
            "nRhat_quantile: ( 1 ) 1.5270981788635254\n",
            "nRhat_quantile: ( 1 ) 1.3831216096878052\n",
            "nRhat_quantile: ( 1 ) 1.2947889566421509\n",
            "nRhat_quantile: ( 1 ) 1.3392099142074585\n",
            "nRhat_quantile: ( 1 ) 1.3306655883789062\n",
            "nRhat_quantile: ( 1 ) 1.3274797201156616\n",
            "nRhat_quantile: ( 1 ) 1.2776405811309814\n",
            "NEW SEED\n",
            "nRhat_quantile: ( 1 ) 29.196731567382812\n",
            "nRhat_quantile: ( 1 ) 22.862104415893555\n",
            "nRhat_quantile: ( 1 ) 19.84651756286621\n",
            "nRhat_quantile: ( 1 ) 16.147140502929688\n",
            "nRhat_quantile: ( 1 ) 13.360215187072754\n",
            "nRhat_quantile: ( 1 ) 12.171902656555176\n",
            "nRhat_quantile: ( 1 ) 11.520282745361328\n",
            "nRhat_quantile: ( 1 ) 11.477768898010254\n",
            "nRhat_quantile: ( 1 ) 11.648141860961914\n",
            "nRhat_quantile: ( 1 ) 10.56837272644043\n",
            "nRhat_quantile: ( 1 ) 7.578237056732178\n",
            "nRhat_quantile: ( 1 ) 3.369115114212036\n",
            "nRhat_quantile: ( 1 ) 1.3405052423477173\n",
            "nRhat_quantile: ( 1 ) 1.368695855140686\n",
            "nRhat_quantile: ( 1 ) 1.362174153327942\n",
            "nRhat_quantile: ( 1 ) 1.3681437969207764\n",
            "nRhat_quantile: ( 1 ) 1.340160846710205\n",
            "nRhat_quantile: ( 1 ) 1.434954285621643\n",
            "nRhat_quantile: ( 1 ) 1.3582011461257935\n",
            "NEW SEED\n",
            "nRhat_quantile: ( 1 ) 29.019834518432617\n",
            "nRhat_quantile: ( 1 ) 22.860774993896484\n",
            "nRhat_quantile: ( 1 ) 17.555755615234375\n",
            "nRhat_quantile: ( 1 ) 14.625775337219238\n",
            "nRhat_quantile: ( 1 ) 12.864201545715332\n",
            "nRhat_quantile: ( 1 ) 12.132844924926758\n",
            "nRhat_quantile: ( 1 ) 11.14884090423584\n",
            "nRhat_quantile: ( 1 ) 10.4661865234375\n",
            "nRhat_quantile: ( 1 ) 9.894320487976074\n",
            "nRhat_quantile: ( 1 ) 9.264177322387695\n",
            "nRhat_quantile: ( 1 ) 6.989447116851807\n",
            "nRhat_quantile: ( 1 ) 1.867416501045227\n",
            "nRhat_quantile: ( 1 ) 1.3280049562454224\n",
            "nRhat_quantile: ( 1 ) 1.3873955011367798\n",
            "nRhat_quantile: ( 1 ) 1.3860918283462524\n",
            "nRhat_quantile: ( 1 ) 1.3063464164733887\n",
            "nRhat_quantile: ( 1 ) 1.3490393161773682\n",
            "nRhat_quantile: ( 1 ) 1.3887358903884888\n",
            "nRhat_quantile: ( 1 ) 1.3675634860992432\n",
            "NEW SEED\n",
            "nRhat_quantile: ( 1 ) 45.387413024902344\n",
            "nRhat_quantile: ( 1 ) 25.213987350463867\n",
            "nRhat_quantile: ( 1 ) 19.75693702697754\n",
            "nRhat_quantile: ( 1 ) 17.10257339477539\n",
            "nRhat_quantile: ( 1 ) 12.940688133239746\n",
            "nRhat_quantile: ( 1 ) 11.813055038452148\n",
            "nRhat_quantile: ( 1 ) 11.064445495605469\n",
            "nRhat_quantile: ( 1 ) 10.458013534545898\n",
            "nRhat_quantile: ( 1 ) 9.984726905822754\n",
            "nRhat_quantile: ( 1 ) 9.714513778686523\n",
            "nRhat_quantile: ( 1 ) 6.589389801025391\n",
            "nRhat_quantile: ( 1 ) 4.927218437194824\n",
            "nRhat_quantile: ( 1 ) 1.4898128509521484\n",
            "nRhat_quantile: ( 1 ) 1.3987905979156494\n",
            "nRhat_quantile: ( 1 ) 1.3221118450164795\n",
            "nRhat_quantile: ( 1 ) 1.3298710584640503\n",
            "nRhat_quantile: ( 1 ) 1.3084337711334229\n",
            "nRhat_quantile: ( 1 ) 1.3197166919708252\n",
            "nRhat_quantile: ( 1 ) 1.3337239027023315\n",
            "NEW SEED\n",
            "nRhat_quantile: ( 1 ) 46.013668060302734\n",
            "nRhat_quantile: ( 1 ) 25.99762725830078\n",
            "nRhat_quantile: ( 1 ) 21.663179397583008\n",
            "nRhat_quantile: ( 1 ) 18.064096450805664\n",
            "nRhat_quantile: ( 1 ) 16.479808807373047\n",
            "nRhat_quantile: ( 1 ) 13.81950855255127\n",
            "nRhat_quantile: ( 1 ) 11.688406944274902\n",
            "nRhat_quantile: ( 1 ) 11.879743576049805\n",
            "nRhat_quantile: ( 1 ) 11.001089096069336\n",
            "nRhat_quantile: ( 1 ) 9.98755168914795\n",
            "nRhat_quantile: ( 1 ) 7.264083385467529\n",
            "nRhat_quantile: ( 1 ) 2.7385644912719727\n",
            "nRhat_quantile: ( 1 ) 1.4256161451339722\n",
            "nRhat_quantile: ( 1 ) 1.3447537422180176\n",
            "nRhat_quantile: ( 1 ) 1.3303567171096802\n",
            "nRhat_quantile: ( 1 ) 1.3130964040756226\n",
            "nRhat_quantile: ( 1 ) 1.2917202711105347\n",
            "nRhat_quantile: ( 1 ) 1.3966522216796875\n",
            "nRhat_quantile: ( 1 ) 1.3258183002471924\n",
            "NEW SEED\n",
            "nRhat_quantile: ( 1 ) 33.702545166015625\n",
            "nRhat_quantile: ( 1 ) 22.074737548828125\n",
            "nRhat_quantile: ( 1 ) 19.429611206054688\n",
            "nRhat_quantile: ( 1 ) 16.40495491027832\n",
            "nRhat_quantile: ( 1 ) 13.995953559875488\n",
            "nRhat_quantile: ( 1 ) 12.095027923583984\n",
            "nRhat_quantile: ( 1 ) 11.077035903930664\n",
            "nRhat_quantile: ( 1 ) 10.238627433776855\n",
            "nRhat_quantile: ( 1 ) 9.684870719909668\n",
            "nRhat_quantile: ( 1 ) 9.068655967712402\n",
            "nRhat_quantile: ( 1 ) 7.547486782073975\n",
            "nRhat_quantile: ( 1 ) 2.329223871231079\n",
            "nRhat_quantile: ( 1 ) 1.4035868644714355\n",
            "nRhat_quantile: ( 1 ) 1.3900482654571533\n",
            "nRhat_quantile: ( 1 ) 1.4030295610427856\n",
            "nRhat_quantile: ( 1 ) 1.3616092205047607\n",
            "nRhat_quantile: ( 1 ) 1.2883601188659668\n",
            "nRhat_quantile: ( 1 ) 1.3473185300827026\n",
            "nRhat_quantile: ( 1 ) 1.3404170274734497\n",
            "NEW SEED\n",
            "nRhat_quantile: ( 1 ) 26.341100692749023\n",
            "nRhat_quantile: ( 1 ) 19.921682357788086\n",
            "nRhat_quantile: ( 1 ) 15.608505249023438\n",
            "nRhat_quantile: ( 1 ) 14.129921913146973\n",
            "nRhat_quantile: ( 1 ) 12.920441627502441\n",
            "nRhat_quantile: ( 1 ) 12.392369270324707\n",
            "nRhat_quantile: ( 1 ) 10.967528343200684\n",
            "nRhat_quantile: ( 1 ) 9.959762573242188\n",
            "nRhat_quantile: ( 1 ) 9.840558052062988\n",
            "nRhat_quantile: ( 1 ) 9.817415237426758\n",
            "nRhat_quantile: ( 1 ) 7.237793445587158\n",
            "nRhat_quantile: ( 1 ) 1.9984506368637085\n",
            "nRhat_quantile: ( 1 ) 1.3920035362243652\n",
            "nRhat_quantile: ( 1 ) 1.2760770320892334\n",
            "nRhat_quantile: ( 1 ) 1.3559635877609253\n",
            "nRhat_quantile: ( 1 ) 1.3821547031402588\n",
            "nRhat_quantile: ( 1 ) 1.335787296295166\n",
            "nRhat_quantile: ( 1 ) 1.3114988803863525\n",
            "nRhat_quantile: ( 1 ) 1.343263030052185\n",
            "NEW SEED\n",
            "nRhat_quantile: ( 1 ) 31.002286911010742\n",
            "nRhat_quantile: ( 1 ) 20.204608917236328\n",
            "nRhat_quantile: ( 1 ) 18.31378746032715\n",
            "nRhat_quantile: ( 1 ) 16.97840118408203\n",
            "nRhat_quantile: ( 1 ) 14.051126480102539\n",
            "nRhat_quantile: ( 1 ) 13.562067985534668\n",
            "nRhat_quantile: ( 1 ) 11.319891929626465\n",
            "nRhat_quantile: ( 1 ) 11.188011169433594\n",
            "nRhat_quantile: ( 1 ) 10.302436828613281\n",
            "nRhat_quantile: ( 1 ) 10.909611701965332\n",
            "nRhat_quantile: ( 1 ) 7.9310221672058105\n",
            "nRhat_quantile: ( 1 ) 2.54121994972229\n",
            "nRhat_quantile: ( 1 ) 1.3993979692459106\n",
            "nRhat_quantile: ( 1 ) 1.3187512159347534\n",
            "nRhat_quantile: ( 1 ) 1.2888734340667725\n",
            "nRhat_quantile: ( 1 ) 1.296220302581787\n",
            "nRhat_quantile: ( 1 ) 1.366560935974121\n",
            "nRhat_quantile: ( 1 ) 1.2940651178359985\n",
            "nRhat_quantile: ( 1 ) 1.2622722387313843\n",
            "NEW SEED\n",
            "nRhat_quantile: ( 1 ) 30.854907989501953\n",
            "nRhat_quantile: ( 1 ) 23.071685791015625\n",
            "nRhat_quantile: ( 1 ) 18.96575927734375\n",
            "nRhat_quantile: ( 1 ) 17.43000030517578\n",
            "nRhat_quantile: ( 1 ) 13.248013496398926\n",
            "nRhat_quantile: ( 1 ) 12.716141700744629\n",
            "nRhat_quantile: ( 1 ) 10.821426391601562\n",
            "nRhat_quantile: ( 1 ) 10.303380966186523\n",
            "nRhat_quantile: ( 1 ) 10.83427619934082\n",
            "nRhat_quantile: ( 1 ) 11.371277809143066\n",
            "nRhat_quantile: ( 1 ) 6.743344783782959\n",
            "nRhat_quantile: ( 1 ) 4.693503379821777\n",
            "nRhat_quantile: ( 1 ) 1.5007059574127197\n",
            "nRhat_quantile: ( 1 ) 1.3805640935897827\n",
            "nRhat_quantile: ( 1 ) 1.305728793144226\n",
            "nRhat_quantile: ( 1 ) 1.3989354372024536\n",
            "nRhat_quantile: ( 1 ) 1.3413913249969482\n",
            "nRhat_quantile: ( 1 ) 1.343895435333252\n",
            "nRhat_quantile: ( 1 ) 1.35459566116333\n"
          ]
        }
      ]
    },
    {
      "cell_type": "code",
      "source": [
        "model_name = \"pk\"  #  \"schools\"\n",
        "\n",
        "np.save(dir_name + model_name + \"_K\" + str(num_super_chains) + \"_M\" + str(num_sub_chains) + \"_N\" + str(num_samples) + \"_max_nrhat\", max_nrhat_list)\n",
        "np.save(dir_name + model_name + \"_K\" + str(num_super_chains) + \"_M\" + str(num_sub_chains) + \"_N\" + str(num_samples) + \"_squared_error\", squared_error_list)"
      ],
      "metadata": {
        "id": "Nvf6HmJ1jOQw"
      },
      "execution_count": null,
      "outputs": []
    },
    {
      "cell_type": "code",
      "metadata": {
        "id": "3Blt4zCfHRGk"
      },
      "source": [
        "# model_name = \"pk\"\n",
        "\n",
        "# np.save(dir_name + model_name + \"_max_nrhat\", max_nrhat_list)\n",
        "# np.save(dir_name + model_name + \"_squared_error\", squared_error_list)\n",
        "# np.save(dir_name + model_name + \"_max_nrhat\" + \"4000\", max_nrhat_list)\n",
        "# np.save(dir_name + model_name + \"_squared_error\" + \"4000\", squared_error_list)"
      ],
      "execution_count": null,
      "outputs": []
    },
    {
      "cell_type": "markdown",
      "metadata": {
        "id": "3UefHgW_DtCZ"
      },
      "source": [
        "## Model synthesis\n",
        "Generate plots which summarize results across all models."
      ]
    },
    {
      "cell_type": "code",
      "source": [
        "# Allows figures to rend latex\n",
        "rc('text', usetex=True)\n",
        "matplotlib.rcParams['text.latex.preamble'] = [r'\\usepackage{amsmath} \\usepackage{amsfonts}']\n",
        "!apt install texlive-fonts-recommended texlive-fonts-extra cm-super dvipng"
      ],
      "metadata": {
        "id": "Xa_q-_-pcJMx"
      },
      "execution_count": null,
      "outputs": []
    },
    {
      "cell_type": "code",
      "source": [
        "from google.colab import files  # use this download saved plots"
      ],
      "metadata": {
        "id": "JqEAbYZzRkBv"
      },
      "execution_count": null,
      "outputs": []
    },
    {
      "cell_type": "code",
      "source": [
        "num_super_chains = 16 # options: 2, 4, 8, 16, 32, 64\n",
        "num_chains = 2048  # 128, 2048\n",
        "num_sub_chains = num_chains // num_super_chains\n",
        "num_samples = 1\n",
        "nRhat_upper = 1.01  # Define nRhat_upper (acceptable threshold)\n",
        "\n",
        "nRhat_lower = np.sqrt(1 + 1 / (num_chains / num_super_chains))\n",
        "\n",
        "# NOTE: use 80% coverage (more stable than 95% coverage)\n",
        "chi_up = 3.841459 # 95th quantile for chi squared with df = 1\n",
        "chi_lo = 0.01579077  # 05th quantile for chi squared with df = 1\n",
        "\n",
        "# WARNING -- check that the variable definition is consistent with is used\n",
        "# in experiments. Redefine here so that we don't need to run previous cells.\n",
        "# TODO: save parameters of the experiment.\n",
        "\n",
        "print(\"num_super_chains =\", num_super_chains)\n",
        "print(\"num_chains =\", num_chains)\n",
        "print(\"num_samples =\", num_samples)\n",
        "print(\"nRhat_upper =\", nRhat_upper)\n",
        "print(\"nRhat_lower =\", nRhat_lower)  # only relevant in num_samples = 1!"
      ],
      "metadata": {
        "colab": {
          "base_uri": "https://localhost:8080/"
        },
        "id": "M5akvkfpcnov",
        "outputId": "a3a7a974-94d8-4a0d-b66d-df122e66d873"
      },
      "execution_count": null,
      "outputs": [
        {
          "output_type": "stream",
          "name": "stdout",
          "text": [
            "num_super_chains = 16\n",
            "num_chains = 2048\n",
            "num_samples = 1\n",
            "nRhat_upper = 1.01\n",
            "nRhat_lower = 1.0038986502630631\n"
          ]
        }
      ]
    },
    {
      "cell_type": "code",
      "metadata": {
        "id": "8ox9UGDSEBl6"
      },
      "source": [
        "nRhat_banana = np.load(dir_name + \"banana\" + \"_K\" + str(num_super_chains) + \"_M\" + str(num_sub_chains) + \"_N\" + str(num_samples) + \"_max_nrhat.npy\")\n",
        "err_banana = np.load(dir_name + \"banana\" + \"_K\" + str(num_super_chains) + \"_M\" + str(num_sub_chains) + \"_N\" + str(num_samples) + \"_squared_error.npy\")\n",
        "\n",
        "nRhat_german = np.load(dir_name + \"german\" + \"_K\" + str(num_super_chains) + \"_M\" + str(num_sub_chains) + \"_N\" + str(num_samples) + \"_max_nrhat.npy\")\n",
        "err_german = np.load(dir_name + \"german\" + \"_K\" + str(num_super_chains) + \"_M\" + str(num_sub_chains) + \"_N\" + str(num_samples) + \"_squared_error.npy\")\n",
        "\n",
        "nRhat_schools = np.load(dir_name + \"schools_K\" + str(num_super_chains) + \"_M\" + str(num_sub_chains) + \"_N\" + str(num_samples) + \"_max_nrhat.npy\")\n",
        "err_schools = np.load(dir_name + \"schools_K\" + str(num_super_chains) + \"_M\" + str(num_sub_chains) + \"_N\" + str(num_samples) + \"_squared_error.npy\")\n",
        "\n",
        "nRhat_pk = np.load(dir_name + \"pk_K\" + str(num_super_chains) + \"_M\" + str(num_sub_chains) + \"_N\" + str(num_samples) + \"_max_nrhat.npy\")\n",
        "err_pk = np.load(dir_name + \"pk_K\" + str(num_super_chains) + \"_M\" + str(num_sub_chains) + \"_N\" + str(num_samples) + \"_squared_error.npy\")\n",
        "\n",
        "# If experiment run over multiple instances (for instance due to\n",
        "# Colab RAM limit), read in files from each run.\n",
        "# seed_split = [\"10\", \"100\", \"1000\", \"2000\", \"3000\", \"4000\"]\n",
        "# for seed_init in seed_split:\n",
        "#   nRhat_pk = np.append(nRhat_pk, np.load(dir_name + \"pk\" + \"_max_nrhat\" +\\\n",
        "#                                          seed_init + \".npy\"))\n",
        "#   err_pk = np.append(err_pk, np.load(dir_name + \"pk\" + \"_squared_error\" +\\\n",
        "#                                      seed_init + \".npy\"))\n"
      ],
      "execution_count": null,
      "outputs": []
    },
    {
      "cell_type": "code",
      "metadata": {
        "colab": {
          "base_uri": "https://localhost:8080/",
          "height": 301
        },
        "id": "dPkMSJJDLL7-",
        "outputId": "43948979-dd1e-4801-8b9b-5faac04c7d24"
      },
      "source": [
        "alpha_point = 0.3\n",
        "s_point = 4\n",
        "eps = nRhat_upper - 1\n",
        "eps_lower = nRhat_lower - 1\n",
        "scatter(nRhat_banana - 1, err_banana, alpha = alpha_point, s = s_point)\n",
        "scatter(nRhat_german - 1, err_german, alpha = alpha_point, s = s_point)\n",
        "scatter(nRhat_schools - 1, err_schools, alpha = alpha_point, s = s_point)\n",
        "scatter(nRhat_pk - 1, err_pk, alpha = alpha_point, s = s_point)\n",
        "axvline(x = eps, linestyle = '--')\n",
        "axhline(y = 1 / num_chains, color = 'black')\n",
        "axhline(y = 5.023886 / num_chains, color = 'black', linestyle = '--')\n",
        "axhline(y = 0.0009820691 / num_chains, color = 'black', linestyle = '--')\n",
        "xscale('log')\n",
        "yscale('log')\n",
        "xlabel(\"$n \\hat R - 1$\")\n",
        "ylabel(\"Scaled squared error\")\n",
        "show()"
      ],
      "execution_count": null,
      "outputs": [
        {
          "output_type": "display_data",
          "data": {
            "text/plain": [
              "<Figure size 432x288 with 1 Axes>"
            ],
            "image/png": "[encoded data removed]"
          },
          "metadata": {
            "needs_background": "light"
          }
        }
      ]
    },
    {
      "cell_type": "code",
      "metadata": {
        "id": "9m9XLU5kD2Fx"
      },
      "source": [
        "def quadrant_counts (nRhat_array, err_array, nRhat_upper, chi_squared_uq):\n",
        "  # For a given threshold, return the number of points that exceed an\n",
        "  # expected threshold at stationarity, as specified by chi_squared_uq, \n",
        "  # under the assumption of stationarity (per the CLT).\n",
        "  num_conv = sum(nRhat_array < nRhat_upper)\n",
        "  num_nonconv = sum(nRhat_array > nRhat_upper)\n",
        "  num_fp = sum((nRhat_array < nRhat_upper) & (err_array > chi_squared_uq))\n",
        "  num_fn = sum((nRhat_array > nRhat_upper) & (err_array < chi_squared_uq))\n",
        "\n",
        "  return np.array([num_fp / num_conv,\n",
        "                   1 - num_fp / num_conv, \n",
        "                   num_fn / num_nonconv,\n",
        "                   1 - num_fn / num_nonconv,\n",
        "                   num_conv])"
      ],
      "execution_count": null,
      "outputs": []
    },
    {
      "cell_type": "code",
      "source": [
        "print(\"chi_up:\", chi_up)"
      ],
      "metadata": {
        "colab": {
          "base_uri": "https://localhost:8080/"
        },
        "id": "C5PANMewWvKD",
        "outputId": "bba461ef-56e0-49fe-8f6c-c6e0a3b94325"
      },
      "execution_count": null,
      "outputs": [
        {
          "output_type": "stream",
          "name": "stdout",
          "text": [
            "chi_up: 3.841459\n"
          ]
        }
      ]
    },
    {
      "cell_type": "code",
      "metadata": {
        "colab": {
          "base_uri": "https://localhost:8080/"
        },
        "id": "A06qpJQwEkPT",
        "outputId": "264e8b8e-6471-498f-a4a4-503bc80008be"
      },
      "source": [
        "chi_square_uq = chi_up / num_chains\n",
        "\n",
        "nRhat_threshold = 1.1  # Warmup criteria is nRhat = 1.01\n",
        "\n",
        "print(quadrant_counts(nRhat_banana, err_banana, nRhat_threshold, chi_square_uq))\n",
        "print(quadrant_counts(nRhat_german, err_german, nRhat_threshold, chi_square_uq))\n",
        "print(quadrant_counts(nRhat_schools, err_schools, nRhat_threshold, chi_square_uq))\n",
        "print(quadrant_counts(nRhat_pk, err_pk, nRhat_threshold, chi_square_uq))\n"
      ],
      "execution_count": null,
      "outputs": [
        {
          "output_type": "stream",
          "name": "stdout",
          "text": [
            "[9.84719864e-02 9.01528014e-01 1.68784029e-01 8.31215971e-01\n",
            " 5.89000000e+02]\n",
            "[2.38425926e-01 7.61574074e-01 3.01274623e-02 9.69872538e-01\n",
            " 3.02400000e+03]\n",
            "[4.96697490e-01 5.03302510e-01 2.93609672e-02 9.70639033e-01\n",
            " 4.54200000e+03]\n",
            "[2.03486529e-01 7.96513471e-01 5.18999073e-03 9.94810009e-01\n",
            " 3.15500000e+03]\n"
          ]
        }
      ]
    },
    {
      "cell_type": "code",
      "source": [
        "# threshold_list = [1.001, 1.005, 1.01, 1.05, 1.1]\n",
        "threshold_list = np.arange(1.0, 1.3, 0.001)\n",
        "viol_banana = []\n",
        "viol_german = []\n",
        "viol_schools = []\n",
        "viol_pk = []\n",
        "\n",
        "count_banana = []\n",
        "count_german = []\n",
        "count_schools = []\n",
        "count_pk = []\n",
        "\n",
        "for i in threshold_list:\n",
        "  quad_result = quadrant_counts(nRhat_banana, err_banana, i, chi_square_uq)\n",
        "  viol_banana.append(quad_result[0])\n",
        "  count_banana.append(quad_result[4])\n",
        "\n",
        "  quad_result = quadrant_counts(nRhat_german, err_german, i, chi_square_uq)\n",
        "  viol_german.append(quad_result[0])\n",
        "  count_german.append(quad_result[4])\n",
        "\n",
        "  quad_result = quadrant_counts(nRhat_schools, err_schools, i, chi_square_uq)\n",
        "  viol_schools.append(quad_result[0])\n",
        "  count_schools.append(quad_result[4])\n",
        "\n",
        "  quad_result = quadrant_counts(nRhat_pk, err_pk, i, chi_square_uq)\n",
        "  viol_pk.append(quad_result[0])\n",
        "  count_pk.append(quad_result[4])\n"
      ],
      "metadata": {
        "colab": {
          "base_uri": "https://localhost:8080/"
        },
        "id": "kqCIgsxe603I",
        "outputId": "fb8717cb-bbd6-4126-ffba-fd49bfdf8f57"
      },
      "execution_count": null,
      "outputs": [
        {
          "output_type": "stream",
          "name": "stderr",
          "text": [
            "/usr/local/lib/python3.7/dist-packages/ipykernel_launcher.py:10: RuntimeWarning: invalid value encountered in long_scalars\n",
            "  # Remove the CWD from sys.path while we load stuff.\n",
            "/usr/local/lib/python3.7/dist-packages/ipykernel_launcher.py:11: RuntimeWarning: invalid value encountered in long_scalars\n",
            "  # This is added back by InteractiveShellApp.init_path()\n"
          ]
        }
      ]
    },
    {
      "cell_type": "code",
      "source": [
        "epsilon = threshold_list\n",
        "epsilon[:] = [number - 1.0 for number in threshold_list]\n"
      ],
      "metadata": {
        "id": "uQTX16Y4g1sB"
      },
      "execution_count": null,
      "outputs": []
    },
    {
      "cell_type": "code",
      "source": [
        "# find first index with an acceptable number of observations\n",
        "min_num_obs = 100\n",
        "index_banana = next(x[0] for x in enumerate(count_banana) if x[1] > min_num_obs)\n",
        "index_german = next(x[0] for x in enumerate(count_german) if x[1] > min_num_obs)\n",
        "index_schools = next(x[0] for x in enumerate(count_schools) if x[1] > min_num_obs)\n",
        "index_pk = next(x[0] for x in enumerate(count_pk) if x[1] > min_num_obs)\n"
      ],
      "metadata": {
        "id": "qsqcjRsU6JAg"
      },
      "execution_count": null,
      "outputs": []
    },
    {
      "cell_type": "code",
      "source": [
        "matplotlib.rcParams.update({'font.size': 22})"
      ],
      "metadata": {
        "id": "mS44ZqXTSdk4"
      },
      "execution_count": null,
      "outputs": []
    },
    {
      "cell_type": "code",
      "source": [
        "fig = figure(figsize=(8, 6))\n",
        "ax = axes()\n",
        "\n",
        "ax.set_xscale('log')\n",
        "ax.plot(epsilon[index_german:], viol_german[index_german:], label = \"German Credit\")\n",
        "ax.plot(epsilon[index_schools:], viol_schools[index_schools:], label = \"Eight Schools\")\n",
        "ax.plot(epsilon[index_pk:], viol_pk[index_pk:], label = \"Pharmacokinetics\")\n",
        "ax.plot(epsilon[index_banana:], viol_banana[index_banana:], label = \"Banana\")\n",
        "\n",
        "ax.axhline(y = 0.05, color = 'black', linestyle = '--')\n",
        "if (num_samples == 5 or num_chains == 2048): ax.axvline(x = eps, color = 'orange', linestyle = '--')\n",
        "if  (num_samples == 1): ax.axvline(x = eps_lower, color = 'blue', linestyle = '--')\n",
        "ax.set_ylim(ymin=0, ymax = 0.33)\n",
        "ax.set_xlim(xmin=9e-4)\n",
        "\n",
        "if (num_chains == 2048 or num_super_chains == 2): ax.legend()\n",
        "if (num_super_chains == 8): fig.text(0.0, 0.05, \"Fraction above the 0.95 quantile\",\n",
        "                  rotation = \"vertical\", fontsize = 22)\n",
        "if (num_chains == 2048): ylabel(\"Fraction above the 0.95 quantile\")\n",
        "if (num_chains == 2048): xlabel(\"$\\mathfrak n \\widehat R - 1$\")\n",
        "title(\"K = \" + str(num_super_chains) + \", M = \" + str(num_sub_chains) + \", N = \" + str(num_samples))\n",
        "\n",
        "filename = \"fraction_\" + \"K\" + str(num_super_chains) + \"_M\" + str(num_sub_chains) + \"_N\" + str(num_samples) + \".pdf\"\n",
        "savefig(filename)\n",
        "files.download(filename)"
      ],
      "metadata": {
        "colab": {
          "base_uri": "https://localhost:8080/",
          "height": 435
        },
        "id": "_i0OaDxOdZhJ",
        "outputId": "a43d9428-4140-42ed-88af-a4f7dcf9e3aa"
      },
      "execution_count": null,
      "outputs": [
        {
          "output_type": "display_data",
          "data": {
            "text/plain": [
              "<IPython.core.display.Javascript object>"
            ],
            "application/javascript": [
              "\n",
              "    async function download(id, filename, size) {\n",
              "      if (!google.colab.kernel.accessAllowed) {\n",
              "        return;\n",
              "      }\n",
              "      const div = document.createElement('div');\n",
              "      const label = document.createElement('label');\n",
              "      label.textContent = `Downloading \"${filename}\": `;\n",
              "      div.appendChild(label);\n",
              "      const progress = document.createElement('progress');\n",
              "      progress.max = size;\n",
              "      div.appendChild(progress);\n",
              "      document.body.appendChild(div);\n",
              "\n",
              "      const buffers = [];\n",
              "      let downloaded = 0;\n",
              "\n",
              "      const channel = await google.colab.kernel.comms.open(id);\n",
              "      // Send a message to notify the kernel that we're ready.\n",
              "      channel.send({})\n",
              "\n",
              "      for await (const message of channel.messages) {\n",
              "        // Send a message to notify the kernel that we're ready.\n",
              "        channel.send({})\n",
              "        if (message.buffers) {\n",
              "          for (const buffer of message.buffers) {\n",
              "            buffers.push(buffer);\n",
              "            downloaded += buffer.byteLength;\n",
              "            progress.value = downloaded;\n",
              "          }\n",
              "        }\n",
              "      }\n",
              "      const blob = new Blob(buffers, {type: 'application/binary'});\n",
              "      const a = document.createElement('a');\n",
              "      a.href = window.URL.createObjectURL(blob);\n",
              "      a.download = filename;\n",
              "      div.appendChild(a);\n",
              "      a.click();\n",
              "      div.remove();\n",
              "    }\n",
              "  "
            ]
          },
          "metadata": {}
        },
        {
          "output_type": "display_data",
          "data": {
            "text/plain": [
              "<IPython.core.display.Javascript object>"
            ],
            "application/javascript": [
              "download(\"download_014a3f6c-dcfd-4dde-8e9e-d5f8466ea55e\", \"fraction_K16_M128_N1.pdf\", 183233)"
            ]
          },
          "metadata": {}
        },
        {
          "output_type": "display_data",
          "data": {
            "text/plain": [
              "<Figure size 576x432 with 1 Axes>"
            ],
            "image/png": "[encoded data removed]"
          },
          "metadata": {
            "needs_background": "light"
          }
        }
      ]
    },
    {
      "cell_type": "code",
      "metadata": {
        "colab": {
          "base_uri": "https://localhost:8080/",
          "height": 324
        },
        "id": "ty8frt1vyugV",
        "outputId": "08d910dc-59ea-4cfc-8968-a24d5f0b1451"
      },
      "source": [
        "\n",
        "# Do the same plot as above, but using a pannel\n",
        "# alpha_point = 100\n",
        "fig, ax = subplots(1, 4, sharey = True, sharex = True,\n",
        "                   figsize=(13.5, 4.5))\n",
        "ax[0].scatter(nRhat_banana - 1, err_banana,\n",
        "              alpha = 0.1, s = s_point)\n",
        "ax[1].scatter(nRhat_german - 1, err_german,\n",
        "              alpha = 0.1, s = s_point)\n",
        "ax[2].scatter(nRhat_schools - 1, err_schools,\n",
        "              alpha = 0.1, s = s_point)\n",
        "ax[3].scatter(nRhat_pk - 1, err_pk,\n",
        "             alpha = 0.1, s = s_point)\n",
        "\n",
        "for a in ax.flat:\n",
        "    if False: a.set(ylabel='Scaled squared error')\n",
        "    a.set_yscale('log')\n",
        "    a.set_xscale('log')\n",
        "    a.axvline(x = eps, linestyle = '--', color = 'orange')\n",
        "    # a.axvline(x = eps_lower, linestyle = '--', color = 'blue')\n",
        "    a.axhline(y = 1 / num_chains, color = 'black')\n",
        "    a.axhline(y = chi_up / num_chains, color = 'black', linestyle = '--')\n",
        "    a.axhline(y = chi_lo / num_chains, color = 'black', linestyle = '--')\n",
        "\n",
        "# ax[1].set(xlabel='$n \\hat R - 1$')\n",
        "\n",
        "set_title = False\n",
        "\n",
        "if set_title: \n",
        "  ax[0].set(title = \"Banana\")\n",
        "  ax[1].set(title = \"German Credit\")\n",
        "  ax[2].set(title = \"Eight Schools\")\n",
        "  ax[3].set(title = \"Pharmacokinetics\")\n",
        "\n",
        "xlim(left = 1e-5)\n",
        "plot_title = \"K = \" + str(num_super_chains)\n",
        "# plot_title = \"K =\" + str(num_super_chains) + \", M = \" +\\\n",
        "#  str(num_chains // num_super_chains) + \", N = \" + str(num_samples)\n",
        "                                            \n",
        "# title(plot_title)\n",
        "\n",
        "if False: fig.text(0.5, 0.01, \"$\\mathfrak n \\widehat R - 1$\", ha='center', va='center')\n",
        "fig.text(0.05, 0.9, plot_title)\n",
        "\n",
        "# Hide x labels and tick labels for top plots and y ticks for right plots.\n",
        "for a in ax.flat:\n",
        "    a.label_outer()\n",
        "\n",
        "filename = \"scatter_\" + \"K\" + str(num_super_chains) + \"_M\" + str(num_sub_chains) + \"_N\" + str(num_samples) + \".pdf\"\n",
        "savefig(filename)\n",
        "files.download(filename)"
      ],
      "execution_count": null,
      "outputs": [
        {
          "output_type": "display_data",
          "data": {
            "text/plain": [
              "<IPython.core.display.Javascript object>"
            ],
            "application/javascript": [
              "\n",
              "    async function download(id, filename, size) {\n",
              "      if (!google.colab.kernel.accessAllowed) {\n",
              "        return;\n",
              "      }\n",
              "      const div = document.createElement('div');\n",
              "      const label = document.createElement('label');\n",
              "      label.textContent = `Downloading \"${filename}\": `;\n",
              "      div.appendChild(label);\n",
              "      const progress = document.createElement('progress');\n",
              "      progress.max = size;\n",
              "      div.appendChild(progress);\n",
              "      document.body.appendChild(div);\n",
              "\n",
              "      const buffers = [];\n",
              "      let downloaded = 0;\n",
              "\n",
              "      const channel = await google.colab.kernel.comms.open(id);\n",
              "      // Send a message to notify the kernel that we're ready.\n",
              "      channel.send({})\n",
              "\n",
              "      for await (const message of channel.messages) {\n",
              "        // Send a message to notify the kernel that we're ready.\n",
              "        channel.send({})\n",
              "        if (message.buffers) {\n",
              "          for (const buffer of message.buffers) {\n",
              "            buffers.push(buffer);\n",
              "            downloaded += buffer.byteLength;\n",
              "            progress.value = downloaded;\n",
              "          }\n",
              "        }\n",
              "      }\n",
              "      const blob = new Blob(buffers, {type: 'application/binary'});\n",
              "      const a = document.createElement('a');\n",
              "      a.href = window.URL.createObjectURL(blob);\n",
              "      a.download = filename;\n",
              "      div.appendChild(a);\n",
              "      a.click();\n",
              "      div.remove();\n",
              "    }\n",
              "  "
            ]
          },
          "metadata": {}
        },
        {
          "output_type": "display_data",
          "data": {
            "text/plain": [
              "<IPython.core.display.Javascript object>"
            ],
            "application/javascript": [
              "download(\"download_a3bd7542-ca06-4ce4-800e-6de893e0db5c\", \"scatter_K16_M128_N1.pdf\", 392092)"
            ]
          },
          "metadata": {}
        },
        {
          "output_type": "display_data",
          "data": {
            "text/plain": [
              "<Figure size 972x324 with 4 Axes>"
            ],
            "image/png": "[encoded data removed]"
          },
          "metadata": {
            "needs_background": "light"
          }
        }
      ]
    },
    {
      "cell_type": "code",
      "source": [
        "# For a given threshold, compute a histogram of the squared error.\n",
        "eps = 1 / num_sub_chains\n",
        "err_banana_eps = err_banana[nRhat_banana <= 1 + eps]\n",
        "err_german_eps = err_german[nRhat_german <= 1 + eps]\n",
        "err_schools_eps = err_schools[nRhat_schools <= 1 + eps]\n",
        "err_pk_eps = err_pk[nRhat_pk <= 1 + eps]\n"
      ],
      "metadata": {
        "id": "N11sSwMAee4a"
      },
      "execution_count": null,
      "outputs": []
    },
    {
      "cell_type": "code",
      "source": [
        "# chi square benchmark\n",
        "err_chi2 = np.random.chisquare(df = 1, size = (100000, )) / num_chains"
      ],
      "metadata": {
        "id": "A0mbhBXblj8o"
      },
      "execution_count": null,
      "outputs": []
    },
    {
      "cell_type": "code",
      "source": [
        "fig, ax = subplots(1, 2, figsize=(13.5, 4.5))\n",
        "\n",
        "ax[0].set_xscale('log')\n",
        "ax[0].plot(epsilon[index_german:], viol_german[index_german:], label = \"German Credit\")\n",
        "ax[0].plot(epsilon[index_schools:], viol_schools[index_schools:], label = \"Eight Schools\")\n",
        "ax[0].plot(epsilon[index_pk:], viol_pk[index_pk:], label = \"Pharmacokinetics\")\n",
        "ax[0].plot(epsilon[index_banana:], viol_banana[index_banana:], label = \"Banana\")\n",
        "\n",
        "ax[0].axhline(y = 0.05, color = 'black', linestyle = '--')\n",
        "ax[0].axvline(x = eps, color = 'orange', linestyle = '--')\n",
        "if  True: ax[0].axvline(x = eps_lower, color = 'blue', linestyle = '--')\n",
        "ax[0].set_ylim(ymin=0, ymax = 0.33)\n",
        "ax[0].set_xlim(xmin=9e-4)\n",
        "\n",
        "if False: ax[0].legend()\n",
        "# if False: fig.text(0.0, 0.05, \"Fraction above the 0.95 quantile\",\n",
        "#                   rotation = \"vertical\", fontsize = 22)\n",
        "ax[0].set(title = \"Fraction above the 0.95 quantile\")\n",
        "ax[0].set(xlabel = \"$\\mathfrak n \\widehat R - 1$\")\n",
        "# if True: xlabel(\"$\\mathfrak n \\widehat R - 1$\")\n",
        "# title(\"K = \" + str(num_super_chains) + \", M = \" + str(num_sub_chains) + \", N = \" + str(num_samples))\n",
        "\n",
        "ax[1].hist(err_german_eps, histtype=\"step\", cumulative = True, density = True, bins = 200, label = 'German Credit', alpha = 0.75)\n",
        "ax[1].hist(err_schools_eps, histtype=\"step\", cumulative = True, density = True, bins = 200, label = 'Eight Schools', alpha = 0.75)\n",
        "ax[1].hist(err_pk_eps, histtype=\"step\", cumulative = True, density = True, bins = 200, label = 'Pharma.', alpha = 0.75)\n",
        "ax[1].hist(err_banana_eps, histtype=\"step\", cumulative = True, density = True, bins = 200, label = 'Banana', alpha = 0.75)\n",
        "ax[1].hist(err_chi2, histtype = \"step\", cumulative = True, density = True, bins = 2000, label = '$\\chi^2_1 / KM$', color = 'black')\n",
        "ax[1].legend(loc = \"lower right\")\n",
        "ax[1].set_xlim(left = -0.0001, right = 0.005)\n",
        "ax[1].set(title = \"Error CDF for $\\mathfrak n \\widehat R = \\sqrt{1 + 1 / M}$\")\n",
        "\n",
        "filename = \"cdf_\" + \"K\" + str(num_super_chains) + \"_M\" + str(num_sub_chains) + \"_N\" + str(num_samples) + \".pdf\"\n",
        "savefig(filename)\n",
        "files.download(filename)"
      ],
      "metadata": {
        "colab": {
          "base_uri": "https://localhost:8080/",
          "height": 363
        },
        "id": "48sxd3fWrYX5",
        "outputId": "2ec2f145-15ef-422b-b2f3-5753e3509c29"
      },
      "execution_count": null,
      "outputs": [
        {
          "output_type": "display_data",
          "data": {
            "text/plain": [
              "<IPython.core.display.Javascript object>"
            ],
            "application/javascript": [
              "\n",
              "    async function download(id, filename, size) {\n",
              "      if (!google.colab.kernel.accessAllowed) {\n",
              "        return;\n",
              "      }\n",
              "      const div = document.createElement('div');\n",
              "      const label = document.createElement('label');\n",
              "      label.textContent = `Downloading \"${filename}\": `;\n",
              "      div.appendChild(label);\n",
              "      const progress = document.createElement('progress');\n",
              "      progress.max = size;\n",
              "      div.appendChild(progress);\n",
              "      document.body.appendChild(div);\n",
              "\n",
              "      const buffers = [];\n",
              "      let downloaded = 0;\n",
              "\n",
              "      const channel = await google.colab.kernel.comms.open(id);\n",
              "      // Send a message to notify the kernel that we're ready.\n",
              "      channel.send({})\n",
              "\n",
              "      for await (const message of channel.messages) {\n",
              "        // Send a message to notify the kernel that we're ready.\n",
              "        channel.send({})\n",
              "        if (message.buffers) {\n",
              "          for (const buffer of message.buffers) {\n",
              "            buffers.push(buffer);\n",
              "            downloaded += buffer.byteLength;\n",
              "            progress.value = downloaded;\n",
              "          }\n",
              "        }\n",
              "      }\n",
              "      const blob = new Blob(buffers, {type: 'application/binary'});\n",
              "      const a = document.createElement('a');\n",
              "      a.href = window.URL.createObjectURL(blob);\n",
              "      a.download = filename;\n",
              "      div.appendChild(a);\n",
              "      a.click();\n",
              "      div.remove();\n",
              "    }\n",
              "  "
            ]
          },
          "metadata": {}
        },
        {
          "output_type": "display_data",
          "data": {
            "text/plain": [
              "<IPython.core.display.Javascript object>"
            ],
            "application/javascript": [
              "download(\"download_e9ad6d5c-ba2d-46ac-93fb-decb02756b7e\", \"cdf_K16_M128_N1.pdf\", 191145)"
            ]
          },
          "metadata": {}
        },
        {
          "output_type": "display_data",
          "data": {
            "text/plain": [
              "<Figure size 972x324 with 2 Axes>"
            ],
            "image/png": "[encoded data removed]"
          },
          "metadata": {
            "needs_background": "light"
          }
        }
      ]
    },
    {
      "cell_type": "code",
      "source": [
        "figsize=(10, 10)\n",
        "hist(err_german_eps, histtype=\"step\", cumulative = True, density = True, bins = 200, label = 'German Credit', alpha = 0.75)\n",
        "hist(err_schools_eps, histtype=\"step\", cumulative = True, density = True, bins = 200, label = 'Eight Schools', alpha = 0.75)\n",
        "hist(err_pk_eps, histtype=\"step\", cumulative = True, density = True, bins = 200, label = 'Pharma.', alpha = 0.75)\n",
        "hist(err_banana_eps, histtype=\"step\", cumulative = True, density = True, bins = 200, label = 'Banana', alpha = 0.75)\n",
        "hist(err_chi2, histtype = \"step\", cumulative = True, density = True, bins = 2000, label = '$\\chi^2_1 / KM$', color = 'black')\n",
        "legend(loc = \"lower right\")\n",
        "xlim(left = -0.0001, right = 0.005)\n",
        "# show()\n",
        "title(\"CDF\")\n",
        "xlabel(\"Scaled squared error\")\n",
        "\n",
        "filename = \"cdf_\" + \"K\" + str(num_super_chains) + \"_M\" + str(num_sub_chains) + \"_N\" + str(num_samples) + \".pdf\"\n",
        "# savefig(filename)\n",
        "# files.download(filename)"
      ],
      "metadata": {
        "colab": {
          "base_uri": "https://localhost:8080/",
          "height": 323
        },
        "id": "9B9gYBggg5CZ",
        "outputId": "d052a5c3-ffd4-4942-b74c-858f255ac402"
      },
      "execution_count": null,
      "outputs": [
        {
          "output_type": "display_data",
          "data": {
            "text/plain": [
              "<IPython.core.display.Javascript object>"
            ],
            "application/javascript": [
              "\n",
              "    async function download(id, filename, size) {\n",
              "      if (!google.colab.kernel.accessAllowed) {\n",
              "        return;\n",
              "      }\n",
              "      const div = document.createElement('div');\n",
              "      const label = document.createElement('label');\n",
              "      label.textContent = `Downloading \"${filename}\": `;\n",
              "      div.appendChild(label);\n",
              "      const progress = document.createElement('progress');\n",
              "      progress.max = size;\n",
              "      div.appendChild(progress);\n",
              "      document.body.appendChild(div);\n",
              "\n",
              "      const buffers = [];\n",
              "      let downloaded = 0;\n",
              "\n",
              "      const channel = await google.colab.kernel.comms.open(id);\n",
              "      // Send a message to notify the kernel that we're ready.\n",
              "      channel.send({})\n",
              "\n",
              "      for await (const message of channel.messages) {\n",
              "        // Send a message to notify the kernel that we're ready.\n",
              "        channel.send({})\n",
              "        if (message.buffers) {\n",
              "          for (const buffer of message.buffers) {\n",
              "            buffers.push(buffer);\n",
              "            downloaded += buffer.byteLength;\n",
              "            progress.value = downloaded;\n",
              "          }\n",
              "        }\n",
              "      }\n",
              "      const blob = new Blob(buffers, {type: 'application/binary'});\n",
              "      const a = document.createElement('a');\n",
              "      a.href = window.URL.createObjectURL(blob);\n",
              "      a.download = filename;\n",
              "      div.appendChild(a);\n",
              "      a.click();\n",
              "      div.remove();\n",
              "    }\n",
              "  "
            ]
          },
          "metadata": {}
        },
        {
          "output_type": "display_data",
          "data": {
            "text/plain": [
              "<IPython.core.display.Javascript object>"
            ],
            "application/javascript": [
              "download(\"download_aef2b1ac-aa25-4656-afc3-619f921b3652\", \"cdf_K16_M128_N1.pdf\", 107439)"
            ]
          },
          "metadata": {}
        },
        {
          "output_type": "display_data",
          "data": {
            "text/plain": [
              "<Figure size 432x288 with 1 Axes>"
            ],
            "image/png": "[encoded data removed]"
          },
          "metadata": {
            "needs_background": "light"
          }
        }
      ]
    },
    {
      "cell_type": "code",
      "source": [
        "len(err_banana_eps)"
      ],
      "metadata": {
        "colab": {
          "base_uri": "https://localhost:8080/"
        },
        "id": "KaXiwLmUf_x5",
        "outputId": "7fe3fd02-c8f4-44a4-e837-d564d2c3c409"
      },
      "execution_count": null,
      "outputs": [
        {
          "output_type": "execute_result",
          "data": {
            "text/plain": [
              "537"
            ]
          },
          "metadata": {},
          "execution_count": 35
        }
      ]
    },
    {
      "cell_type": "markdown",
      "metadata": {
        "id": "de7RXZNHfIaJ"
      },
      "source": [
        "# Draft code"
      ]
    },
    {
      "cell_type": "code",
      "metadata": {
        "id": "P_Z9DLh92QWy"
      },
      "source": [
        "nRhat, _B, _W = nested_rhat(mcmc_states,\n",
        "                    num_super_chains, index_param, num_samples,\n",
        "                    warmup_length = num_warmup,\n",
        "                    state_is_list = True)"
      ],
      "execution_count": null,
      "outputs": []
    },
    {
      "cell_type": "code",
      "metadata": {
        "id": "IQnnbqosfKFu"
      },
      "source": [
        "seed = jax.random.PRNGKey(1954)\n",
        "\n",
        "initial_state = initialize((num_super_chains,), key = seed)\n",
        "initial_state = np.repeat(initial_state, num_chains // num_super_chains,\n",
        "                          axis = 0)\n",
        "\n",
        "result = tfp.mcmc.sample_chain(\n",
        "      total_samples, initial_state, kernel = kernel,\n",
        "      seed = seed)\n",
        "\n",
        "np.mean(result.all_states[num_warmup:, :, :], axis = (0, 1))\n",
        "# np.var(result.all_states[num_warmup:, :, :], axis = (0, 1))"
      ],
      "execution_count": null,
      "outputs": []
    },
    {
      "cell_type": "code",
      "metadata": {
        "id": "oIST_uNrdkmH"
      },
      "source": [
        "# Examine B and W\n",
        "B_rescale = B_list / (2 * (nRhat_upper - 1))\n",
        "fig = figure(figsize = (6, 2))\n",
        "ax = fig.add_axes([0, 0, 1, 1])\n",
        "plot_data = [B_rescale[:, 0], W_list[:, 0]]\n",
        "ax.boxplot(plot_data, vert = 1)\n",
        "ax.set_xticklabels(['B_rescale[0]', 'W[0]'])\n",
        "axhline(y = var_est[0], linestyle = '--', linewidth = 0.5,\n",
        "        label = \"x = 1\")\n",
        "show()\n",
        "\n",
        "initial_state = initialize((num_super_chains,), key = jax.random.PRNGKey(1954))\n",
        "initial_state = np.repeat(initial_state, num_chains // num_super_chains,\n",
        "                          axis = 0)\n",
        "\n",
        "result = tfp.mcmc.sample_chain(\n",
        "      total_samples, initial_state, kernel = kernel,\n",
        "      seed = jax.random.PRNGKey(1954))\n",
        "\n",
        "num_sub_chains = num_chains // num_super_chains\n",
        "state_param = result.all_states[:, :, 0].reshape(total_samples, -1, num_sub_chains, 1)\n",
        "mean_super_chain = np.mean(state_param, axis = (2, 3))\n",
        "plot(mean_super_chain)\n",
        "show()\n",
        "\n",
        "B = np.var(mean_super_chain, axis = 1)\n",
        "plot(B)\n",
        "show()"
      ],
      "execution_count": null,
      "outputs": []
    },
    {
      "cell_type": "code",
      "metadata": {
        "id": "PxAoz7DgazBt"
      },
      "source": [
        "# Draft\n",
        "result, num_windows = forge_chain(kernel_cold = kernel_cold,\n",
        "                                  kernel_warm = kernel_warm,\n",
        "                                  initial_state = initial_state,\n",
        "                                  num_super_chains = num_super_chains,\n",
        "                                  num_warmup = warmup_window,\n",
        "                                  num_samples = num_samples,\n",
        "                                  target_rhat = nRhat_upper,\n",
        "                                  max_num_steps = 1000 // warmup_window,\n",
        "                                  index_param = index_param,\n",
        "                                  seed = seed)"
      ],
      "execution_count": null,
      "outputs": []
    },
    {
      "cell_type": "markdown",
      "metadata": {
        "id": "HfoX4rFyqYnB"
      },
      "source": [
        "# Theory (draft)"
      ]
    },
    {
      "cell_type": "markdown",
      "metadata": {
        "id": "ixjgpVHTpmZC"
      },
      "source": [
        "### Example A (Incomplete exploration)"
      ]
    },
    {
      "cell_type": "code",
      "metadata": {
        "id": "-eP41AMCp3Ky"
      },
      "source": [
        "a = np.array(range(4, 1024, 4))\n",
        "d = np.repeat(6., len(a))\n",
        "\n",
        "# Two optimization solutions, solving quadratic equations (+ / -)\n",
        "# Remark: + solution gives a negative upper-bound for delta_u\n",
        "alpha_1 = 2 * a + d / 2 - np.sqrt(np.square(2 * a + d / 2) - 2 * a)\n",
        "alpha_2 = a - alpha_1\n",
        "delta_u = (np.square(alpha_1 + d / 2) / (alpha_1 * alpha_2)) / 2\n",
        "\n",
        "eps = 0.01\n",
        "delta = np.square(1 + eps) - 1"
      ],
      "execution_count": null,
      "outputs": []
    },
    {
      "cell_type": "code",
      "metadata": {
        "id": "NU9wiZcnqOEJ"
      },
      "source": [
        "semilogy(a / d, delta_u)\n",
        "hlines(delta, (a / d)[0], (a / d)[len(a) - 1], linestyles = '--',\n",
        "      label =  \"delta for 1.01 threshold\")\n",
        "xlabel(\"a / d\")"
      ],
      "execution_count": null,
      "outputs": []
    },
    {
      "cell_type": "markdown",
      "metadata": {
        "id": "JvEzWs0apFBt"
      },
      "source": [
        "### Example B (Asymmetric binary initialization)"
      ]
    },
    {
      "cell_type": "code",
      "metadata": {
        "id": "DuFSsWrExZUr"
      },
      "source": [
        "alpha_l = 0.5  # options: 0.1, 0.5, 1.2\n",
        "alpha_r = alpha_l\n",
        "\n",
        "p =  np.arange(0., 1., 0.01)\n",
        "\n",
        "sigma_pi = 1   # variance at stationarity\n",
        "\n",
        "# upper bound on initial variance\n",
        "stationary_bound = False\n",
        "theta_0_l = 3\n",
        "theta_0_r = 3 \n",
        "\n",
        "conservative_bound = False\n",
        "if conservative_bound:\n",
        "  sigma_0 = np.power((theta_0_l + theta_0_r), 2) / 4\n",
        "else:\n",
        "  delta_L = (alpha_l / theta_0_l) * np.square(theta_0_l - alpha_l) +\\\n",
        "  (theta_0_l - alpha_l) * np.square(alpha_l)\n",
        "  delta_R = (alpha_r / theta_0_r) * np.square(theta_0_r - alpha_r) +\\\n",
        "  (theta_0_r - alpha_r) * np.square(alpha_r)\n",
        "  sigma_0 = p * delta_L + (1 - p) * delta_R\n",
        "  # sigma_u = p * delta_L + (1 - p) * delta_R\n",
        "  sigma_0 = delta_L  # (for now, assume symmetry)\n",
        "\n",
        "if stationary_bound:\n",
        "  sigma_u = sigma_pi\n",
        "else:\n",
        "  sigma_u = 2 * max(sigma_pi, sigma_0)\n",
        "\n",
        "\n",
        "p = np.arange(0, 1.01, 0.01)     # prob of initializing on the left.\n",
        "\n",
        "# Set bias for chains coming from the left and right\n",
        "alpha_l = 1.2\n",
        "alpha_r = alpha_l\n",
        "\n",
        "delta = 0.02  # Relative tolerance for squared bias"
      ],
      "execution_count": null,
      "outputs": []
    },
    {
      "cell_type": "code",
      "metadata": {
        "id": "RMsqXZcyc18Z"
      },
      "source": [
        "var_mc = p * (1 - p) * np.square(alpha_l + alpha_r)\n",
        "bias_mc_squared = np.square(-p * alpha_l + (1 - p) * alpha_r)\n",
        "\n",
        "rel_var = var_mc / sigma_u\n",
        "rel_err = (var_mc + bias_mc_squared) /sigma_pi"
      ],
      "execution_count": null,
      "outputs": []
    },
    {
      "cell_type": "code",
      "metadata": {
        "id": "xVkg-J800gt1"
      },
      "source": [
        "plot(p, var_mc + bias_mc_squared, label = \"squared error\")\n",
        "plot(p, var_mc, label = \"var_super\")\n",
        "legend(loc = \"best\")"
      ],
      "execution_count": null,
      "outputs": []
    },
    {
      "cell_type": "code",
      "metadata": {
        "id": "KxaOMnRF1b1x"
      },
      "source": [
        "plot(p, rel_err, label = \"rel_err\")\n",
        "plot(p, rel_var, label = \"rel_var\")\n",
        "hlines(delta, 0, 1, linestyles = \"--\", label = \"delta threshold\")\n",
        "legend(loc = \"best\")\n",
        "xlabel(\"p\")\n",
        "title(\"alpha = \" + str(alpha_l))"
      ],
      "execution_count": null,
      "outputs": []
    }
  ]
}