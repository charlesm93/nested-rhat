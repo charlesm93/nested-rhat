{
 "cells": [
  {
   "cell_type": "code",
   "execution_count": 14,
   "metadata": {},
   "outputs": [],
   "source": [
    "import numpy as np\n",
    "from matplotlib.pyplot import *\n",
    "# %config InlineBackend.figure_format = 'retina'\n",
    "# matplotlib.pyplot.style.use(\"dark_background\")\n",
    "\n",
    "import jax\n",
    "from jax import random\n",
    "from jax import numpy as jnp\n",
    "\n",
    "# from colabtools import adhoc_import\n",
    "\n",
    "from inference_gym import using_jax as gym\n",
    "\n",
    "# from tensorflow_probability.spinoffs.fun_mc import using_jax as fun_mcmc\n",
    "from fun_mc import using_jax as fun_mcmc\n",
    "\n",
    "\n",
    "# import tensorflow as tf\n",
    "from tensorflow_probability.python.internal import prefer_static as ps\n",
    "from tensorflow_probability.python.internal import unnest\n",
    "\n",
    "\n",
    "import tensorflow_probability as _tfp\n",
    "tfp = _tfp.substrates.jax\n",
    "tfd = tfp.distributions\n",
    "tfb = tfp.bijectors\n",
    "\n",
    "tfp_np = _tfp.substrates.numpy\n",
    "tfd_np = tfp_np.distributions "
   ]
  },
  {
   "cell_type": "code",
   "execution_count": 15,
   "metadata": {},
   "outputs": [],
   "source": [
    "with open(\"utility.py\") as f:\n",
    "    exec(f.read())\n"
   ]
  },
  {
   "cell_type": "code",
   "execution_count": 16,
   "metadata": {},
   "outputs": [],
   "source": [
    "import matplotlib.pyplot as plt\n",
    "\n",
    "# set font size for matplot lib\n",
    "font = {'family': 'normal',\n",
    "        'weight': 'bold',\n",
    "        'size': 20}\n",
    "\n",
    "matplotlib.rc('font', **font)\n",
    "\n",
    "# Allows figures to rend latex\n",
    "rc('text', usetex=True)\n",
    "rc('text.latex', preamble=r'\\usepackage{amsmath} \\usepackage{amsfonts}')\n"
   ]
  },
  {
   "attachments": {},
   "cell_type": "markdown",
   "metadata": {},
   "source": [
    "## Setup problem"
   ]
  },
  {
   "cell_type": "code",
   "execution_count": 19,
   "metadata": {},
   "outputs": [
    {
     "name": "stderr",
     "output_type": "stream",
     "text": [
      "2023-12-15 14:48:49.108375: E external/xla/xla/stream_executor/cuda/cuda_dnn.cc:407] There was an error before creating cudnn handle (302): cudaGetErrorName symbol not found. : cudaGetErrorString symbol not found.\n"
     ]
    },
    {
     "ename": "XlaRuntimeError",
     "evalue": "FAILED_PRECONDITION: DNN library initialization failed. Look at the errors above for more details.",
     "output_type": "error",
     "traceback": [
      "\u001b[0;31m---------------------------------------------------------------------------\u001b[0m",
      "\u001b[0;31mXlaRuntimeError\u001b[0m                           Traceback (most recent call last)",
      "\u001b[1;32m/mnt/home/cmargossian/Code/nested-rhat/rosenbrok_example.ipynb Cell 5\u001b[0m in \u001b[0;36m4\n\u001b[1;32m      <a href='vscode-notebook-cell:/mnt/home/cmargossian/Code/nested-rhat/rosenbrok_example.ipynb#W3sZmlsZQ%3D%3D?line=0'>1</a>\u001b[0m problem_name \u001b[39m=\u001b[39m \u001b[39m'\u001b[39m\u001b[39mBananas\u001b[39m\u001b[39m'\u001b[39m\n\u001b[1;32m      <a href='vscode-notebook-cell:/mnt/home/cmargossian/Code/nested-rhat/rosenbrok_example.ipynb#W3sZmlsZQ%3D%3D?line=2'>3</a>\u001b[0m \u001b[39mif\u001b[39;00m (problem_name \u001b[39m==\u001b[39m \u001b[39m'\u001b[39m\u001b[39mBananas\u001b[39m\u001b[39m'\u001b[39m):\n\u001b[0;32m----> <a href='vscode-notebook-cell:/mnt/home/cmargossian/Code/nested-rhat/rosenbrok_example.ipynb#W3sZmlsZQ%3D%3D?line=3'>4</a>\u001b[0m   target \u001b[39m=\u001b[39m gym\u001b[39m.\u001b[39mtargets\u001b[39m.\u001b[39mVectorModel(gym\u001b[39m.\u001b[39mtargets\u001b[39m.\u001b[39mBanana(),\n\u001b[1;32m      <a href='vscode-notebook-cell:/mnt/home/cmargossian/Code/nested-rhat/rosenbrok_example.ipynb#W3sZmlsZQ%3D%3D?line=4'>5</a>\u001b[0m                                     flatten_sample_transformations\u001b[39m=\u001b[39m\u001b[39mTrue\u001b[39;00m)\n\u001b[1;32m      <a href='vscode-notebook-cell:/mnt/home/cmargossian/Code/nested-rhat/rosenbrok_example.ipynb#W3sZmlsZQ%3D%3D?line=5'>6</a>\u001b[0m   num_dimensions \u001b[39m=\u001b[39m target\u001b[39m.\u001b[39mevent_shape[\u001b[39m0\u001b[39m]  \n\u001b[1;32m      <a href='vscode-notebook-cell:/mnt/home/cmargossian/Code/nested-rhat/rosenbrok_example.ipynb#W3sZmlsZQ%3D%3D?line=6'>7</a>\u001b[0m   init_step_size \u001b[39m=\u001b[39m \u001b[39m1.\u001b[39m\n",
      "File \u001b[0;32m~/Code/nested-rhat/inference_gym/targets/banana.py:99\u001b[0m, in \u001b[0;36mBanana.__init__\u001b[0;34m(self, ndims, curvature, name, pretty_name)\u001b[0m\n\u001b[1;32m     88\u001b[0m   shift \u001b[39m=\u001b[39m tf\u001b[39m.\u001b[39mconcat(\n\u001b[1;32m     89\u001b[0m       [\n\u001b[1;32m     90\u001b[0m           tf\u001b[39m.\u001b[39mzeros(ps\u001b[39m.\u001b[39mconcat([batch_shape, [\u001b[39m1\u001b[39m]], axis\u001b[39m=\u001b[39m\u001b[39m0\u001b[39m)),\n\u001b[0;32m   (...)\u001b[0m\n\u001b[1;32m     94\u001b[0m       axis\u001b[39m=\u001b[39m\u001b[39m-\u001b[39m\u001b[39m1\u001b[39m,\n\u001b[1;32m     95\u001b[0m   )\n\u001b[1;32m     96\u001b[0m   \u001b[39mreturn\u001b[39;00m tfb\u001b[39m.\u001b[39mShift(shift)\n\u001b[1;32m     98\u001b[0m mg \u001b[39m=\u001b[39m tfd\u001b[39m.\u001b[39mMultivariateNormalDiag(\n\u001b[0;32m---> 99\u001b[0m     loc\u001b[39m=\u001b[39mtf\u001b[39m.\u001b[39;49mzeros(ndims), scale_diag\u001b[39m=\u001b[39m[\u001b[39m10.\u001b[39m] \u001b[39m+\u001b[39m [\u001b[39m1.\u001b[39m] \u001b[39m*\u001b[39m (ndims \u001b[39m-\u001b[39m \u001b[39m1\u001b[39m))\n\u001b[1;32m    100\u001b[0m banana \u001b[39m=\u001b[39m tfd\u001b[39m.\u001b[39mTransformedDistribution(\n\u001b[1;32m    101\u001b[0m     mg, bijector\u001b[39m=\u001b[39mtfb\u001b[39m.\u001b[39mMaskedAutoregressiveFlow(bijector_fn\u001b[39m=\u001b[39mbijector_fn))\n\u001b[1;32m    103\u001b[0m sample_transformations \u001b[39m=\u001b[39m {\n\u001b[1;32m    104\u001b[0m     \u001b[39m'\u001b[39m\u001b[39midentity\u001b[39m\u001b[39m'\u001b[39m:\n\u001b[1;32m    105\u001b[0m         model\u001b[39m.\u001b[39mModel\u001b[39m.\u001b[39mSampleTransformation(\n\u001b[0;32m   (...)\u001b[0m\n\u001b[1;32m    118\u001b[0m         )\n\u001b[1;32m    119\u001b[0m }\n",
      "File \u001b[0;32m~/Code/nested-rhat/virenv/nRhatVirenv/lib/python3.9/site-packages/tensorflow_probability/python/internal/backend/jax/_utils.py:62\u001b[0m, in \u001b[0;36mcopy_docstring.<locals>.wrap\u001b[0;34m(***failed resolving arguments***)\u001b[0m\n\u001b[1;32m     59\u001b[0m \u001b[39m@wrapt\u001b[39m\u001b[39m.\u001b[39mdecorator\n\u001b[1;32m     60\u001b[0m \u001b[39mdef\u001b[39;00m \u001b[39mwrap\u001b[39m(wrapped, instance, args, kwargs):\n\u001b[1;32m     61\u001b[0m   \u001b[39mdel\u001b[39;00m instance, wrapped\n\u001b[0;32m---> 62\u001b[0m   \u001b[39mreturn\u001b[39;00m new_fn(\u001b[39m*\u001b[39;49margs, \u001b[39m*\u001b[39;49m\u001b[39m*\u001b[39;49mkwargs)\n",
      "File \u001b[0;32m~/Code/nested-rhat/virenv/nRhatVirenv/lib/python3.9/site-packages/tensorflow_probability/python/internal/backend/jax/numpy_array.py:532\u001b[0m, in \u001b[0;36m<lambda>\u001b[0;34m(shape, dtype, name, layout)\u001b[0m\n\u001b[1;32m    522\u001b[0m unstack \u001b[39m=\u001b[39m utils\u001b[39m.\u001b[39mcopy_docstring(\n\u001b[1;32m    523\u001b[0m     \u001b[39m'\u001b[39m\u001b[39mtf.unstack\u001b[39m\u001b[39m'\u001b[39m,\n\u001b[1;32m    524\u001b[0m     _unstack)\n\u001b[1;32m    526\u001b[0m where \u001b[39m=\u001b[39m utils\u001b[39m.\u001b[39mcopy_docstring(\n\u001b[1;32m    527\u001b[0m     \u001b[39m'\u001b[39m\u001b[39mtf.where\u001b[39m\u001b[39m'\u001b[39m,\n\u001b[1;32m    528\u001b[0m     _where)\n\u001b[1;32m    530\u001b[0m zeros \u001b[39m=\u001b[39m utils\u001b[39m.\u001b[39mcopy_docstring(\n\u001b[1;32m    531\u001b[0m     \u001b[39m'\u001b[39m\u001b[39mtf.zeros\u001b[39m\u001b[39m'\u001b[39m,\n\u001b[0;32m--> 532\u001b[0m     \u001b[39mlambda\u001b[39;00m shape, dtype\u001b[39m=\u001b[39mnp\u001b[39m.\u001b[39mfloat32, name\u001b[39m=\u001b[39m\u001b[39mNone\u001b[39;00m, layout\u001b[39m=\u001b[39m\u001b[39mNone\u001b[39;00m: np\u001b[39m.\u001b[39;49mzeros(  \u001b[39m# pylint: disable=g-long-lambda\u001b[39;49;00m\n\u001b[1;32m    533\u001b[0m         shape, utils\u001b[39m.\u001b[39;49mnumpy_dtype(dtype)\n\u001b[1;32m    534\u001b[0m     ),\n\u001b[1;32m    535\u001b[0m )\n\u001b[1;32m    537\u001b[0m zeros_like \u001b[39m=\u001b[39m utils\u001b[39m.\u001b[39mcopy_docstring(\n\u001b[1;32m    538\u001b[0m     \u001b[39m'\u001b[39m\u001b[39mtf.zeros_like\u001b[39m\u001b[39m'\u001b[39m,\n\u001b[1;32m    539\u001b[0m     _zeros_like,\n\u001b[1;32m    540\u001b[0m )\n",
      "File \u001b[0;32m~/Code/nested-rhat/virenv/nRhatVirenv/lib/python3.9/site-packages/jax/_src/numpy/lax_numpy.py:2153\u001b[0m, in \u001b[0;36mzeros\u001b[0;34m(shape, dtype)\u001b[0m\n\u001b[1;32m   2151\u001b[0m dtypes\u001b[39m.\u001b[39mcheck_user_dtype_supported(dtype, \u001b[39m\"\u001b[39m\u001b[39mzeros\u001b[39m\u001b[39m\"\u001b[39m)\n\u001b[1;32m   2152\u001b[0m shape \u001b[39m=\u001b[39m canonicalize_shape(shape)\n\u001b[0;32m-> 2153\u001b[0m \u001b[39mreturn\u001b[39;00m lax\u001b[39m.\u001b[39;49mfull(shape, \u001b[39m0\u001b[39;49m, _jnp_dtype(dtype))\n",
      "File \u001b[0;32m~/Code/nested-rhat/virenv/nRhatVirenv/lib/python3.9/site-packages/jax/_src/lax/lax.py:1206\u001b[0m, in \u001b[0;36mfull\u001b[0;34m(shape, fill_value, dtype)\u001b[0m\n\u001b[1;32m   1204\u001b[0m dtype \u001b[39m=\u001b[39m dtypes\u001b[39m.\u001b[39mcanonicalize_dtype(dtype \u001b[39mor\u001b[39;00m _dtype(fill_value))\n\u001b[1;32m   1205\u001b[0m fill_value \u001b[39m=\u001b[39m _convert_element_type(fill_value, dtype, weak_type)\n\u001b[0;32m-> 1206\u001b[0m \u001b[39mreturn\u001b[39;00m broadcast(fill_value, shape)\n",
      "File \u001b[0;32m~/Code/nested-rhat/virenv/nRhatVirenv/lib/python3.9/site-packages/jax/_src/lax/lax.py:768\u001b[0m, in \u001b[0;36mbroadcast\u001b[0;34m(operand, sizes)\u001b[0m\n\u001b[1;32m    754\u001b[0m \u001b[39m\"\"\"Broadcasts an array, adding new leading dimensions\u001b[39;00m\n\u001b[1;32m    755\u001b[0m \n\u001b[1;32m    756\u001b[0m \u001b[39mArgs:\u001b[39;00m\n\u001b[0;32m   (...)\u001b[0m\n\u001b[1;32m    765\u001b[0m \u001b[39m  jax.lax.broadcast_in_dim : add new dimensions at any location in the array shape.\u001b[39;00m\n\u001b[1;32m    766\u001b[0m \u001b[39m\"\"\"\u001b[39;00m\n\u001b[1;32m    767\u001b[0m dims \u001b[39m=\u001b[39m \u001b[39mtuple\u001b[39m(\u001b[39mrange\u001b[39m(\u001b[39mlen\u001b[39m(sizes), \u001b[39mlen\u001b[39m(sizes) \u001b[39m+\u001b[39m np\u001b[39m.\u001b[39mndim(operand)))\n\u001b[0;32m--> 768\u001b[0m \u001b[39mreturn\u001b[39;00m broadcast_in_dim(operand, \u001b[39mtuple\u001b[39;49m(sizes) \u001b[39m+\u001b[39;49m np\u001b[39m.\u001b[39;49mshape(operand), dims)\n",
      "File \u001b[0;32m~/Code/nested-rhat/virenv/nRhatVirenv/lib/python3.9/site-packages/jax/_src/lax/lax.py:797\u001b[0m, in \u001b[0;36mbroadcast_in_dim\u001b[0;34m(operand, shape, broadcast_dimensions)\u001b[0m\n\u001b[1;32m    795\u001b[0m \u001b[39melse\u001b[39;00m:\n\u001b[1;32m    796\u001b[0m   dyn_shape, static_shape \u001b[39m=\u001b[39m [], shape  \u001b[39m# type: ignore\u001b[39;00m\n\u001b[0;32m--> 797\u001b[0m \u001b[39mreturn\u001b[39;00m broadcast_in_dim_p\u001b[39m.\u001b[39;49mbind(\n\u001b[1;32m    798\u001b[0m     operand, \u001b[39m*\u001b[39;49mdyn_shape, shape\u001b[39m=\u001b[39;49m\u001b[39mtuple\u001b[39;49m(static_shape),\n\u001b[1;32m    799\u001b[0m     broadcast_dimensions\u001b[39m=\u001b[39;49m\u001b[39mtuple\u001b[39;49m(broadcast_dimensions))\n",
      "File \u001b[0;32m~/Code/nested-rhat/virenv/nRhatVirenv/lib/python3.9/site-packages/jax/_src/core.py:380\u001b[0m, in \u001b[0;36mPrimitive.bind\u001b[0;34m(self, *args, **params)\u001b[0m\n\u001b[1;32m    377\u001b[0m \u001b[39mdef\u001b[39;00m \u001b[39mbind\u001b[39m(\u001b[39mself\u001b[39m, \u001b[39m*\u001b[39margs, \u001b[39m*\u001b[39m\u001b[39m*\u001b[39mparams):\n\u001b[1;32m    378\u001b[0m   \u001b[39massert\u001b[39;00m (\u001b[39mnot\u001b[39;00m config\u001b[39m.\u001b[39mjax_enable_checks \u001b[39mor\u001b[39;00m\n\u001b[1;32m    379\u001b[0m           \u001b[39mall\u001b[39m(\u001b[39misinstance\u001b[39m(arg, Tracer) \u001b[39mor\u001b[39;00m valid_jaxtype(arg) \u001b[39mfor\u001b[39;00m arg \u001b[39min\u001b[39;00m args)), args\n\u001b[0;32m--> 380\u001b[0m   \u001b[39mreturn\u001b[39;00m \u001b[39mself\u001b[39;49m\u001b[39m.\u001b[39;49mbind_with_trace(find_top_trace(args), args, params)\n",
      "File \u001b[0;32m~/Code/nested-rhat/virenv/nRhatVirenv/lib/python3.9/site-packages/jax/_src/core.py:383\u001b[0m, in \u001b[0;36mPrimitive.bind_with_trace\u001b[0;34m(self, trace, args, params)\u001b[0m\n\u001b[1;32m    382\u001b[0m \u001b[39mdef\u001b[39;00m \u001b[39mbind_with_trace\u001b[39m(\u001b[39mself\u001b[39m, trace, args, params):\n\u001b[0;32m--> 383\u001b[0m   out \u001b[39m=\u001b[39m trace\u001b[39m.\u001b[39;49mprocess_primitive(\u001b[39mself\u001b[39;49m, \u001b[39mmap\u001b[39;49m(trace\u001b[39m.\u001b[39;49mfull_raise, args), params)\n\u001b[1;32m    384\u001b[0m   \u001b[39mreturn\u001b[39;00m \u001b[39mmap\u001b[39m(full_lower, out) \u001b[39mif\u001b[39;00m \u001b[39mself\u001b[39m\u001b[39m.\u001b[39mmultiple_results \u001b[39melse\u001b[39;00m full_lower(out)\n",
      "File \u001b[0;32m~/Code/nested-rhat/virenv/nRhatVirenv/lib/python3.9/site-packages/jax/_src/core.py:815\u001b[0m, in \u001b[0;36mEvalTrace.process_primitive\u001b[0;34m(self, primitive, tracers, params)\u001b[0m\n\u001b[1;32m    814\u001b[0m \u001b[39mdef\u001b[39;00m \u001b[39mprocess_primitive\u001b[39m(\u001b[39mself\u001b[39m, primitive, tracers, params):\n\u001b[0;32m--> 815\u001b[0m   \u001b[39mreturn\u001b[39;00m primitive\u001b[39m.\u001b[39;49mimpl(\u001b[39m*\u001b[39;49mtracers, \u001b[39m*\u001b[39;49m\u001b[39m*\u001b[39;49mparams)\n",
      "File \u001b[0;32m~/Code/nested-rhat/virenv/nRhatVirenv/lib/python3.9/site-packages/jax/_src/dispatch.py:132\u001b[0m, in \u001b[0;36mapply_primitive\u001b[0;34m(prim, *args, **params)\u001b[0m\n\u001b[1;32m    130\u001b[0m \u001b[39mtry\u001b[39;00m:\n\u001b[1;32m    131\u001b[0m   in_avals, in_shardings \u001b[39m=\u001b[39m util\u001b[39m.\u001b[39munzip2([arg_spec(a) \u001b[39mfor\u001b[39;00m a \u001b[39min\u001b[39;00m args])\n\u001b[0;32m--> 132\u001b[0m   compiled_fun \u001b[39m=\u001b[39m xla_primitive_callable(\n\u001b[1;32m    133\u001b[0m       prim, in_avals, OrigShardings(in_shardings), \u001b[39m*\u001b[39;49m\u001b[39m*\u001b[39;49mparams)\n\u001b[1;32m    134\u001b[0m \u001b[39mexcept\u001b[39;00m pxla\u001b[39m.\u001b[39mDeviceAssignmentMismatchError \u001b[39mas\u001b[39;00m e:\n\u001b[1;32m    135\u001b[0m   fails, \u001b[39m=\u001b[39m e\u001b[39m.\u001b[39margs\n",
      "File \u001b[0;32m~/Code/nested-rhat/virenv/nRhatVirenv/lib/python3.9/site-packages/jax/_src/util.py:284\u001b[0m, in \u001b[0;36mcache.<locals>.wrap.<locals>.wrapper\u001b[0;34m(*args, **kwargs)\u001b[0m\n\u001b[1;32m    282\u001b[0m   \u001b[39mreturn\u001b[39;00m f(\u001b[39m*\u001b[39margs, \u001b[39m*\u001b[39m\u001b[39m*\u001b[39mkwargs)\n\u001b[1;32m    283\u001b[0m \u001b[39melse\u001b[39;00m:\n\u001b[0;32m--> 284\u001b[0m   \u001b[39mreturn\u001b[39;00m cached(config\u001b[39m.\u001b[39;49m_trace_context(), \u001b[39m*\u001b[39;49margs, \u001b[39m*\u001b[39;49m\u001b[39m*\u001b[39;49mkwargs)\n",
      "File \u001b[0;32m~/Code/nested-rhat/virenv/nRhatVirenv/lib/python3.9/site-packages/jax/_src/util.py:277\u001b[0m, in \u001b[0;36mcache.<locals>.wrap.<locals>.cached\u001b[0;34m(_, *args, **kwargs)\u001b[0m\n\u001b[1;32m    275\u001b[0m \u001b[39m@functools\u001b[39m\u001b[39m.\u001b[39mlru_cache(max_size)\n\u001b[1;32m    276\u001b[0m \u001b[39mdef\u001b[39;00m \u001b[39mcached\u001b[39m(_, \u001b[39m*\u001b[39margs, \u001b[39m*\u001b[39m\u001b[39m*\u001b[39mkwargs):\n\u001b[0;32m--> 277\u001b[0m   \u001b[39mreturn\u001b[39;00m f(\u001b[39m*\u001b[39;49margs, \u001b[39m*\u001b[39;49m\u001b[39m*\u001b[39;49mkwargs)\n",
      "File \u001b[0;32m~/Code/nested-rhat/virenv/nRhatVirenv/lib/python3.9/site-packages/jax/_src/dispatch.py:223\u001b[0m, in \u001b[0;36mxla_primitive_callable\u001b[0;34m(prim, in_avals, orig_in_shardings, **params)\u001b[0m\n\u001b[1;32m    221\u001b[0m     \u001b[39mreturn\u001b[39;00m out,\n\u001b[1;32m    222\u001b[0m donated_invars \u001b[39m=\u001b[39m (\u001b[39mFalse\u001b[39;00m,) \u001b[39m*\u001b[39m \u001b[39mlen\u001b[39m(in_avals)\n\u001b[0;32m--> 223\u001b[0m compiled \u001b[39m=\u001b[39m _xla_callable_uncached(\n\u001b[1;32m    224\u001b[0m     lu\u001b[39m.\u001b[39;49mwrap_init(prim_fun), prim\u001b[39m.\u001b[39;49mname, donated_invars, \u001b[39mFalse\u001b[39;49;00m, in_avals,\n\u001b[1;32m    225\u001b[0m     orig_in_shardings)\n\u001b[1;32m    226\u001b[0m \u001b[39mif\u001b[39;00m \u001b[39mnot\u001b[39;00m prim\u001b[39m.\u001b[39mmultiple_results:\n\u001b[1;32m    227\u001b[0m   \u001b[39mreturn\u001b[39;00m \u001b[39mlambda\u001b[39;00m \u001b[39m*\u001b[39margs, \u001b[39m*\u001b[39m\u001b[39m*\u001b[39mkw: compiled(\u001b[39m*\u001b[39margs, \u001b[39m*\u001b[39m\u001b[39m*\u001b[39mkw)[\u001b[39m0\u001b[39m]\n",
      "File \u001b[0;32m~/Code/nested-rhat/virenv/nRhatVirenv/lib/python3.9/site-packages/jax/_src/dispatch.py:253\u001b[0m, in \u001b[0;36m_xla_callable_uncached\u001b[0;34m(fun, name, donated_invars, keep_unused, in_avals, orig_in_shardings)\u001b[0m\n\u001b[1;32m    248\u001b[0m \u001b[39mdef\u001b[39;00m \u001b[39m_xla_callable_uncached\u001b[39m(fun: lu\u001b[39m.\u001b[39mWrappedFun, name, donated_invars,\n\u001b[1;32m    249\u001b[0m                            keep_unused, in_avals, orig_in_shardings):\n\u001b[1;32m    250\u001b[0m   computation \u001b[39m=\u001b[39m sharded_lowering(\n\u001b[1;32m    251\u001b[0m       fun, name, donated_invars, keep_unused, \u001b[39mTrue\u001b[39;00m, in_avals, orig_in_shardings,\n\u001b[1;32m    252\u001b[0m       lowering_platform\u001b[39m=\u001b[39m\u001b[39mNone\u001b[39;00m)\n\u001b[0;32m--> 253\u001b[0m   \u001b[39mreturn\u001b[39;00m computation\u001b[39m.\u001b[39;49mcompile()\u001b[39m.\u001b[39munsafe_call\n",
      "File \u001b[0;32m~/Code/nested-rhat/virenv/nRhatVirenv/lib/python3.9/site-packages/jax/_src/interpreters/pxla.py:2323\u001b[0m, in \u001b[0;36mMeshComputation.compile\u001b[0;34m(self, compiler_options)\u001b[0m\n\u001b[1;32m   2320\u001b[0m   executable \u001b[39m=\u001b[39m MeshExecutable\u001b[39m.\u001b[39mfrom_trivial_jaxpr(\n\u001b[1;32m   2321\u001b[0m       \u001b[39m*\u001b[39m\u001b[39m*\u001b[39m\u001b[39mself\u001b[39m\u001b[39m.\u001b[39mcompile_args)\n\u001b[1;32m   2322\u001b[0m \u001b[39melse\u001b[39;00m:\n\u001b[0;32m-> 2323\u001b[0m   executable \u001b[39m=\u001b[39m UnloadedMeshExecutable\u001b[39m.\u001b[39;49mfrom_hlo(\n\u001b[1;32m   2324\u001b[0m       \u001b[39mself\u001b[39;49m\u001b[39m.\u001b[39;49m_name,\n\u001b[1;32m   2325\u001b[0m       \u001b[39mself\u001b[39;49m\u001b[39m.\u001b[39;49m_hlo,\n\u001b[1;32m   2326\u001b[0m       \u001b[39m*\u001b[39;49m\u001b[39m*\u001b[39;49m\u001b[39mself\u001b[39;49m\u001b[39m.\u001b[39;49mcompile_args,\n\u001b[1;32m   2327\u001b[0m       compiler_options\u001b[39m=\u001b[39;49mcompiler_options)\n\u001b[1;32m   2328\u001b[0m \u001b[39mif\u001b[39;00m compiler_options \u001b[39mis\u001b[39;00m \u001b[39mNone\u001b[39;00m:\n\u001b[1;32m   2329\u001b[0m   \u001b[39mself\u001b[39m\u001b[39m.\u001b[39m_executable \u001b[39m=\u001b[39m executable\n",
      "File \u001b[0;32m~/Code/nested-rhat/virenv/nRhatVirenv/lib/python3.9/site-packages/jax/_src/interpreters/pxla.py:2645\u001b[0m, in \u001b[0;36mUnloadedMeshExecutable.from_hlo\u001b[0;34m(***failed resolving arguments***)\u001b[0m\n\u001b[1;32m   2642\u001b[0m       mesh \u001b[39m=\u001b[39m i\u001b[39m.\u001b[39mmesh  \u001b[39m# type: ignore\u001b[39;00m\n\u001b[1;32m   2643\u001b[0m       \u001b[39mbreak\u001b[39;00m\n\u001b[0;32m-> 2645\u001b[0m xla_executable, compile_options \u001b[39m=\u001b[39m _cached_compilation(\n\u001b[1;32m   2646\u001b[0m     hlo, name, mesh, spmd_lowering,\n\u001b[1;32m   2647\u001b[0m     tuple_args, auto_spmd_lowering, allow_prop_to_outputs,\n\u001b[1;32m   2648\u001b[0m     \u001b[39mtuple\u001b[39;49m(host_callbacks), backend, da, pmap_nreps,\n\u001b[1;32m   2649\u001b[0m     compiler_options_keys, compiler_options_values)\n\u001b[1;32m   2651\u001b[0m \u001b[39mif\u001b[39;00m \u001b[39mhasattr\u001b[39m(backend, \u001b[39m\"\u001b[39m\u001b[39mcompile_replicated\u001b[39m\u001b[39m\"\u001b[39m):\n\u001b[1;32m   2652\u001b[0m   semantics_in_shardings \u001b[39m=\u001b[39m SemanticallyEqualShardings(in_shardings)  \u001b[39m# type: ignore\u001b[39;00m\n",
      "File \u001b[0;32m~/Code/nested-rhat/virenv/nRhatVirenv/lib/python3.9/site-packages/jax/_src/interpreters/pxla.py:2555\u001b[0m, in \u001b[0;36m_cached_compilation\u001b[0;34m(computation, name, mesh, spmd_lowering, tuple_args, auto_spmd_lowering, _allow_propagation_to_outputs, host_callbacks, backend, da, pmap_nreps, compiler_options_keys, compiler_options_values)\u001b[0m\n\u001b[1;32m   2550\u001b[0m   \u001b[39mreturn\u001b[39;00m \u001b[39mNone\u001b[39;00m, compile_options\n\u001b[1;32m   2552\u001b[0m \u001b[39mwith\u001b[39;00m dispatch\u001b[39m.\u001b[39mlog_elapsed_time(\n\u001b[1;32m   2553\u001b[0m     \u001b[39m\"\u001b[39m\u001b[39mFinished XLA compilation of \u001b[39m\u001b[39m{fun_name}\u001b[39;00m\u001b[39m in \u001b[39m\u001b[39m{elapsed_time}\u001b[39;00m\u001b[39m sec\u001b[39m\u001b[39m\"\u001b[39m,\n\u001b[1;32m   2554\u001b[0m     fun_name\u001b[39m=\u001b[39mname, event\u001b[39m=\u001b[39mdispatch\u001b[39m.\u001b[39mBACKEND_COMPILE_EVENT):\n\u001b[0;32m-> 2555\u001b[0m   xla_executable \u001b[39m=\u001b[39m dispatch\u001b[39m.\u001b[39;49mcompile_or_get_cached(\n\u001b[1;32m   2556\u001b[0m       backend, computation, dev, compile_options, host_callbacks)\n\u001b[1;32m   2557\u001b[0m \u001b[39mreturn\u001b[39;00m xla_executable, compile_options\n",
      "File \u001b[0;32m~/Code/nested-rhat/virenv/nRhatVirenv/lib/python3.9/site-packages/jax/_src/dispatch.py:497\u001b[0m, in \u001b[0;36mcompile_or_get_cached\u001b[0;34m(backend, computation, devices, compile_options, host_callbacks)\u001b[0m\n\u001b[1;32m    493\u001b[0m use_compilation_cache \u001b[39m=\u001b[39m (compilation_cache\u001b[39m.\u001b[39mis_initialized() \u001b[39mand\u001b[39;00m\n\u001b[1;32m    494\u001b[0m                          backend\u001b[39m.\u001b[39mplatform \u001b[39min\u001b[39;00m supported_platforms)\n\u001b[1;32m    496\u001b[0m \u001b[39mif\u001b[39;00m \u001b[39mnot\u001b[39;00m use_compilation_cache:\n\u001b[0;32m--> 497\u001b[0m   \u001b[39mreturn\u001b[39;00m backend_compile(backend, computation, compile_options,\n\u001b[1;32m    498\u001b[0m                          host_callbacks)\n\u001b[1;32m    500\u001b[0m cache_key \u001b[39m=\u001b[39m compilation_cache\u001b[39m.\u001b[39mget_cache_key(\n\u001b[1;32m    501\u001b[0m     computation, devices, compile_options, backend)\n\u001b[1;32m    503\u001b[0m cached_executable \u001b[39m=\u001b[39m _cache_read(module_name, cache_key, compile_options,\n\u001b[1;32m    504\u001b[0m                                 backend)\n",
      "File \u001b[0;32m~/Code/nested-rhat/virenv/nRhatVirenv/lib/python3.9/site-packages/jax/_src/profiler.py:314\u001b[0m, in \u001b[0;36mannotate_function.<locals>.wrapper\u001b[0;34m(*args, **kwargs)\u001b[0m\n\u001b[1;32m    311\u001b[0m \u001b[39m@wraps\u001b[39m(func)\n\u001b[1;32m    312\u001b[0m \u001b[39mdef\u001b[39;00m \u001b[39mwrapper\u001b[39m(\u001b[39m*\u001b[39margs, \u001b[39m*\u001b[39m\u001b[39m*\u001b[39mkwargs):\n\u001b[1;32m    313\u001b[0m   \u001b[39mwith\u001b[39;00m TraceAnnotation(name, \u001b[39m*\u001b[39m\u001b[39m*\u001b[39mdecorator_kwargs):\n\u001b[0;32m--> 314\u001b[0m     \u001b[39mreturn\u001b[39;00m func(\u001b[39m*\u001b[39;49margs, \u001b[39m*\u001b[39;49m\u001b[39m*\u001b[39;49mkwargs)\n\u001b[1;32m    315\u001b[0m   \u001b[39mreturn\u001b[39;00m wrapper\n",
      "File \u001b[0;32m~/Code/nested-rhat/virenv/nRhatVirenv/lib/python3.9/site-packages/jax/_src/dispatch.py:465\u001b[0m, in \u001b[0;36mbackend_compile\u001b[0;34m(backend, module, options, host_callbacks)\u001b[0m\n\u001b[1;32m    460\u001b[0m   \u001b[39mreturn\u001b[39;00m backend\u001b[39m.\u001b[39mcompile(built_c, compile_options\u001b[39m=\u001b[39moptions,\n\u001b[1;32m    461\u001b[0m                          host_callbacks\u001b[39m=\u001b[39mhost_callbacks)\n\u001b[1;32m    462\u001b[0m \u001b[39m# Some backends don't have `host_callbacks` option yet\u001b[39;00m\n\u001b[1;32m    463\u001b[0m \u001b[39m# TODO(sharadmv): remove this fallback when all backends allow `compile`\u001b[39;00m\n\u001b[1;32m    464\u001b[0m \u001b[39m# to take in `host_callbacks`\u001b[39;00m\n\u001b[0;32m--> 465\u001b[0m \u001b[39mreturn\u001b[39;00m backend\u001b[39m.\u001b[39;49mcompile(built_c, compile_options\u001b[39m=\u001b[39;49moptions)\n",
      "\u001b[0;31mXlaRuntimeError\u001b[0m: FAILED_PRECONDITION: DNN library initialization failed. Look at the errors above for more details."
     ]
    }
   ],
   "source": [
    "problem_name = 'Bananas'\n",
    "\n",
    "if (problem_name == 'Bananas'):\n",
    "  target = gym.targets.VectorModel(gym.targets.Banana(),\n",
    "                                    flatten_sample_transformations=True)\n",
    "  num_dimensions = target.event_shape[0]  \n",
    "  init_step_size = 1.\n",
    "\n",
    "if (problem_name == 'GermanCredit'):\n",
    "  # This problem seems to require that we load TF datasets first.\n",
    "  import tensorflow_datasets\n",
    "  target = gym.targets.VectorModel(gym.targets.GermanCreditNumericSparseLogisticRegression(),\n",
    "                                    flatten_sample_transformations=True)\n",
    "  num_dimensions = target.event_shape[0]\n",
    "  init_step_size = 0.02\n",
    "\n",
    "if (problem_name == 'Brownian'):\n",
    "  target = gym.targets.BrownianMotionMissingMiddleObservations()\n",
    "  target = gym.targets.VectorModel(target,\n",
    "                                    flatten_sample_transformations = True)\n",
    "  num_dimensions = target.event_shape[0]\n",
    "  init_step_size = 0.01\n",
    "\n",
    "def target_log_prob_fn(x):\n",
    "  \"\"\"Unnormalized, unconstrained target density.\n",
    "\n",
    "  This is a thin wrapper that applies the default bijectors so that we can\n",
    "  ignore any constraints.\n",
    "  \"\"\"\n",
    "  y = target.default_event_space_bijector(x)\n",
    "  fldj = target.default_event_space_bijector.forward_log_det_jacobian(x)\n",
    "  return target.unnormalized_log_prob(y) + fldj\n",
    "\n",
    "# NOTE: use a large factor to get overdispered initializations.\n",
    "# NOTE: don't set offset to 0 when the target mean is 0.\n",
    "# CHECK: what scale should we use? Poor inits can make the problem much more\n",
    "# difficult.\n",
    "# NOTE: we probably want inits that allow us to get decent estimates\n",
    "# in the long regime\n",
    "\n",
    "# if (problem_name == 'Bananas'):\n",
    "if (problem_name == 'Bananas'):\n",
    "  offset = 2\n",
    "  def initialize (shape, key = random.PRNGKey(37272709)):\n",
    "    return 3 * random.normal(key, shape + (num_dimensions,)) + offset\n",
    "\n",
    "if (problem_name == 'GermanCredit'):\n",
    "  offset = 0.1\n",
    "  def initialize (shape, key = random.PRNGKey(37272709)):\n",
    "    return 0.5 * random.normal(key, shape + (num_dimensions,)) + offset\n"
   ]
  },
  {
   "cell_type": "code",
   "execution_count": null,
   "metadata": {},
   "outputs": [],
   "source": []
  }
 ],
 "metadata": {
  "kernelspec": {
   "display_name": "Python 3",
   "language": "python",
   "name": "python3"
  },
  "language_info": {
   "codemirror_mode": {
    "name": "ipython",
    "version": 3
   },
   "file_extension": ".py",
   "mimetype": "text/x-python",
   "name": "python",
   "nbconvert_exporter": "python",
   "pygments_lexer": "ipython3",
   "version": "3.9.15"
  },
  "orig_nbformat": 4
 },
 "nbformat": 4,
 "nbformat_minor": 2
}
